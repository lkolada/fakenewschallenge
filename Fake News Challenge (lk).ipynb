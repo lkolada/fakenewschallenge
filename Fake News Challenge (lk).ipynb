{
 "cells": [
  {
   "cell_type": "code",
   "execution_count": 1,
   "metadata": {
    "collapsed": true
   },
   "outputs": [],
   "source": [
    "# Importing general libraries\n",
    "import numpy as np\n",
    "import pandas as pd\n",
    "import matplotlib.pyplot as plt\n",
    "%matplotlib inline\n",
    "import re\n",
    "import time\n",
    "from pprint import pprint\n",
    "from collections import Counter\n",
    "\n",
    "# Importing libraries for data processing\n",
    "from nltk import FreqDist, word_tokenize\n",
    "from sklearn.feature_extraction.text import TfidfVectorizer\n",
    "from sklearn.metrics.pairwise import cosine_similarity\n",
    "\n",
    "# Importing libraries for modeling\n",
    "from sklearn.tree import DecisionTreeClassifier, ExtraTreeClassifier\n",
    "from sklearn.linear_model import LogisticRegression \n",
    "from sklearn.naive_bayes import BernoulliNB, GaussianNB\n",
    "from sklearn.ensemble import RandomForestClassifier, VotingClassifier\n",
    "from sklearn.discriminant_analysis import QuadraticDiscriminantAnalysis\n",
    "from sklearn.svm import LinearSVC\n",
    "from sklearn import metrics\n",
    "from sklearn.model_selection import GridSearchCV"
   ]
  },
  {
   "cell_type": "markdown",
   "metadata": {},
   "source": [
    "# Exploratory Data Analysis"
   ]
  },
  {
   "cell_type": "code",
   "execution_count": 2,
   "metadata": {
    "collapsed": false
   },
   "outputs": [],
   "source": [
    "# Data is splited already on train / test sets\n",
    "train_heads = pd.read_csv('data\\\\train_stances.csv')\n",
    "train_bodies = pd.read_csv('data\\\\train_bodies.csv')\n",
    "test_heads = pd.read_csv('data\\\\competition_test_stances.csv')\n",
    "test_bodies = pd.read_csv('data\\\\competition_test_bodies.csv')"
   ]
  },
  {
   "cell_type": "markdown",
   "metadata": {
    "collapsed": false
   },
   "source": [
    "### Investigating train set"
   ]
  },
  {
   "cell_type": "code",
   "execution_count": 3,
   "metadata": {
    "collapsed": false
   },
   "outputs": [
    {
     "data": {
      "text/html": [
       "<div>\n",
       "<style>\n",
       "    .dataframe thead tr:only-child th {\n",
       "        text-align: right;\n",
       "    }\n",
       "\n",
       "    .dataframe thead th {\n",
       "        text-align: left;\n",
       "    }\n",
       "\n",
       "    .dataframe tbody tr th {\n",
       "        vertical-align: top;\n",
       "    }\n",
       "</style>\n",
       "<table border=\"1\" class=\"dataframe\">\n",
       "  <thead>\n",
       "    <tr style=\"text-align: right;\">\n",
       "      <th></th>\n",
       "      <th>Headline</th>\n",
       "      <th>Body ID</th>\n",
       "      <th>Stance</th>\n",
       "    </tr>\n",
       "  </thead>\n",
       "  <tbody>\n",
       "    <tr>\n",
       "      <th>0</th>\n",
       "      <td>Police find mass graves with at least '15 bodi...</td>\n",
       "      <td>712</td>\n",
       "      <td>unrelated</td>\n",
       "    </tr>\n",
       "    <tr>\n",
       "      <th>1</th>\n",
       "      <td>Hundreds of Palestinians flee floods in Gaza a...</td>\n",
       "      <td>158</td>\n",
       "      <td>agree</td>\n",
       "    </tr>\n",
       "    <tr>\n",
       "      <th>2</th>\n",
       "      <td>Christian Bale passes on role of Steve Jobs, a...</td>\n",
       "      <td>137</td>\n",
       "      <td>unrelated</td>\n",
       "    </tr>\n",
       "    <tr>\n",
       "      <th>3</th>\n",
       "      <td>HBO and Apple in Talks for $15/Month Apple TV ...</td>\n",
       "      <td>1034</td>\n",
       "      <td>unrelated</td>\n",
       "    </tr>\n",
       "    <tr>\n",
       "      <th>4</th>\n",
       "      <td>Spider burrowed through tourist's stomach and ...</td>\n",
       "      <td>1923</td>\n",
       "      <td>disagree</td>\n",
       "    </tr>\n",
       "  </tbody>\n",
       "</table>\n",
       "</div>"
      ],
      "text/plain": [
       "                                            Headline  Body ID     Stance\n",
       "0  Police find mass graves with at least '15 bodi...      712  unrelated\n",
       "1  Hundreds of Palestinians flee floods in Gaza a...      158      agree\n",
       "2  Christian Bale passes on role of Steve Jobs, a...      137  unrelated\n",
       "3  HBO and Apple in Talks for $15/Month Apple TV ...     1034  unrelated\n",
       "4  Spider burrowed through tourist's stomach and ...     1923   disagree"
      ]
     },
     "execution_count": 3,
     "metadata": {},
     "output_type": "execute_result"
    }
   ],
   "source": [
    "train_heads.head()"
   ]
  },
  {
   "cell_type": "code",
   "execution_count": 4,
   "metadata": {
    "collapsed": false
   },
   "outputs": [
    {
     "name": "stdout",
     "output_type": "stream",
     "text": [
      "<class 'pandas.core.frame.DataFrame'>\n",
      "RangeIndex: 49972 entries, 0 to 49971\n",
      "Data columns (total 3 columns):\n",
      "Headline    49972 non-null object\n",
      "Body ID     49972 non-null int64\n",
      "Stance      49972 non-null object\n",
      "dtypes: int64(1), object(2)\n",
      "memory usage: 1.1+ MB\n"
     ]
    }
   ],
   "source": [
    "train_heads.info()"
   ]
  },
  {
   "cell_type": "code",
   "execution_count": 5,
   "metadata": {
    "collapsed": false
   },
   "outputs": [
    {
     "data": {
      "text/plain": [
       "count                                             49972\n",
       "unique                                             1648\n",
       "top       ISIL Beheads American Photojournalist in Iraq\n",
       "freq                                                127\n",
       "Name: Headline, dtype: object"
      ]
     },
     "execution_count": 5,
     "metadata": {},
     "output_type": "execute_result"
    }
   ],
   "source": [
    "train_heads.Headline.describe()"
   ]
  },
  {
   "cell_type": "code",
   "execution_count": 6,
   "metadata": {
    "collapsed": false
   },
   "outputs": [
    {
     "data": {
      "text/plain": [
       "1683"
      ]
     },
     "execution_count": 6,
     "metadata": {},
     "output_type": "execute_result"
    }
   ],
   "source": [
    "len(set(train_heads['Body ID']))"
   ]
  },
  {
   "cell_type": "code",
   "execution_count": 7,
   "metadata": {
    "collapsed": false,
    "scrolled": true
   },
   "outputs": [
    {
     "data": {
      "text/plain": [
       "1921    187\n",
       "1948    175\n",
       "40      172\n",
       "524     171\n",
       "1549    166\n",
       "304     154\n",
       "1385    151\n",
       "125     145\n",
       "2367    143\n",
       "220     141\n",
       "1438    141\n",
       "195     140\n",
       "2296    136\n",
       "35      131\n",
       "1786    131\n",
       "1883    131\n",
       "2520    127\n",
       "1034    127\n",
       "2252    126\n",
       "1574    125\n",
       "2307    125\n",
       "527     125\n",
       "2175    124\n",
       "1627    123\n",
       "2404    123\n",
       "1289    122\n",
       "2115    121\n",
       "2096    120\n",
       "1040    118\n",
       "1893    117\n",
       "       ... \n",
       "907       1\n",
       "370       1\n",
       "210       1\n",
       "146       1\n",
       "114       1\n",
       "1542      1\n",
       "63        1\n",
       "76        1\n",
       "390       1\n",
       "515       1\n",
       "193       1\n",
       "464       1\n",
       "355       1\n",
       "323       1\n",
       "624       1\n",
       "282       1\n",
       "18        1\n",
       "797       1\n",
       "701       1\n",
       "362       1\n",
       "2311      1\n",
       "6         1\n",
       "915       1\n",
       "70        1\n",
       "151       1\n",
       "376       1\n",
       "140       1\n",
       "307       1\n",
       "1066      1\n",
       "59        1\n",
       "Name: Body ID, Length: 1683, dtype: int64"
      ]
     },
     "execution_count": 7,
     "metadata": {},
     "output_type": "execute_result"
    }
   ],
   "source": [
    "train_heads['Body ID'].value_counts()"
   ]
  },
  {
   "cell_type": "code",
   "execution_count": 8,
   "metadata": {
    "collapsed": false
   },
   "outputs": [
    {
     "data": {
      "text/html": [
       "<div>\n",
       "<style>\n",
       "    .dataframe thead tr:only-child th {\n",
       "        text-align: right;\n",
       "    }\n",
       "\n",
       "    .dataframe thead th {\n",
       "        text-align: left;\n",
       "    }\n",
       "\n",
       "    .dataframe tbody tr th {\n",
       "        vertical-align: top;\n",
       "    }\n",
       "</style>\n",
       "<table border=\"1\" class=\"dataframe\">\n",
       "  <thead>\n",
       "    <tr style=\"text-align: right;\">\n",
       "      <th></th>\n",
       "      <th>Body ID</th>\n",
       "      <th>articleBody</th>\n",
       "    </tr>\n",
       "  </thead>\n",
       "  <tbody>\n",
       "    <tr>\n",
       "      <th>0</th>\n",
       "      <td>0</td>\n",
       "      <td>A small meteorite crashed into a wooded area i...</td>\n",
       "    </tr>\n",
       "    <tr>\n",
       "      <th>1</th>\n",
       "      <td>4</td>\n",
       "      <td>Last week we hinted at what was to come as Ebo...</td>\n",
       "    </tr>\n",
       "    <tr>\n",
       "      <th>2</th>\n",
       "      <td>5</td>\n",
       "      <td>(NEWSER) – Wonder how long a Quarter Pounder w...</td>\n",
       "    </tr>\n",
       "    <tr>\n",
       "      <th>3</th>\n",
       "      <td>6</td>\n",
       "      <td>Posting photos of a gun-toting child online, I...</td>\n",
       "    </tr>\n",
       "    <tr>\n",
       "      <th>4</th>\n",
       "      <td>7</td>\n",
       "      <td>At least 25 suspected Boko Haram insurgents we...</td>\n",
       "    </tr>\n",
       "  </tbody>\n",
       "</table>\n",
       "</div>"
      ],
      "text/plain": [
       "   Body ID                                        articleBody\n",
       "0        0  A small meteorite crashed into a wooded area i...\n",
       "1        4  Last week we hinted at what was to come as Ebo...\n",
       "2        5  (NEWSER) – Wonder how long a Quarter Pounder w...\n",
       "3        6  Posting photos of a gun-toting child online, I...\n",
       "4        7  At least 25 suspected Boko Haram insurgents we..."
      ]
     },
     "execution_count": 8,
     "metadata": {},
     "output_type": "execute_result"
    }
   ],
   "source": [
    "train_bodies.head()"
   ]
  },
  {
   "cell_type": "code",
   "execution_count": 9,
   "metadata": {
    "collapsed": false
   },
   "outputs": [
    {
     "name": "stdout",
     "output_type": "stream",
     "text": [
      "<class 'pandas.core.frame.DataFrame'>\n",
      "RangeIndex: 1683 entries, 0 to 1682\n",
      "Data columns (total 2 columns):\n",
      "Body ID        1683 non-null int64\n",
      "articleBody    1683 non-null object\n",
      "dtypes: int64(1), object(1)\n",
      "memory usage: 26.4+ KB\n"
     ]
    }
   ],
   "source": [
    "train_bodies.info()"
   ]
  },
  {
   "cell_type": "code",
   "execution_count": 10,
   "metadata": {
    "collapsed": false
   },
   "outputs": [
    {
     "data": {
      "text/plain": [
       "count                                                  1683\n",
       "unique                                                 1669\n",
       "top       A rumor on Tuesday claims Apple's upcoming App...\n",
       "freq                                                      2\n",
       "Name: articleBody, dtype: object"
      ]
     },
     "execution_count": 10,
     "metadata": {},
     "output_type": "execute_result"
    }
   ],
   "source": [
    "train_bodies.articleBody.describe()"
   ]
  },
  {
   "cell_type": "code",
   "execution_count": 11,
   "metadata": {
    "collapsed": false
   },
   "outputs": [
    {
     "data": {
      "text/plain": [
       "1683"
      ]
     },
     "execution_count": 11,
     "metadata": {},
     "output_type": "execute_result"
    }
   ],
   "source": [
    "len(set(train_bodies['Body ID']))"
   ]
  },
  {
   "cell_type": "code",
   "execution_count": 12,
   "metadata": {
    "collapsed": false
   },
   "outputs": [
    {
     "data": {
      "text/plain": [
       "True"
      ]
     },
     "execution_count": 12,
     "metadata": {},
     "output_type": "execute_result"
    }
   ],
   "source": [
    "set(train_bodies['Body ID']) == set(train_heads['Body ID'])"
   ]
  },
  {
   "cell_type": "markdown",
   "metadata": {},
   "source": [
    "### Investigating test set"
   ]
  },
  {
   "cell_type": "code",
   "execution_count": 13,
   "metadata": {
    "collapsed": false
   },
   "outputs": [
    {
     "data": {
      "text/html": [
       "<div>\n",
       "<style>\n",
       "    .dataframe thead tr:only-child th {\n",
       "        text-align: right;\n",
       "    }\n",
       "\n",
       "    .dataframe thead th {\n",
       "        text-align: left;\n",
       "    }\n",
       "\n",
       "    .dataframe tbody tr th {\n",
       "        vertical-align: top;\n",
       "    }\n",
       "</style>\n",
       "<table border=\"1\" class=\"dataframe\">\n",
       "  <thead>\n",
       "    <tr style=\"text-align: right;\">\n",
       "      <th></th>\n",
       "      <th>Headline</th>\n",
       "      <th>Body ID</th>\n",
       "      <th>Stance</th>\n",
       "    </tr>\n",
       "  </thead>\n",
       "  <tbody>\n",
       "    <tr>\n",
       "      <th>0</th>\n",
       "      <td>Ferguson riots: Pregnant woman loses eye after...</td>\n",
       "      <td>2008</td>\n",
       "      <td>unrelated</td>\n",
       "    </tr>\n",
       "    <tr>\n",
       "      <th>1</th>\n",
       "      <td>Crazy Conservatives Are Sure a Gitmo Detainee ...</td>\n",
       "      <td>1550</td>\n",
       "      <td>unrelated</td>\n",
       "    </tr>\n",
       "    <tr>\n",
       "      <th>2</th>\n",
       "      <td>A Russian Guy Says His Justin Bieber Ringtone ...</td>\n",
       "      <td>2</td>\n",
       "      <td>unrelated</td>\n",
       "    </tr>\n",
       "    <tr>\n",
       "      <th>3</th>\n",
       "      <td>Zombie Cat: Buried Kitty Believed Dead, Meows ...</td>\n",
       "      <td>1793</td>\n",
       "      <td>unrelated</td>\n",
       "    </tr>\n",
       "    <tr>\n",
       "      <th>4</th>\n",
       "      <td>Argentina's President Adopts Boy to End Werewo...</td>\n",
       "      <td>37</td>\n",
       "      <td>unrelated</td>\n",
       "    </tr>\n",
       "  </tbody>\n",
       "</table>\n",
       "</div>"
      ],
      "text/plain": [
       "                                            Headline  Body ID     Stance\n",
       "0  Ferguson riots: Pregnant woman loses eye after...     2008  unrelated\n",
       "1  Crazy Conservatives Are Sure a Gitmo Detainee ...     1550  unrelated\n",
       "2  A Russian Guy Says His Justin Bieber Ringtone ...        2  unrelated\n",
       "3  Zombie Cat: Buried Kitty Believed Dead, Meows ...     1793  unrelated\n",
       "4  Argentina's President Adopts Boy to End Werewo...       37  unrelated"
      ]
     },
     "execution_count": 13,
     "metadata": {},
     "output_type": "execute_result"
    }
   ],
   "source": [
    "test_heads.head()"
   ]
  },
  {
   "cell_type": "code",
   "execution_count": 14,
   "metadata": {
    "collapsed": false
   },
   "outputs": [
    {
     "name": "stdout",
     "output_type": "stream",
     "text": [
      "<class 'pandas.core.frame.DataFrame'>\n",
      "RangeIndex: 25413 entries, 0 to 25412\n",
      "Data columns (total 3 columns):\n",
      "Headline    25413 non-null object\n",
      "Body ID     25413 non-null int64\n",
      "Stance      25413 non-null object\n",
      "dtypes: int64(1), object(2)\n",
      "memory usage: 595.7+ KB\n"
     ]
    }
   ],
   "source": [
    "test_heads.info()"
   ]
  },
  {
   "cell_type": "code",
   "execution_count": 15,
   "metadata": {
    "collapsed": false
   },
   "outputs": [
    {
     "data": {
      "text/plain": [
       "count                                           25413\n",
       "unique                                            894\n",
       "top       Source: Joan Rivers' doc did biopsy, selfie\n",
       "freq                                              160\n",
       "Name: Headline, dtype: object"
      ]
     },
     "execution_count": 15,
     "metadata": {},
     "output_type": "execute_result"
    }
   ],
   "source": [
    "test_heads.Headline.describe()"
   ]
  },
  {
   "cell_type": "code",
   "execution_count": 16,
   "metadata": {
    "collapsed": false
   },
   "outputs": [
    {
     "data": {
      "text/plain": [
       "904"
      ]
     },
     "execution_count": 16,
     "metadata": {},
     "output_type": "execute_result"
    }
   ],
   "source": [
    "len(set(test_heads['Body ID']))"
   ]
  },
  {
   "cell_type": "code",
   "execution_count": 17,
   "metadata": {
    "collapsed": false,
    "scrolled": true
   },
   "outputs": [
    {
     "data": {
      "text/plain": [
       "1373    161\n",
       "2383    136\n",
       "338     132\n",
       "1639    123\n",
       "1394    122\n",
       "1765    119\n",
       "2512    115\n",
       "1454    110\n",
       "2427    108\n",
       "1275    103\n",
       "1770    103\n",
       "3       103\n",
       "274     103\n",
       "2233    102\n",
       "535     101\n",
       "2320    101\n",
       "1272     98\n",
       "2279     97\n",
       "1431     97\n",
       "1754     97\n",
       "1386     94\n",
       "934      93\n",
       "2289     92\n",
       "1326     91\n",
       "1102     91\n",
       "2491     90\n",
       "2040     89\n",
       "758      87\n",
       "1886     87\n",
       "1851     87\n",
       "       ... \n",
       "590       1\n",
       "66        1\n",
       "857       1\n",
       "310       1\n",
       "770       1\n",
       "278       1\n",
       "102       1\n",
       "642       1\n",
       "64        1\n",
       "270       1\n",
       "1230      1\n",
       "237       1\n",
       "496       1\n",
       "131       1\n",
       "184       1\n",
       "49        1\n",
       "165       1\n",
       "287       1\n",
       "543       1\n",
       "191       1\n",
       "380       1\n",
       "309       1\n",
       "127       1\n",
       "436       1\n",
       "421       1\n",
       "31        1\n",
       "849       1\n",
       "71        1\n",
       "106       1\n",
       "306       1\n",
       "Name: Body ID, Length: 904, dtype: int64"
      ]
     },
     "execution_count": 17,
     "metadata": {},
     "output_type": "execute_result"
    }
   ],
   "source": [
    "test_heads['Body ID'].value_counts()"
   ]
  },
  {
   "cell_type": "code",
   "execution_count": 18,
   "metadata": {
    "collapsed": false
   },
   "outputs": [
    {
     "data": {
      "text/html": [
       "<div>\n",
       "<style>\n",
       "    .dataframe thead tr:only-child th {\n",
       "        text-align: right;\n",
       "    }\n",
       "\n",
       "    .dataframe thead th {\n",
       "        text-align: left;\n",
       "    }\n",
       "\n",
       "    .dataframe tbody tr th {\n",
       "        vertical-align: top;\n",
       "    }\n",
       "</style>\n",
       "<table border=\"1\" class=\"dataframe\">\n",
       "  <thead>\n",
       "    <tr style=\"text-align: right;\">\n",
       "      <th></th>\n",
       "      <th>Body ID</th>\n",
       "      <th>articleBody</th>\n",
       "    </tr>\n",
       "  </thead>\n",
       "  <tbody>\n",
       "    <tr>\n",
       "      <th>0</th>\n",
       "      <td>1</td>\n",
       "      <td>Al-Sisi has denied Israeli reports stating tha...</td>\n",
       "    </tr>\n",
       "    <tr>\n",
       "      <th>1</th>\n",
       "      <td>2</td>\n",
       "      <td>A bereaved Afghan mother took revenge on the T...</td>\n",
       "    </tr>\n",
       "    <tr>\n",
       "      <th>2</th>\n",
       "      <td>3</td>\n",
       "      <td>CNBC is reporting Tesla has chosen Nevada as t...</td>\n",
       "    </tr>\n",
       "    <tr>\n",
       "      <th>3</th>\n",
       "      <td>12</td>\n",
       "      <td>A 4-inch version of the iPhone 6 is said to be...</td>\n",
       "    </tr>\n",
       "    <tr>\n",
       "      <th>4</th>\n",
       "      <td>19</td>\n",
       "      <td>GR editor’s Note\\n\\nThere are no reports in th...</td>\n",
       "    </tr>\n",
       "  </tbody>\n",
       "</table>\n",
       "</div>"
      ],
      "text/plain": [
       "   Body ID                                        articleBody\n",
       "0        1  Al-Sisi has denied Israeli reports stating tha...\n",
       "1        2  A bereaved Afghan mother took revenge on the T...\n",
       "2        3  CNBC is reporting Tesla has chosen Nevada as t...\n",
       "3       12  A 4-inch version of the iPhone 6 is said to be...\n",
       "4       19  GR editor’s Note\\n\\nThere are no reports in th..."
      ]
     },
     "execution_count": 18,
     "metadata": {},
     "output_type": "execute_result"
    }
   ],
   "source": [
    "test_bodies.head()"
   ]
  },
  {
   "cell_type": "code",
   "execution_count": 19,
   "metadata": {
    "collapsed": false
   },
   "outputs": [
    {
     "name": "stdout",
     "output_type": "stream",
     "text": [
      "<class 'pandas.core.frame.DataFrame'>\n",
      "RangeIndex: 904 entries, 0 to 903\n",
      "Data columns (total 2 columns):\n",
      "Body ID        904 non-null int64\n",
      "articleBody    904 non-null object\n",
      "dtypes: int64(1), object(1)\n",
      "memory usage: 14.2+ KB\n"
     ]
    }
   ],
   "source": [
    "test_bodies.info()"
   ]
  },
  {
   "cell_type": "code",
   "execution_count": 20,
   "metadata": {
    "collapsed": false
   },
   "outputs": [
    {
     "data": {
      "text/plain": [
       "count                                                   904\n",
       "unique                                                  900\n",
       "top       A Grade 4 student was reportedly suspended fro...\n",
       "freq                                                      2\n",
       "Name: articleBody, dtype: object"
      ]
     },
     "execution_count": 20,
     "metadata": {},
     "output_type": "execute_result"
    }
   ],
   "source": [
    "test_bodies.articleBody.describe()"
   ]
  },
  {
   "cell_type": "code",
   "execution_count": 21,
   "metadata": {
    "collapsed": false
   },
   "outputs": [
    {
     "data": {
      "text/plain": [
       "904"
      ]
     },
     "execution_count": 21,
     "metadata": {},
     "output_type": "execute_result"
    }
   ],
   "source": [
    "len(set(test_bodies['Body ID']))"
   ]
  },
  {
   "cell_type": "code",
   "execution_count": 22,
   "metadata": {
    "collapsed": false
   },
   "outputs": [
    {
     "data": {
      "text/plain": [
       "True"
      ]
     },
     "execution_count": 22,
     "metadata": {},
     "output_type": "execute_result"
    }
   ],
   "source": [
    "set(test_heads['Body ID']) == set(test_bodies['Body ID'])"
   ]
  },
  {
   "cell_type": "markdown",
   "metadata": {},
   "source": [
    "### Counting the classes"
   ]
  },
  {
   "cell_type": "code",
   "execution_count": 23,
   "metadata": {
    "collapsed": true
   },
   "outputs": [],
   "source": [
    "def number_of_classes(dataframe, column='Stance'):\n",
    "    no_stances = Counter(dataframe[column])\n",
    "    stances_data = pd.DataFrame.from_dict(no_stances, orient='index')\n",
    "    stances_data.columns = ['count']\n",
    "    stances_data = stances_data.sort_values(['count'], ascending=False)\n",
    "    total_no_counts = 0\n",
    "    for index, row in stances_data.iterrows():\n",
    "        total_no_counts += row['count']\n",
    "    stances_data['%counts'] = round(stances_data['count']/total_no_counts*100)\n",
    "    stances_data['count'].plot(kind='bar')\n",
    "    print(stances_data)"
   ]
  },
  {
   "cell_type": "code",
   "execution_count": 24,
   "metadata": {
    "collapsed": false
   },
   "outputs": [
    {
     "name": "stdout",
     "output_type": "stream",
     "text": [
      "           count  %counts\n",
      "unrelated  36545     73.0\n",
      "discuss     8909     18.0\n",
      "agree       3678      7.0\n",
      "disagree     840      2.0\n"
     ]
    },
    {
     "data": {
      "image/png": "[encoded data removed]",
      "text/plain": [
       "<matplotlib.figure.Figure at 0x1c2a7952f28>"
      ]
     },
     "metadata": {},
     "output_type": "display_data"
    }
   ],
   "source": [
    "number_of_classes(train_heads)"
   ]
  },
  {
   "cell_type": "code",
   "execution_count": 25,
   "metadata": {
    "collapsed": false
   },
   "outputs": [
    {
     "name": "stdout",
     "output_type": "stream",
     "text": [
      "           count  %counts\n",
      "unrelated  18349     72.0\n",
      "discuss     4464     18.0\n",
      "agree       1903      7.0\n",
      "disagree     697      3.0\n"
     ]
    },
    {
     "data": {
      "image/png": "[encoded data removed]",
      "text/plain": [
       "<matplotlib.figure.Figure at 0x1c2a78acf28>"
      ]
     },
     "metadata": {},
     "output_type": "display_data"
    }
   ],
   "source": [
    "number_of_classes(test_heads)"
   ]
  },
  {
   "cell_type": "raw",
   "metadata": {},
   "source": [
    "Conclusions:\n",
    "There are more headlines than article bodies.\n",
    "Therefore, one article is used for multiple headlines.\n",
    "There is much more unrelated pairs (72-73%) than any other class.\n",
    "On the other hand, class disagree is underrepresented (2-3%).\n",
    "\n",
    "To dos:\n",
    "1. Preprocessing the data - removing punctation, leaving only words, lowering words, removing stop words - that step for both train and test sets.\n",
    "2. Getting unique headlines and article bodies. Model will be based on most popular words: hence, if articles repeats themselves we must select only those which are unique. This step is necessary only for train set.\n",
    "3. Getting the list of the most common words - that's on what the model will be built. This step is necessary only for train set.\n",
    "4 Transforming headlines and article bodies into vectors that later will be used in the classification models. Each row (observation or headline + arcticle body pair) will be transformed into matrix that is built on:\n",
    "- term frequency (n most popular words) of Headlines \n",
    "- term frequency (n most popular words) of Article Bodies\n",
    "- TFIDF cosine similarity of TFIDF of Headlines and TFIDF of Article Bodies.\n",
    "All these elements will be merge and transform into matrix, which later will be "
   ]
  },
  {
   "cell_type": "markdown",
   "metadata": {},
   "source": [
    "# Data Processing"
   ]
  },
  {
   "cell_type": "raw",
   "metadata": {},
   "source": [
    "Initialise fuctions for data processing (explained above)"
   ]
  },
  {
   "cell_type": "code",
   "execution_count": 26,
   "metadata": {
    "collapsed": false,
    "scrolled": true
   },
   "outputs": [],
   "source": [
    "# Loading English stopwords\n",
    "f = open('data\\stopwords-en.txt', 'r')\n",
    "english_stop_words = f.read().split('\\n')\n",
    "f.close()"
   ]
  },
  {
   "cell_type": "code",
   "execution_count": 27,
   "metadata": {
    "collapsed": true
   },
   "outputs": [],
   "source": [
    "# Initialising fuction for text processing (leaving only alphabetic characters, lowercase, removing stopwords)\n",
    "def preprocessing(data, column):\n",
    "    table = []\n",
    "    table = [re.sub(\"[^a-zA-Z]\", \" \",str(a)) for a in data[column]]\n",
    "    table = [word_tokenize(a) for a in table]\n",
    "    table = [[w.lower() for w in a] for a in table]\n",
    "    table = [[w for w in a if w not in english_stop_words] for a in table]\n",
    "    table = [' '.join(x) for x in table]\n",
    "    data[column] = table"
   ]
  },
  {
   "cell_type": "code",
   "execution_count": 28,
   "metadata": {
    "collapsed": true
   },
   "outputs": [],
   "source": [
    "# Initialising fuction for merging Headline and Article Body datasets\n",
    "def merge_data(data1, data2, left_on=['Body ID'], right_on=['Body ID']):\n",
    "    full_data = pd.merge(data1, data2,  how='inner', left_on=['Body ID'], right_on=['Body ID'])\n",
    "    return full_data"
   ]
  },
  {
   "cell_type": "code",
   "execution_count": 29,
   "metadata": {
    "collapsed": true
   },
   "outputs": [],
   "source": [
    "# Initialising fuction for selecting unique headlines and article bodies\n",
    "def get_unique_strings(dataframe, colname1='Headline', colname2='articleBody'):\n",
    "    unique_strings = []\n",
    "    for index, row in dataframe.iterrows():\n",
    "        if row[colname1] not in unique_strings:\n",
    "            unique_strings.append(row[colname1])\n",
    "        if row[colname2] not in unique_strings:\n",
    "            unique_strings.append(row[colname2])\n",
    "    return unique_strings"
   ]
  },
  {
   "cell_type": "code",
   "execution_count": 30,
   "metadata": {
    "collapsed": true
   },
   "outputs": [],
   "source": [
    "# Counting total number of unique words\n",
    "def number_of_uniqe_words(list_of_text):\n",
    "    tokens = []\n",
    "    for i in list_of_text:\n",
    "        tokens.extend(word_tokenize(i))\n",
    "    freq = FreqDist(tokens)\n",
    "    number_of_words = len(freq)\n",
    "    return number_of_words"
   ]
  },
  {
   "cell_type": "code",
   "execution_count": 31,
   "metadata": {
    "collapsed": true
   },
   "outputs": [],
   "source": [
    "# Initialising fuction for changing text to vectors\n",
    "def process_data(unique_strings, n_words, dataframe):\n",
    "    tfvectorizer = TfidfVectorizer(max_features=n_words, use_idf=False).fit(unique_strings)\n",
    "    tfidfvectorizer = TfidfVectorizer(max_features=n_words, use_idf=True).fit(unique_strings)\n",
    "    data = []\n",
    "    for index, row in dataframe.iterrows():\n",
    "        head = row['Headline']\n",
    "        body = row['articleBody']\n",
    "        head_tf = tfvectorizer.transform([head]).toarray().reshape(1, -1)\n",
    "        body_tf = tfvectorizer.transform([body]).toarray().reshape(1, -1)\n",
    "        head_tfidf = tfidfvectorizer.transform([head]).toarray()\n",
    "        body_tfidf = tfidfvectorizer.transform([body]).toarray()\n",
    "        tfidf_cos = cosine_similarity(head_tfidf, body_tfidf).reshape(1, -1)\n",
    "        feat_vec = np.squeeze(np.c_[head_tf, body_tf, tfidf_cos])\n",
    "        data.append(feat_vec)\n",
    "    data = np.array(data)\n",
    "    return data"
   ]
  },
  {
   "cell_type": "code",
   "execution_count": 32,
   "metadata": {
    "collapsed": true
   },
   "outputs": [],
   "source": [
    "pd.options.display.max_colwidth = 600"
   ]
  },
  {
   "cell_type": "code",
   "execution_count": 33,
   "metadata": {
    "collapsed": true
   },
   "outputs": [],
   "source": [
    "unprocessed_train = merge_data(train_heads, train_bodies)"
   ]
  },
  {
   "cell_type": "code",
   "execution_count": 34,
   "metadata": {
    "collapsed": false
   },
   "outputs": [
    {
     "data": {
      "text/html": [
       "<div>\n",
       "<style>\n",
       "    .dataframe thead tr:only-child th {\n",
       "        text-align: right;\n",
       "    }\n",
       "\n",
       "    .dataframe thead th {\n",
       "        text-align: left;\n",
       "    }\n",
       "\n",
       "    .dataframe tbody tr th {\n",
       "        vertical-align: top;\n",
       "    }\n",
       "</style>\n",
       "<table border=\"1\" class=\"dataframe\">\n",
       "  <thead>\n",
       "    <tr style=\"text-align: right;\">\n",
       "      <th></th>\n",
       "      <th>Headline</th>\n",
       "      <th>Body ID</th>\n",
       "      <th>Stance</th>\n",
       "      <th>articleBody</th>\n",
       "    </tr>\n",
       "  </thead>\n",
       "  <tbody>\n",
       "    <tr>\n",
       "      <th>13581</th>\n",
       "      <td>Apple Media Event Rumored for Late February, Apple Watch and 12\" MacBook Air Likely Topics [Updated]</td>\n",
       "      <td>1403</td>\n",
       "      <td>unrelated</td>\n",
       "      <td>Reports that Comcast will deny Internet service to users of the Tor Internet browser are false, the company says in a new blog post. The browser lets users surf the web with a higher degree of anonymity, making it more difficult for hackers (or the government) to follow them around the Internet.\\n\\nComcast’s Jason Livingood wrote in today’s post:\\n\\nComcast is not asking customers to stop using Tor, or any other browser for that matter. We have no policy against Tor, or any other browser or software. Customers are free to use their Xfinity Internet service to visit any website, use any app...</td>\n",
       "    </tr>\n",
       "    <tr>\n",
       "      <th>13582</th>\n",
       "      <td>Attorney: New audio reveals pause in gunfire when Michael Brown was shot</td>\n",
       "      <td>1403</td>\n",
       "      <td>unrelated</td>\n",
       "      <td>Reports that Comcast will deny Internet service to users of the Tor Internet browser are false, the company says in a new blog post. The browser lets users surf the web with a higher degree of anonymity, making it more difficult for hackers (or the government) to follow them around the Internet.\\n\\nComcast’s Jason Livingood wrote in today’s post:\\n\\nComcast is not asking customers to stop using Tor, or any other browser for that matter. We have no policy against Tor, or any other browser or software. Customers are free to use their Xfinity Internet service to visit any website, use any app...</td>\n",
       "    </tr>\n",
       "    <tr>\n",
       "      <th>13583</th>\n",
       "      <td>FBI Probing Alleged Audio of Michael Brown Shooting</td>\n",
       "      <td>1403</td>\n",
       "      <td>unrelated</td>\n",
       "      <td>Reports that Comcast will deny Internet service to users of the Tor Internet browser are false, the company says in a new blog post. The browser lets users surf the web with a higher degree of anonymity, making it more difficult for hackers (or the government) to follow them around the Internet.\\n\\nComcast’s Jason Livingood wrote in today’s post:\\n\\nComcast is not asking customers to stop using Tor, or any other browser for that matter. We have no policy against Tor, or any other browser or software. Customers are free to use their Xfinity Internet service to visit any website, use any app...</td>\n",
       "    </tr>\n",
       "    <tr>\n",
       "      <th>13584</th>\n",
       "      <td>CNN Plays Alleged Audiotape of Michael Brown ShootingMilitarization Of Police</td>\n",
       "      <td>1403</td>\n",
       "      <td>unrelated</td>\n",
       "      <td>Reports that Comcast will deny Internet service to users of the Tor Internet browser are false, the company says in a new blog post. The browser lets users surf the web with a higher degree of anonymity, making it more difficult for hackers (or the government) to follow them around the Internet.\\n\\nComcast’s Jason Livingood wrote in today’s post:\\n\\nComcast is not asking customers to stop using Tor, or any other browser for that matter. We have no policy against Tor, or any other browser or software. Customers are free to use their Xfinity Internet service to visit any website, use any app...</td>\n",
       "    </tr>\n",
       "    <tr>\n",
       "      <th>13585</th>\n",
       "      <td>Audio captured at time of Michael Brown shooting, company says</td>\n",
       "      <td>1403</td>\n",
       "      <td>unrelated</td>\n",
       "      <td>Reports that Comcast will deny Internet service to users of the Tor Internet browser are false, the company says in a new blog post. The browser lets users surf the web with a higher degree of anonymity, making it more difficult for hackers (or the government) to follow them around the Internet.\\n\\nComcast’s Jason Livingood wrote in today’s post:\\n\\nComcast is not asking customers to stop using Tor, or any other browser for that matter. We have no policy against Tor, or any other browser or software. Customers are free to use their Xfinity Internet service to visit any website, use any app...</td>\n",
       "    </tr>\n",
       "    <tr>\n",
       "      <th>13586</th>\n",
       "      <td>Audio recording allegedly captures moment Michael Brown was shot</td>\n",
       "      <td>1403</td>\n",
       "      <td>unrelated</td>\n",
       "      <td>Reports that Comcast will deny Internet service to users of the Tor Internet browser are false, the company says in a new blog post. The browser lets users surf the web with a higher degree of anonymity, making it more difficult for hackers (or the government) to follow them around the Internet.\\n\\nComcast’s Jason Livingood wrote in today’s post:\\n\\nComcast is not asking customers to stop using Tor, or any other browser for that matter. We have no policy against Tor, or any other browser or software. Customers are free to use their Xfinity Internet service to visit any website, use any app...</td>\n",
       "    </tr>\n",
       "    <tr>\n",
       "      <th>13587</th>\n",
       "      <td>ISIS Blasts 'Scorpion Bombs' At Civilian Areas In Iraq; Mosul Residents Living In Fear</td>\n",
       "      <td>1403</td>\n",
       "      <td>unrelated</td>\n",
       "      <td>Reports that Comcast will deny Internet service to users of the Tor Internet browser are false, the company says in a new blog post. The browser lets users surf the web with a higher degree of anonymity, making it more difficult for hackers (or the government) to follow them around the Internet.\\n\\nComcast’s Jason Livingood wrote in today’s post:\\n\\nComcast is not asking customers to stop using Tor, or any other browser for that matter. We have no policy against Tor, or any other browser or software. Customers are free to use their Xfinity Internet service to visit any website, use any app...</td>\n",
       "    </tr>\n",
       "    <tr>\n",
       "      <th>13589</th>\n",
       "      <td>CNN Plays Alleged Recording of Michael Brown Shooting</td>\n",
       "      <td>1403</td>\n",
       "      <td>unrelated</td>\n",
       "      <td>Reports that Comcast will deny Internet service to users of the Tor Internet browser are false, the company says in a new blog post. The browser lets users surf the web with a higher degree of anonymity, making it more difficult for hackers (or the government) to follow them around the Internet.\\n\\nComcast’s Jason Livingood wrote in today’s post:\\n\\nComcast is not asking customers to stop using Tor, or any other browser for that matter. We have no policy against Tor, or any other browser or software. Customers are free to use their Xfinity Internet service to visit any website, use any app...</td>\n",
       "    </tr>\n",
       "    <tr>\n",
       "      <th>13590</th>\n",
       "      <td>Report: Audio Reveals Pause Between Gunshots When Michael Brown Was Shot</td>\n",
       "      <td>1403</td>\n",
       "      <td>unrelated</td>\n",
       "      <td>Reports that Comcast will deny Internet service to users of the Tor Internet browser are false, the company says in a new blog post. The browser lets users surf the web with a higher degree of anonymity, making it more difficult for hackers (or the government) to follow them around the Internet.\\n\\nComcast’s Jason Livingood wrote in today’s post:\\n\\nComcast is not asking customers to stop using Tor, or any other browser for that matter. We have no policy against Tor, or any other browser or software. Customers are free to use their Xfinity Internet service to visit any website, use any app...</td>\n",
       "    </tr>\n",
       "    <tr>\n",
       "      <th>13591</th>\n",
       "      <td>Audio recording allegedly captures at least 10 shots fired in Michael Brown killing</td>\n",
       "      <td>1403</td>\n",
       "      <td>unrelated</td>\n",
       "      <td>Reports that Comcast will deny Internet service to users of the Tor Internet browser are false, the company says in a new blog post. The browser lets users surf the web with a higher degree of anonymity, making it more difficult for hackers (or the government) to follow them around the Internet.\\n\\nComcast’s Jason Livingood wrote in today’s post:\\n\\nComcast is not asking customers to stop using Tor, or any other browser for that matter. We have no policy against Tor, or any other browser or software. Customers are free to use their Xfinity Internet service to visit any website, use any app...</td>\n",
       "    </tr>\n",
       "    <tr>\n",
       "      <th>13592</th>\n",
       "      <td>Alleged audio of Michael Brown shooting has surfaced</td>\n",
       "      <td>1403</td>\n",
       "      <td>unrelated</td>\n",
       "      <td>Reports that Comcast will deny Internet service to users of the Tor Internet browser are false, the company says in a new blog post. The browser lets users surf the web with a higher degree of anonymity, making it more difficult for hackers (or the government) to follow them around the Internet.\\n\\nComcast’s Jason Livingood wrote in today’s post:\\n\\nComcast is not asking customers to stop using Tor, or any other browser for that matter. We have no policy against Tor, or any other browser or software. Customers are free to use their Xfinity Internet service to visit any website, use any app...</td>\n",
       "    </tr>\n",
       "    <tr>\n",
       "      <th>13593</th>\n",
       "      <td>Audio may have captured Michael Brown shooting</td>\n",
       "      <td>1403</td>\n",
       "      <td>unrelated</td>\n",
       "      <td>Reports that Comcast will deny Internet service to users of the Tor Internet browser are false, the company says in a new blog post. The browser lets users surf the web with a higher degree of anonymity, making it more difficult for hackers (or the government) to follow them around the Internet.\\n\\nComcast’s Jason Livingood wrote in today’s post:\\n\\nComcast is not asking customers to stop using Tor, or any other browser for that matter. We have no policy against Tor, or any other browser or software. Customers are free to use their Xfinity Internet service to visit any website, use any app...</td>\n",
       "    </tr>\n",
       "    <tr>\n",
       "      <th>13594</th>\n",
       "      <td>Experts: More facts needed on purported audio recording of Michael Brown shooting</td>\n",
       "      <td>1403</td>\n",
       "      <td>unrelated</td>\n",
       "      <td>Reports that Comcast will deny Internet service to users of the Tor Internet browser are false, the company says in a new blog post. The browser lets users surf the web with a higher degree of anonymity, making it more difficult for hackers (or the government) to follow them around the Internet.\\n\\nComcast’s Jason Livingood wrote in today’s post:\\n\\nComcast is not asking customers to stop using Tor, or any other browser for that matter. We have no policy against Tor, or any other browser or software. Customers are free to use their Xfinity Internet service to visit any website, use any app...</td>\n",
       "    </tr>\n",
       "    <tr>\n",
       "      <th>13595</th>\n",
       "      <td>CNN Posts Alleged Audio of Michael Brown Shooting</td>\n",
       "      <td>1403</td>\n",
       "      <td>unrelated</td>\n",
       "      <td>Reports that Comcast will deny Internet service to users of the Tor Internet browser are false, the company says in a new blog post. The browser lets users surf the web with a higher degree of anonymity, making it more difficult for hackers (or the government) to follow them around the Internet.\\n\\nComcast’s Jason Livingood wrote in today’s post:\\n\\nComcast is not asking customers to stop using Tor, or any other browser for that matter. We have no policy against Tor, or any other browser or software. Customers are free to use their Xfinity Internet service to visit any website, use any app...</td>\n",
       "    </tr>\n",
       "    <tr>\n",
       "      <th>13596</th>\n",
       "      <td>New Audio Shows Michael Brown Was Shot at 11 Times</td>\n",
       "      <td>1403</td>\n",
       "      <td>unrelated</td>\n",
       "      <td>Reports that Comcast will deny Internet service to users of the Tor Internet browser are false, the company says in a new blog post. The browser lets users surf the web with a higher degree of anonymity, making it more difficult for hackers (or the government) to follow them around the Internet.\\n\\nComcast’s Jason Livingood wrote in today’s post:\\n\\nComcast is not asking customers to stop using Tor, or any other browser for that matter. We have no policy against Tor, or any other browser or software. Customers are free to use their Xfinity Internet service to visit any website, use any app...</td>\n",
       "    </tr>\n",
       "    <tr>\n",
       "      <th>13597</th>\n",
       "      <td>CNN plays chilling audio recording allegedly from Michael Brown shooting: “At least 11 shots”</td>\n",
       "      <td>1403</td>\n",
       "      <td>unrelated</td>\n",
       "      <td>Reports that Comcast will deny Internet service to users of the Tor Internet browser are false, the company says in a new blog post. The browser lets users surf the web with a higher degree of anonymity, making it more difficult for hackers (or the government) to follow them around the Internet.\\n\\nComcast’s Jason Livingood wrote in today’s post:\\n\\nComcast is not asking customers to stop using Tor, or any other browser for that matter. We have no policy against Tor, or any other browser or software. Customers are free to use their Xfinity Internet service to visit any website, use any app...</td>\n",
       "    </tr>\n",
       "    <tr>\n",
       "      <th>13599</th>\n",
       "      <td>Ferguson riots: audio may have captured Michael Brown shooting</td>\n",
       "      <td>1403</td>\n",
       "      <td>unrelated</td>\n",
       "      <td>Reports that Comcast will deny Internet service to users of the Tor Internet browser are false, the company says in a new blog post. The browser lets users surf the web with a higher degree of anonymity, making it more difficult for hackers (or the government) to follow them around the Internet.\\n\\nComcast’s Jason Livingood wrote in today’s post:\\n\\nComcast is not asking customers to stop using Tor, or any other browser for that matter. We have no policy against Tor, or any other browser or software. Customers are free to use their Xfinity Internet service to visit any website, use any app...</td>\n",
       "    </tr>\n",
       "    <tr>\n",
       "      <th>13600</th>\n",
       "      <td>UPDATE: Internet report of Ebola outbreak in Purdon not true</td>\n",
       "      <td>1403</td>\n",
       "      <td>unrelated</td>\n",
       "      <td>Reports that Comcast will deny Internet service to users of the Tor Internet browser are false, the company says in a new blog post. The browser lets users surf the web with a higher degree of anonymity, making it more difficult for hackers (or the government) to follow them around the Internet.\\n\\nComcast’s Jason Livingood wrote in today’s post:\\n\\nComcast is not asking customers to stop using Tor, or any other browser for that matter. We have no policy against Tor, or any other browser or software. Customers are free to use their Xfinity Internet service to visit any website, use any app...</td>\n",
       "    </tr>\n",
       "    <tr>\n",
       "      <th>13601</th>\n",
       "      <td>Was Alleged Audio of Michael Brown Shooting on CNN a Hoax?</td>\n",
       "      <td>1403</td>\n",
       "      <td>unrelated</td>\n",
       "      <td>Reports that Comcast will deny Internet service to users of the Tor Internet browser are false, the company says in a new blog post. The browser lets users surf the web with a higher degree of anonymity, making it more difficult for hackers (or the government) to follow them around the Internet.\\n\\nComcast’s Jason Livingood wrote in today’s post:\\n\\nComcast is not asking customers to stop using Tor, or any other browser for that matter. We have no policy against Tor, or any other browser or software. Customers are free to use their Xfinity Internet service to visit any website, use any app...</td>\n",
       "    </tr>\n",
       "    <tr>\n",
       "      <th>13603</th>\n",
       "      <td>New Audio Reveals Pause in Gunfire When Michael Brown Was Shot: Attorney</td>\n",
       "      <td>1403</td>\n",
       "      <td>unrelated</td>\n",
       "      <td>Reports that Comcast will deny Internet service to users of the Tor Internet browser are false, the company says in a new blog post. The browser lets users surf the web with a higher degree of anonymity, making it more difficult for hackers (or the government) to follow them around the Internet.\\n\\nComcast’s Jason Livingood wrote in today’s post:\\n\\nComcast is not asking customers to stop using Tor, or any other browser for that matter. We have no policy against Tor, or any other browser or software. Customers are free to use their Xfinity Internet service to visit any website, use any app...</td>\n",
       "    </tr>\n",
       "    <tr>\n",
       "      <th>13604</th>\n",
       "      <td>CNN Expert on Brown Audio: At First I Thought ‘Someone’s Trying to Punk CNN’</td>\n",
       "      <td>1403</td>\n",
       "      <td>unrelated</td>\n",
       "      <td>Reports that Comcast will deny Internet service to users of the Tor Internet browser are false, the company says in a new blog post. The browser lets users surf the web with a higher degree of anonymity, making it more difficult for hackers (or the government) to follow them around the Internet.\\n\\nComcast’s Jason Livingood wrote in today’s post:\\n\\nComcast is not asking customers to stop using Tor, or any other browser for that matter. We have no policy against Tor, or any other browser or software. Customers are free to use their Xfinity Internet service to visit any website, use any app...</td>\n",
       "    </tr>\n",
       "    <tr>\n",
       "      <th>13605</th>\n",
       "      <td>ISIS fighters 'have contracted Ebola': World Health Organisation investigating reports militants showed up at Iraqi hospital with lethal disease</td>\n",
       "      <td>1403</td>\n",
       "      <td>unrelated</td>\n",
       "      <td>Reports that Comcast will deny Internet service to users of the Tor Internet browser are false, the company says in a new blog post. The browser lets users surf the web with a higher degree of anonymity, making it more difficult for hackers (or the government) to follow them around the Internet.\\n\\nComcast’s Jason Livingood wrote in today’s post:\\n\\nComcast is not asking customers to stop using Tor, or any other browser for that matter. We have no policy against Tor, or any other browser or software. Customers are free to use their Xfinity Internet service to visit any website, use any app...</td>\n",
       "    </tr>\n",
       "    <tr>\n",
       "      <th>13606</th>\n",
       "      <td>Michael Brown shooting audio caught on tape?</td>\n",
       "      <td>1403</td>\n",
       "      <td>unrelated</td>\n",
       "      <td>Reports that Comcast will deny Internet service to users of the Tor Internet browser are false, the company says in a new blog post. The browser lets users surf the web with a higher degree of anonymity, making it more difficult for hackers (or the government) to follow them around the Internet.\\n\\nComcast’s Jason Livingood wrote in today’s post:\\n\\nComcast is not asking customers to stop using Tor, or any other browser for that matter. We have no policy against Tor, or any other browser or software. Customers are free to use their Xfinity Internet service to visit any website, use any app...</td>\n",
       "    </tr>\n",
       "    <tr>\n",
       "      <th>13607</th>\n",
       "      <td>Isis tells mother on rescue mission :’You’ve just eaten your son’</td>\n",
       "      <td>1403</td>\n",
       "      <td>unrelated</td>\n",
       "      <td>Reports that Comcast will deny Internet service to users of the Tor Internet browser are false, the company says in a new blog post. The browser lets users surf the web with a higher degree of anonymity, making it more difficult for hackers (or the government) to follow them around the Internet.\\n\\nComcast’s Jason Livingood wrote in today’s post:\\n\\nComcast is not asking customers to stop using Tor, or any other browser for that matter. We have no policy against Tor, or any other browser or software. Customers are free to use their Xfinity Internet service to visit any website, use any app...</td>\n",
       "    </tr>\n",
       "    <tr>\n",
       "      <th>13608</th>\n",
       "      <td>New Audio Recording From Ferguson May Capture Michael Brown Shooting</td>\n",
       "      <td>1403</td>\n",
       "      <td>unrelated</td>\n",
       "      <td>Reports that Comcast will deny Internet service to users of the Tor Internet browser are false, the company says in a new blog post. The browser lets users surf the web with a higher degree of anonymity, making it more difficult for hackers (or the government) to follow them around the Internet.\\n\\nComcast’s Jason Livingood wrote in today’s post:\\n\\nComcast is not asking customers to stop using Tor, or any other browser for that matter. We have no policy against Tor, or any other browser or software. Customers are free to use their Xfinity Internet service to visit any website, use any app...</td>\n",
       "    </tr>\n",
       "    <tr>\n",
       "      <th>13609</th>\n",
       "      <td>An Audio Recording of the Michael Brown Shooting Has Reportedly Surfaced</td>\n",
       "      <td>1403</td>\n",
       "      <td>unrelated</td>\n",
       "      <td>Reports that Comcast will deny Internet service to users of the Tor Internet browser are false, the company says in a new blog post. The browser lets users surf the web with a higher degree of anonymity, making it more difficult for hackers (or the government) to follow them around the Internet.\\n\\nComcast’s Jason Livingood wrote in today’s post:\\n\\nComcast is not asking customers to stop using Tor, or any other browser for that matter. We have no policy against Tor, or any other browser or software. Customers are free to use their Xfinity Internet service to visit any website, use any app...</td>\n",
       "    </tr>\n",
       "    <tr>\n",
       "      <th>13610</th>\n",
       "      <td>Shots Heard In Alleged Brown Shooting Recording [AUDIO]</td>\n",
       "      <td>1403</td>\n",
       "      <td>unrelated</td>\n",
       "      <td>Reports that Comcast will deny Internet service to users of the Tor Internet browser are false, the company says in a new blog post. The browser lets users surf the web with a higher degree of anonymity, making it more difficult for hackers (or the government) to follow them around the Internet.\\n\\nComcast’s Jason Livingood wrote in today’s post:\\n\\nComcast is not asking customers to stop using Tor, or any other browser for that matter. We have no policy against Tor, or any other browser or software. Customers are free to use their Xfinity Internet service to visit any website, use any app...</td>\n",
       "    </tr>\n",
       "    <tr>\n",
       "      <th>13611</th>\n",
       "      <td>Moment Michael Brown was shot dead 'caught on audio recording': FBI handed potentially damning tape of ELEVEN shots being fired - including final volley of 'kill shots'</td>\n",
       "      <td>1403</td>\n",
       "      <td>unrelated</td>\n",
       "      <td>Reports that Comcast will deny Internet service to users of the Tor Internet browser are false, the company says in a new blog post. The browser lets users surf the web with a higher degree of anonymity, making it more difficult for hackers (or the government) to follow them around the Internet.\\n\\nComcast’s Jason Livingood wrote in today’s post:\\n\\nComcast is not asking customers to stop using Tor, or any other browser for that matter. We have no policy against Tor, or any other browser or software. Customers are free to use their Xfinity Internet service to visit any website, use any app...</td>\n",
       "    </tr>\n",
       "    <tr>\n",
       "      <th>13612</th>\n",
       "      <td>Texas City plumber's truck ends up in Syrian war</td>\n",
       "      <td>1403</td>\n",
       "      <td>unrelated</td>\n",
       "      <td>Reports that Comcast will deny Internet service to users of the Tor Internet browser are false, the company says in a new blog post. The browser lets users surf the web with a higher degree of anonymity, making it more difficult for hackers (or the government) to follow them around the Internet.\\n\\nComcast’s Jason Livingood wrote in today’s post:\\n\\nComcast is not asking customers to stop using Tor, or any other browser for that matter. We have no policy against Tor, or any other browser or software. Customers are free to use their Xfinity Internet service to visit any website, use any app...</td>\n",
       "    </tr>\n",
       "    <tr>\n",
       "      <th>13613</th>\n",
       "      <td>Is the Alleged Audio of the Gunshots That Killed Michael Brown a Hoax?</td>\n",
       "      <td>1403</td>\n",
       "      <td>unrelated</td>\n",
       "      <td>Reports that Comcast will deny Internet service to users of the Tor Internet browser are false, the company says in a new blog post. The browser lets users surf the web with a higher degree of anonymity, making it more difficult for hackers (or the government) to follow them around the Internet.\\n\\nComcast’s Jason Livingood wrote in today’s post:\\n\\nComcast is not asking customers to stop using Tor, or any other browser for that matter. We have no policy against Tor, or any other browser or software. Customers are free to use their Xfinity Internet service to visit any website, use any app...</td>\n",
       "    </tr>\n",
       "    <tr>\n",
       "      <th>13614</th>\n",
       "      <td>CNN audio: Is this the moment Michael Brown was shot?</td>\n",
       "      <td>1403</td>\n",
       "      <td>unrelated</td>\n",
       "      <td>Reports that Comcast will deny Internet service to users of the Tor Internet browser are false, the company says in a new blog post. The browser lets users surf the web with a higher degree of anonymity, making it more difficult for hackers (or the government) to follow them around the Internet.\\n\\nComcast’s Jason Livingood wrote in today’s post:\\n\\nComcast is not asking customers to stop using Tor, or any other browser for that matter. We have no policy against Tor, or any other browser or software. Customers are free to use their Xfinity Internet service to visit any website, use any app...</td>\n",
       "    </tr>\n",
       "    <tr>\n",
       "      <th>13615</th>\n",
       "      <td>New Audio Allegedly Captures Moment Michael Brown Was Shot</td>\n",
       "      <td>1403</td>\n",
       "      <td>unrelated</td>\n",
       "      <td>Reports that Comcast will deny Internet service to users of the Tor Internet browser are false, the company says in a new blog post. The browser lets users surf the web with a higher degree of anonymity, making it more difficult for hackers (or the government) to follow them around the Internet.\\n\\nComcast’s Jason Livingood wrote in today’s post:\\n\\nComcast is not asking customers to stop using Tor, or any other browser for that matter. We have no policy against Tor, or any other browser or software. Customers are free to use their Xfinity Internet service to visit any website, use any app...</td>\n",
       "    </tr>\n",
       "    <tr>\n",
       "      <th>13616</th>\n",
       "      <td>REPORT: Alleged New Audio of Michael Brown Shooting</td>\n",
       "      <td>1403</td>\n",
       "      <td>unrelated</td>\n",
       "      <td>Reports that Comcast will deny Internet service to users of the Tor Internet browser are false, the company says in a new blog post. The browser lets users surf the web with a higher degree of anonymity, making it more difficult for hackers (or the government) to follow them around the Internet.\\n\\nComcast’s Jason Livingood wrote in today’s post:\\n\\nComcast is not asking customers to stop using Tor, or any other browser for that matter. We have no policy against Tor, or any other browser or software. Customers are free to use their Xfinity Internet service to visit any website, use any app...</td>\n",
       "    </tr>\n",
       "    <tr>\n",
       "      <th>13617</th>\n",
       "      <td>CNN Airs Alleged Audio from Michael Brown Shooting</td>\n",
       "      <td>1403</td>\n",
       "      <td>unrelated</td>\n",
       "      <td>Reports that Comcast will deny Internet service to users of the Tor Internet browser are false, the company says in a new blog post. The browser lets users surf the web with a higher degree of anonymity, making it more difficult for hackers (or the government) to follow them around the Internet.\\n\\nComcast’s Jason Livingood wrote in today’s post:\\n\\nComcast is not asking customers to stop using Tor, or any other browser for that matter. We have no policy against Tor, or any other browser or software. Customers are free to use their Xfinity Internet service to visit any website, use any app...</td>\n",
       "    </tr>\n",
       "    <tr>\n",
       "      <th>13618</th>\n",
       "      <td>Audio recording of Michael Brown being gunned down WAS made at the time he was killed: App company appears to confirm tape of ELEVEN bullets being fired - including final volley of 'kill shots'</td>\n",
       "      <td>1403</td>\n",
       "      <td>unrelated</td>\n",
       "      <td>Reports that Comcast will deny Internet service to users of the Tor Internet browser are false, the company says in a new blog post. The browser lets users surf the web with a higher degree of anonymity, making it more difficult for hackers (or the government) to follow them around the Internet.\\n\\nComcast’s Jason Livingood wrote in today’s post:\\n\\nComcast is not asking customers to stop using Tor, or any other browser for that matter. We have no policy against Tor, or any other browser or software. Customers are free to use their Xfinity Internet service to visit any website, use any app...</td>\n",
       "    </tr>\n",
       "    <tr>\n",
       "      <th>13619</th>\n",
       "      <td>Video Messaging App Says Audio Recording Of Michael Brown's Shooting Is Authentic</td>\n",
       "      <td>1403</td>\n",
       "      <td>unrelated</td>\n",
       "      <td>Reports that Comcast will deny Internet service to users of the Tor Internet browser are false, the company says in a new blog post. The browser lets users surf the web with a higher degree of anonymity, making it more difficult for hackers (or the government) to follow them around the Internet.\\n\\nComcast’s Jason Livingood wrote in today’s post:\\n\\nComcast is not asking customers to stop using Tor, or any other browser for that matter. We have no policy against Tor, or any other browser or software. Customers are free to use their Xfinity Internet service to visit any website, use any app...</td>\n",
       "    </tr>\n",
       "    <tr>\n",
       "      <th>13620</th>\n",
       "      <td>Alleged Audio of Michael Brown Shooting Doesn’t Sound Good for Officer Darren Wilson</td>\n",
       "      <td>1403</td>\n",
       "      <td>unrelated</td>\n",
       "      <td>Reports that Comcast will deny Internet service to users of the Tor Internet browser are false, the company says in a new blog post. The browser lets users surf the web with a higher degree of anonymity, making it more difficult for hackers (or the government) to follow them around the Internet.\\n\\nComcast’s Jason Livingood wrote in today’s post:\\n\\nComcast is not asking customers to stop using Tor, or any other browser for that matter. We have no policy against Tor, or any other browser or software. Customers are free to use their Xfinity Internet service to visit any website, use any app...</td>\n",
       "    </tr>\n",
       "    <tr>\n",
       "      <th>13621</th>\n",
       "      <td>CNN Broadcasts Purported Audio Containing Gunshots That Felled Michael Brown Jr.; Leaders, Celebrities Fill Pews At Teen’s Funeral</td>\n",
       "      <td>1403</td>\n",
       "      <td>unrelated</td>\n",
       "      <td>Reports that Comcast will deny Internet service to users of the Tor Internet browser are false, the company says in a new blog post. The browser lets users surf the web with a higher degree of anonymity, making it more difficult for hackers (or the government) to follow them around the Internet.\\n\\nComcast’s Jason Livingood wrote in today’s post:\\n\\nComcast is not asking customers to stop using Tor, or any other browser for that matter. We have no policy against Tor, or any other browser or software. Customers are free to use their Xfinity Internet service to visit any website, use any app...</td>\n",
       "    </tr>\n",
       "    <tr>\n",
       "      <th>13622</th>\n",
       "      <td>An audio recording of the Michael Brown shooting has reportedly surfaced</td>\n",
       "      <td>1403</td>\n",
       "      <td>unrelated</td>\n",
       "      <td>Reports that Comcast will deny Internet service to users of the Tor Internet browser are false, the company says in a new blog post. The browser lets users surf the web with a higher degree of anonymity, making it more difficult for hackers (or the government) to follow them around the Internet.\\n\\nComcast’s Jason Livingood wrote in today’s post:\\n\\nComcast is not asking customers to stop using Tor, or any other browser for that matter. We have no policy against Tor, or any other browser or software. Customers are free to use their Xfinity Internet service to visit any website, use any app...</td>\n",
       "    </tr>\n",
       "    <tr>\n",
       "      <th>13623</th>\n",
       "      <td>Video messaging service verifies timing of CNN audio recording</td>\n",
       "      <td>1403</td>\n",
       "      <td>unrelated</td>\n",
       "      <td>Reports that Comcast will deny Internet service to users of the Tor Internet browser are false, the company says in a new blog post. The browser lets users surf the web with a higher degree of anonymity, making it more difficult for hackers (or the government) to follow them around the Internet.\\n\\nComcast’s Jason Livingood wrote in today’s post:\\n\\nComcast is not asking customers to stop using Tor, or any other browser for that matter. We have no policy against Tor, or any other browser or software. Customers are free to use their Xfinity Internet service to visit any website, use any app...</td>\n",
       "    </tr>\n",
       "    <tr>\n",
       "      <th>13624</th>\n",
       "      <td>Audio of gunfire in Michael Brown case authenticated by app company</td>\n",
       "      <td>1403</td>\n",
       "      <td>unrelated</td>\n",
       "      <td>Reports that Comcast will deny Internet service to users of the Tor Internet browser are false, the company says in a new blog post. The browser lets users surf the web with a higher degree of anonymity, making it more difficult for hackers (or the government) to follow them around the Internet.\\n\\nComcast’s Jason Livingood wrote in today’s post:\\n\\nComcast is not asking customers to stop using Tor, or any other browser for that matter. We have no policy against Tor, or any other browser or software. Customers are free to use their Xfinity Internet service to visit any website, use any app...</td>\n",
       "    </tr>\n",
       "    <tr>\n",
       "      <th>13625</th>\n",
       "      <td>Report: Possible audio tape of Michael Brown shooting</td>\n",
       "      <td>1403</td>\n",
       "      <td>unrelated</td>\n",
       "      <td>Reports that Comcast will deny Internet service to users of the Tor Internet browser are false, the company says in a new blog post. The browser lets users surf the web with a higher degree of anonymity, making it more difficult for hackers (or the government) to follow them around the Internet.\\n\\nComcast’s Jason Livingood wrote in today’s post:\\n\\nComcast is not asking customers to stop using Tor, or any other browser for that matter. We have no policy against Tor, or any other browser or software. Customers are free to use their Xfinity Internet service to visit any website, use any app...</td>\n",
       "    </tr>\n",
       "    <tr>\n",
       "      <th>13626</th>\n",
       "      <td>Alleged audio of Michael Brown shooting released</td>\n",
       "      <td>1403</td>\n",
       "      <td>unrelated</td>\n",
       "      <td>Reports that Comcast will deny Internet service to users of the Tor Internet browser are false, the company says in a new blog post. The browser lets users surf the web with a higher degree of anonymity, making it more difficult for hackers (or the government) to follow them around the Internet.\\n\\nComcast’s Jason Livingood wrote in today’s post:\\n\\nComcast is not asking customers to stop using Tor, or any other browser for that matter. We have no policy against Tor, or any other browser or software. Customers are free to use their Xfinity Internet service to visit any website, use any app...</td>\n",
       "    </tr>\n",
       "  </tbody>\n",
       "</table>\n",
       "</div>"
      ],
      "text/plain": [
       "                                                                                                                                                                                                Headline  \\\n",
       "13581                                                                                               Apple Media Event Rumored for Late February, Apple Watch and 12\" MacBook Air Likely Topics [Updated]   \n",
       "13582                                                                                                                           Attorney: New audio reveals pause in gunfire when Michael Brown was shot   \n",
       "13583                                                                                                                                                FBI Probing Alleged Audio of Michael Brown Shooting   \n",
       "13584                                                                                                                      CNN Plays Alleged Audiotape of Michael Brown ShootingMilitarization Of Police   \n",
       "13585                                                                                                                                     Audio captured at time of Michael Brown shooting, company says   \n",
       "13586                                                                                                                                   Audio recording allegedly captures moment Michael Brown was shot   \n",
       "13587                                                                                                             ISIS Blasts 'Scorpion Bombs' At Civilian Areas In Iraq; Mosul Residents Living In Fear   \n",
       "13589                                                                                                                                              CNN Plays Alleged Recording of Michael Brown Shooting   \n",
       "13590                                                                                                                           Report: Audio Reveals Pause Between Gunshots When Michael Brown Was Shot   \n",
       "13591                                                                                                                Audio recording allegedly captures at least 10 shots fired in Michael Brown killing   \n",
       "13592                                                                                                                                               Alleged audio of Michael Brown shooting has surfaced   \n",
       "13593                                                                                                                                                     Audio may have captured Michael Brown shooting   \n",
       "13594                                                                                                                  Experts: More facts needed on purported audio recording of Michael Brown shooting   \n",
       "13595                                                                                                                                                  CNN Posts Alleged Audio of Michael Brown Shooting   \n",
       "13596                                                                                                                                                 New Audio Shows Michael Brown Was Shot at 11 Times   \n",
       "13597                                                                                                      CNN plays chilling audio recording allegedly from Michael Brown shooting: “At least 11 shots”   \n",
       "13599                                                                                                                                     Ferguson riots: audio may have captured Michael Brown shooting   \n",
       "13600                                                                                                                                       UPDATE: Internet report of Ebola outbreak in Purdon not true   \n",
       "13601                                                                                                                                         Was Alleged Audio of Michael Brown Shooting on CNN a Hoax?   \n",
       "13603                                                                                                                           New Audio Reveals Pause in Gunfire When Michael Brown Was Shot: Attorney   \n",
       "13604                                                                                                                       CNN Expert on Brown Audio: At First I Thought ‘Someone’s Trying to Punk CNN’   \n",
       "13605                                                   ISIS fighters 'have contracted Ebola': World Health Organisation investigating reports militants showed up at Iraqi hospital with lethal disease   \n",
       "13606                                                                                                                                                       Michael Brown shooting audio caught on tape?   \n",
       "13607                                                                                                                                  Isis tells mother on rescue mission :’You’ve just eaten your son’   \n",
       "13608                                                                                                                               New Audio Recording From Ferguson May Capture Michael Brown Shooting   \n",
       "13609                                                                                                                           An Audio Recording of the Michael Brown Shooting Has Reportedly Surfaced   \n",
       "13610                                                                                                                                            Shots Heard In Alleged Brown Shooting Recording [AUDIO]   \n",
       "13611                           Moment Michael Brown was shot dead 'caught on audio recording': FBI handed potentially damning tape of ELEVEN shots being fired - including final volley of 'kill shots'   \n",
       "13612                                                                                                                                                   Texas City plumber's truck ends up in Syrian war   \n",
       "13613                                                                                                                             Is the Alleged Audio of the Gunshots That Killed Michael Brown a Hoax?   \n",
       "13614                                                                                                                                              CNN audio: Is this the moment Michael Brown was shot?   \n",
       "13615                                                                                                                                         New Audio Allegedly Captures Moment Michael Brown Was Shot   \n",
       "13616                                                                                                                                                REPORT: Alleged New Audio of Michael Brown Shooting   \n",
       "13617                                                                                                                                                 CNN Airs Alleged Audio from Michael Brown Shooting   \n",
       "13618  Audio recording of Michael Brown being gunned down WAS made at the time he was killed: App company appears to confirm tape of ELEVEN bullets being fired - including final volley of 'kill shots'   \n",
       "13619                                                                                                                  Video Messaging App Says Audio Recording Of Michael Brown's Shooting Is Authentic   \n",
       "13620                                                                                                               Alleged Audio of Michael Brown Shooting Doesn’t Sound Good for Officer Darren Wilson   \n",
       "13621                                                                 CNN Broadcasts Purported Audio Containing Gunshots That Felled Michael Brown Jr.; Leaders, Celebrities Fill Pews At Teen’s Funeral   \n",
       "13622                                                                                                                           An audio recording of the Michael Brown shooting has reportedly surfaced   \n",
       "13623                                                                                                                                     Video messaging service verifies timing of CNN audio recording   \n",
       "13624                                                                                                                                Audio of gunfire in Michael Brown case authenticated by app company   \n",
       "13625                                                                                                                                              Report: Possible audio tape of Michael Brown shooting   \n",
       "13626                                                                                                                                                   Alleged audio of Michael Brown shooting released   \n",
       "\n",
       "       Body ID     Stance  \\\n",
       "13581     1403  unrelated   \n",
       "13582     1403  unrelated   \n",
       "13583     1403  unrelated   \n",
       "13584     1403  unrelated   \n",
       "13585     1403  unrelated   \n",
       "13586     1403  unrelated   \n",
       "13587     1403  unrelated   \n",
       "13589     1403  unrelated   \n",
       "13590     1403  unrelated   \n",
       "13591     1403  unrelated   \n",
       "13592     1403  unrelated   \n",
       "13593     1403  unrelated   \n",
       "13594     1403  unrelated   \n",
       "13595     1403  unrelated   \n",
       "13596     1403  unrelated   \n",
       "13597     1403  unrelated   \n",
       "13599     1403  unrelated   \n",
       "13600     1403  unrelated   \n",
       "13601     1403  unrelated   \n",
       "13603     1403  unrelated   \n",
       "13604     1403  unrelated   \n",
       "13605     1403  unrelated   \n",
       "13606     1403  unrelated   \n",
       "13607     1403  unrelated   \n",
       "13608     1403  unrelated   \n",
       "13609     1403  unrelated   \n",
       "13610     1403  unrelated   \n",
       "13611     1403  unrelated   \n",
       "13612     1403  unrelated   \n",
       "13613     1403  unrelated   \n",
       "13614     1403  unrelated   \n",
       "13615     1403  unrelated   \n",
       "13616     1403  unrelated   \n",
       "13617     1403  unrelated   \n",
       "13618     1403  unrelated   \n",
       "13619     1403  unrelated   \n",
       "13620     1403  unrelated   \n",
       "13621     1403  unrelated   \n",
       "13622     1403  unrelated   \n",
       "13623     1403  unrelated   \n",
       "13624     1403  unrelated   \n",
       "13625     1403  unrelated   \n",
       "13626     1403  unrelated   \n",
       "\n",
       "                                                                                                                                                                                                                                                                                                                                                                                                                                                                                                                                                                                                                   articleBody  \n",
       "13581  Reports that Comcast will deny Internet service to users of the Tor Internet browser are false, the company says in a new blog post. The browser lets users surf the web with a higher degree of anonymity, making it more difficult for hackers (or the government) to follow them around the Internet.\\n\\nComcast’s Jason Livingood wrote in today’s post:\\n\\nComcast is not asking customers to stop using Tor, or any other browser for that matter. We have no policy against Tor, or any other browser or software. Customers are free to use their Xfinity Internet service to visit any website, use any app...  \n",
       "13582  Reports that Comcast will deny Internet service to users of the Tor Internet browser are false, the company says in a new blog post. The browser lets users surf the web with a higher degree of anonymity, making it more difficult for hackers (or the government) to follow them around the Internet.\\n\\nComcast’s Jason Livingood wrote in today’s post:\\n\\nComcast is not asking customers to stop using Tor, or any other browser for that matter. We have no policy against Tor, or any other browser or software. Customers are free to use their Xfinity Internet service to visit any website, use any app...  \n",
       "13583  Reports that Comcast will deny Internet service to users of the Tor Internet browser are false, the company says in a new blog post. The browser lets users surf the web with a higher degree of anonymity, making it more difficult for hackers (or the government) to follow them around the Internet.\\n\\nComcast’s Jason Livingood wrote in today’s post:\\n\\nComcast is not asking customers to stop using Tor, or any other browser for that matter. We have no policy against Tor, or any other browser or software. Customers are free to use their Xfinity Internet service to visit any website, use any app...  \n",
       "13584  Reports that Comcast will deny Internet service to users of the Tor Internet browser are false, the company says in a new blog post. The browser lets users surf the web with a higher degree of anonymity, making it more difficult for hackers (or the government) to follow them around the Internet.\\n\\nComcast’s Jason Livingood wrote in today’s post:\\n\\nComcast is not asking customers to stop using Tor, or any other browser for that matter. We have no policy against Tor, or any other browser or software. Customers are free to use their Xfinity Internet service to visit any website, use any app...  \n",
       "13585  Reports that Comcast will deny Internet service to users of the Tor Internet browser are false, the company says in a new blog post. The browser lets users surf the web with a higher degree of anonymity, making it more difficult for hackers (or the government) to follow them around the Internet.\\n\\nComcast’s Jason Livingood wrote in today’s post:\\n\\nComcast is not asking customers to stop using Tor, or any other browser for that matter. We have no policy against Tor, or any other browser or software. Customers are free to use their Xfinity Internet service to visit any website, use any app...  \n",
       "13586  Reports that Comcast will deny Internet service to users of the Tor Internet browser are false, the company says in a new blog post. The browser lets users surf the web with a higher degree of anonymity, making it more difficult for hackers (or the government) to follow them around the Internet.\\n\\nComcast’s Jason Livingood wrote in today’s post:\\n\\nComcast is not asking customers to stop using Tor, or any other browser for that matter. We have no policy against Tor, or any other browser or software. Customers are free to use their Xfinity Internet service to visit any website, use any app...  \n",
       "13587  Reports that Comcast will deny Internet service to users of the Tor Internet browser are false, the company says in a new blog post. The browser lets users surf the web with a higher degree of anonymity, making it more difficult for hackers (or the government) to follow them around the Internet.\\n\\nComcast’s Jason Livingood wrote in today’s post:\\n\\nComcast is not asking customers to stop using Tor, or any other browser for that matter. We have no policy against Tor, or any other browser or software. Customers are free to use their Xfinity Internet service to visit any website, use any app...  \n",
       "13589  Reports that Comcast will deny Internet service to users of the Tor Internet browser are false, the company says in a new blog post. The browser lets users surf the web with a higher degree of anonymity, making it more difficult for hackers (or the government) to follow them around the Internet.\\n\\nComcast’s Jason Livingood wrote in today’s post:\\n\\nComcast is not asking customers to stop using Tor, or any other browser for that matter. We have no policy against Tor, or any other browser or software. Customers are free to use their Xfinity Internet service to visit any website, use any app...  \n",
       "13590  Reports that Comcast will deny Internet service to users of the Tor Internet browser are false, the company says in a new blog post. The browser lets users surf the web with a higher degree of anonymity, making it more difficult for hackers (or the government) to follow them around the Internet.\\n\\nComcast’s Jason Livingood wrote in today’s post:\\n\\nComcast is not asking customers to stop using Tor, or any other browser for that matter. We have no policy against Tor, or any other browser or software. Customers are free to use their Xfinity Internet service to visit any website, use any app...  \n",
       "13591  Reports that Comcast will deny Internet service to users of the Tor Internet browser are false, the company says in a new blog post. The browser lets users surf the web with a higher degree of anonymity, making it more difficult for hackers (or the government) to follow them around the Internet.\\n\\nComcast’s Jason Livingood wrote in today’s post:\\n\\nComcast is not asking customers to stop using Tor, or any other browser for that matter. We have no policy against Tor, or any other browser or software. Customers are free to use their Xfinity Internet service to visit any website, use any app...  \n",
       "13592  Reports that Comcast will deny Internet service to users of the Tor Internet browser are false, the company says in a new blog post. The browser lets users surf the web with a higher degree of anonymity, making it more difficult for hackers (or the government) to follow them around the Internet.\\n\\nComcast’s Jason Livingood wrote in today’s post:\\n\\nComcast is not asking customers to stop using Tor, or any other browser for that matter. We have no policy against Tor, or any other browser or software. Customers are free to use their Xfinity Internet service to visit any website, use any app...  \n",
       "13593  Reports that Comcast will deny Internet service to users of the Tor Internet browser are false, the company says in a new blog post. The browser lets users surf the web with a higher degree of anonymity, making it more difficult for hackers (or the government) to follow them around the Internet.\\n\\nComcast’s Jason Livingood wrote in today’s post:\\n\\nComcast is not asking customers to stop using Tor, or any other browser for that matter. We have no policy against Tor, or any other browser or software. Customers are free to use their Xfinity Internet service to visit any website, use any app...  \n",
       "13594  Reports that Comcast will deny Internet service to users of the Tor Internet browser are false, the company says in a new blog post. The browser lets users surf the web with a higher degree of anonymity, making it more difficult for hackers (or the government) to follow them around the Internet.\\n\\nComcast’s Jason Livingood wrote in today’s post:\\n\\nComcast is not asking customers to stop using Tor, or any other browser for that matter. We have no policy against Tor, or any other browser or software. Customers are free to use their Xfinity Internet service to visit any website, use any app...  \n",
       "13595  Reports that Comcast will deny Internet service to users of the Tor Internet browser are false, the company says in a new blog post. The browser lets users surf the web with a higher degree of anonymity, making it more difficult for hackers (or the government) to follow them around the Internet.\\n\\nComcast’s Jason Livingood wrote in today’s post:\\n\\nComcast is not asking customers to stop using Tor, or any other browser for that matter. We have no policy against Tor, or any other browser or software. Customers are free to use their Xfinity Internet service to visit any website, use any app...  \n",
       "13596  Reports that Comcast will deny Internet service to users of the Tor Internet browser are false, the company says in a new blog post. The browser lets users surf the web with a higher degree of anonymity, making it more difficult for hackers (or the government) to follow them around the Internet.\\n\\nComcast’s Jason Livingood wrote in today’s post:\\n\\nComcast is not asking customers to stop using Tor, or any other browser for that matter. We have no policy against Tor, or any other browser or software. Customers are free to use their Xfinity Internet service to visit any website, use any app...  \n",
       "13597  Reports that Comcast will deny Internet service to users of the Tor Internet browser are false, the company says in a new blog post. The browser lets users surf the web with a higher degree of anonymity, making it more difficult for hackers (or the government) to follow them around the Internet.\\n\\nComcast’s Jason Livingood wrote in today’s post:\\n\\nComcast is not asking customers to stop using Tor, or any other browser for that matter. We have no policy against Tor, or any other browser or software. Customers are free to use their Xfinity Internet service to visit any website, use any app...  \n",
       "13599  Reports that Comcast will deny Internet service to users of the Tor Internet browser are false, the company says in a new blog post. The browser lets users surf the web with a higher degree of anonymity, making it more difficult for hackers (or the government) to follow them around the Internet.\\n\\nComcast’s Jason Livingood wrote in today’s post:\\n\\nComcast is not asking customers to stop using Tor, or any other browser for that matter. We have no policy against Tor, or any other browser or software. Customers are free to use their Xfinity Internet service to visit any website, use any app...  \n",
       "13600  Reports that Comcast will deny Internet service to users of the Tor Internet browser are false, the company says in a new blog post. The browser lets users surf the web with a higher degree of anonymity, making it more difficult for hackers (or the government) to follow them around the Internet.\\n\\nComcast’s Jason Livingood wrote in today’s post:\\n\\nComcast is not asking customers to stop using Tor, or any other browser for that matter. We have no policy against Tor, or any other browser or software. Customers are free to use their Xfinity Internet service to visit any website, use any app...  \n",
       "13601  Reports that Comcast will deny Internet service to users of the Tor Internet browser are false, the company says in a new blog post. The browser lets users surf the web with a higher degree of anonymity, making it more difficult for hackers (or the government) to follow them around the Internet.\\n\\nComcast’s Jason Livingood wrote in today’s post:\\n\\nComcast is not asking customers to stop using Tor, or any other browser for that matter. We have no policy against Tor, or any other browser or software. Customers are free to use their Xfinity Internet service to visit any website, use any app...  \n",
       "13603  Reports that Comcast will deny Internet service to users of the Tor Internet browser are false, the company says in a new blog post. The browser lets users surf the web with a higher degree of anonymity, making it more difficult for hackers (or the government) to follow them around the Internet.\\n\\nComcast’s Jason Livingood wrote in today’s post:\\n\\nComcast is not asking customers to stop using Tor, or any other browser for that matter. We have no policy against Tor, or any other browser or software. Customers are free to use their Xfinity Internet service to visit any website, use any app...  \n",
       "13604  Reports that Comcast will deny Internet service to users of the Tor Internet browser are false, the company says in a new blog post. The browser lets users surf the web with a higher degree of anonymity, making it more difficult for hackers (or the government) to follow them around the Internet.\\n\\nComcast’s Jason Livingood wrote in today’s post:\\n\\nComcast is not asking customers to stop using Tor, or any other browser for that matter. We have no policy against Tor, or any other browser or software. Customers are free to use their Xfinity Internet service to visit any website, use any app...  \n",
       "13605  Reports that Comcast will deny Internet service to users of the Tor Internet browser are false, the company says in a new blog post. The browser lets users surf the web with a higher degree of anonymity, making it more difficult for hackers (or the government) to follow them around the Internet.\\n\\nComcast’s Jason Livingood wrote in today’s post:\\n\\nComcast is not asking customers to stop using Tor, or any other browser for that matter. We have no policy against Tor, or any other browser or software. Customers are free to use their Xfinity Internet service to visit any website, use any app...  \n",
       "13606  Reports that Comcast will deny Internet service to users of the Tor Internet browser are false, the company says in a new blog post. The browser lets users surf the web with a higher degree of anonymity, making it more difficult for hackers (or the government) to follow them around the Internet.\\n\\nComcast’s Jason Livingood wrote in today’s post:\\n\\nComcast is not asking customers to stop using Tor, or any other browser for that matter. We have no policy against Tor, or any other browser or software. Customers are free to use their Xfinity Internet service to visit any website, use any app...  \n",
       "13607  Reports that Comcast will deny Internet service to users of the Tor Internet browser are false, the company says in a new blog post. The browser lets users surf the web with a higher degree of anonymity, making it more difficult for hackers (or the government) to follow them around the Internet.\\n\\nComcast’s Jason Livingood wrote in today’s post:\\n\\nComcast is not asking customers to stop using Tor, or any other browser for that matter. We have no policy against Tor, or any other browser or software. Customers are free to use their Xfinity Internet service to visit any website, use any app...  \n",
       "13608  Reports that Comcast will deny Internet service to users of the Tor Internet browser are false, the company says in a new blog post. The browser lets users surf the web with a higher degree of anonymity, making it more difficult for hackers (or the government) to follow them around the Internet.\\n\\nComcast’s Jason Livingood wrote in today’s post:\\n\\nComcast is not asking customers to stop using Tor, or any other browser for that matter. We have no policy against Tor, or any other browser or software. Customers are free to use their Xfinity Internet service to visit any website, use any app...  \n",
       "13609  Reports that Comcast will deny Internet service to users of the Tor Internet browser are false, the company says in a new blog post. The browser lets users surf the web with a higher degree of anonymity, making it more difficult for hackers (or the government) to follow them around the Internet.\\n\\nComcast’s Jason Livingood wrote in today’s post:\\n\\nComcast is not asking customers to stop using Tor, or any other browser for that matter. We have no policy against Tor, or any other browser or software. Customers are free to use their Xfinity Internet service to visit any website, use any app...  \n",
       "13610  Reports that Comcast will deny Internet service to users of the Tor Internet browser are false, the company says in a new blog post. The browser lets users surf the web with a higher degree of anonymity, making it more difficult for hackers (or the government) to follow them around the Internet.\\n\\nComcast’s Jason Livingood wrote in today’s post:\\n\\nComcast is not asking customers to stop using Tor, or any other browser for that matter. We have no policy against Tor, or any other browser or software. Customers are free to use their Xfinity Internet service to visit any website, use any app...  \n",
       "13611  Reports that Comcast will deny Internet service to users of the Tor Internet browser are false, the company says in a new blog post. The browser lets users surf the web with a higher degree of anonymity, making it more difficult for hackers (or the government) to follow them around the Internet.\\n\\nComcast’s Jason Livingood wrote in today’s post:\\n\\nComcast is not asking customers to stop using Tor, or any other browser for that matter. We have no policy against Tor, or any other browser or software. Customers are free to use their Xfinity Internet service to visit any website, use any app...  \n",
       "13612  Reports that Comcast will deny Internet service to users of the Tor Internet browser are false, the company says in a new blog post. The browser lets users surf the web with a higher degree of anonymity, making it more difficult for hackers (or the government) to follow them around the Internet.\\n\\nComcast’s Jason Livingood wrote in today’s post:\\n\\nComcast is not asking customers to stop using Tor, or any other browser for that matter. We have no policy against Tor, or any other browser or software. Customers are free to use their Xfinity Internet service to visit any website, use any app...  \n",
       "13613  Reports that Comcast will deny Internet service to users of the Tor Internet browser are false, the company says in a new blog post. The browser lets users surf the web with a higher degree of anonymity, making it more difficult for hackers (or the government) to follow them around the Internet.\\n\\nComcast’s Jason Livingood wrote in today’s post:\\n\\nComcast is not asking customers to stop using Tor, or any other browser for that matter. We have no policy against Tor, or any other browser or software. Customers are free to use their Xfinity Internet service to visit any website, use any app...  \n",
       "13614  Reports that Comcast will deny Internet service to users of the Tor Internet browser are false, the company says in a new blog post. The browser lets users surf the web with a higher degree of anonymity, making it more difficult for hackers (or the government) to follow them around the Internet.\\n\\nComcast’s Jason Livingood wrote in today’s post:\\n\\nComcast is not asking customers to stop using Tor, or any other browser for that matter. We have no policy against Tor, or any other browser or software. Customers are free to use their Xfinity Internet service to visit any website, use any app...  \n",
       "13615  Reports that Comcast will deny Internet service to users of the Tor Internet browser are false, the company says in a new blog post. The browser lets users surf the web with a higher degree of anonymity, making it more difficult for hackers (or the government) to follow them around the Internet.\\n\\nComcast’s Jason Livingood wrote in today’s post:\\n\\nComcast is not asking customers to stop using Tor, or any other browser for that matter. We have no policy against Tor, or any other browser or software. Customers are free to use their Xfinity Internet service to visit any website, use any app...  \n",
       "13616  Reports that Comcast will deny Internet service to users of the Tor Internet browser are false, the company says in a new blog post. The browser lets users surf the web with a higher degree of anonymity, making it more difficult for hackers (or the government) to follow them around the Internet.\\n\\nComcast’s Jason Livingood wrote in today’s post:\\n\\nComcast is not asking customers to stop using Tor, or any other browser for that matter. We have no policy against Tor, or any other browser or software. Customers are free to use their Xfinity Internet service to visit any website, use any app...  \n",
       "13617  Reports that Comcast will deny Internet service to users of the Tor Internet browser are false, the company says in a new blog post. The browser lets users surf the web with a higher degree of anonymity, making it more difficult for hackers (or the government) to follow them around the Internet.\\n\\nComcast’s Jason Livingood wrote in today’s post:\\n\\nComcast is not asking customers to stop using Tor, or any other browser for that matter. We have no policy against Tor, or any other browser or software. Customers are free to use their Xfinity Internet service to visit any website, use any app...  \n",
       "13618  Reports that Comcast will deny Internet service to users of the Tor Internet browser are false, the company says in a new blog post. The browser lets users surf the web with a higher degree of anonymity, making it more difficult for hackers (or the government) to follow them around the Internet.\\n\\nComcast’s Jason Livingood wrote in today’s post:\\n\\nComcast is not asking customers to stop using Tor, or any other browser for that matter. We have no policy against Tor, or any other browser or software. Customers are free to use their Xfinity Internet service to visit any website, use any app...  \n",
       "13619  Reports that Comcast will deny Internet service to users of the Tor Internet browser are false, the company says in a new blog post. The browser lets users surf the web with a higher degree of anonymity, making it more difficult for hackers (or the government) to follow them around the Internet.\\n\\nComcast’s Jason Livingood wrote in today’s post:\\n\\nComcast is not asking customers to stop using Tor, or any other browser for that matter. We have no policy against Tor, or any other browser or software. Customers are free to use their Xfinity Internet service to visit any website, use any app...  \n",
       "13620  Reports that Comcast will deny Internet service to users of the Tor Internet browser are false, the company says in a new blog post. The browser lets users surf the web with a higher degree of anonymity, making it more difficult for hackers (or the government) to follow them around the Internet.\\n\\nComcast’s Jason Livingood wrote in today’s post:\\n\\nComcast is not asking customers to stop using Tor, or any other browser for that matter. We have no policy against Tor, or any other browser or software. Customers are free to use their Xfinity Internet service to visit any website, use any app...  \n",
       "13621  Reports that Comcast will deny Internet service to users of the Tor Internet browser are false, the company says in a new blog post. The browser lets users surf the web with a higher degree of anonymity, making it more difficult for hackers (or the government) to follow them around the Internet.\\n\\nComcast’s Jason Livingood wrote in today’s post:\\n\\nComcast is not asking customers to stop using Tor, or any other browser for that matter. We have no policy against Tor, or any other browser or software. Customers are free to use their Xfinity Internet service to visit any website, use any app...  \n",
       "13622  Reports that Comcast will deny Internet service to users of the Tor Internet browser are false, the company says in a new blog post. The browser lets users surf the web with a higher degree of anonymity, making it more difficult for hackers (or the government) to follow them around the Internet.\\n\\nComcast’s Jason Livingood wrote in today’s post:\\n\\nComcast is not asking customers to stop using Tor, or any other browser for that matter. We have no policy against Tor, or any other browser or software. Customers are free to use their Xfinity Internet service to visit any website, use any app...  \n",
       "13623  Reports that Comcast will deny Internet service to users of the Tor Internet browser are false, the company says in a new blog post. The browser lets users surf the web with a higher degree of anonymity, making it more difficult for hackers (or the government) to follow them around the Internet.\\n\\nComcast’s Jason Livingood wrote in today’s post:\\n\\nComcast is not asking customers to stop using Tor, or any other browser for that matter. We have no policy against Tor, or any other browser or software. Customers are free to use their Xfinity Internet service to visit any website, use any app...  \n",
       "13624  Reports that Comcast will deny Internet service to users of the Tor Internet browser are false, the company says in a new blog post. The browser lets users surf the web with a higher degree of anonymity, making it more difficult for hackers (or the government) to follow them around the Internet.\\n\\nComcast’s Jason Livingood wrote in today’s post:\\n\\nComcast is not asking customers to stop using Tor, or any other browser for that matter. We have no policy against Tor, or any other browser or software. Customers are free to use their Xfinity Internet service to visit any website, use any app...  \n",
       "13625  Reports that Comcast will deny Internet service to users of the Tor Internet browser are false, the company says in a new blog post. The browser lets users surf the web with a higher degree of anonymity, making it more difficult for hackers (or the government) to follow them around the Internet.\\n\\nComcast’s Jason Livingood wrote in today’s post:\\n\\nComcast is not asking customers to stop using Tor, or any other browser for that matter. We have no policy against Tor, or any other browser or software. Customers are free to use their Xfinity Internet service to visit any website, use any app...  \n",
       "13626  Reports that Comcast will deny Internet service to users of the Tor Internet browser are false, the company says in a new blog post. The browser lets users surf the web with a higher degree of anonymity, making it more difficult for hackers (or the government) to follow them around the Internet.\\n\\nComcast’s Jason Livingood wrote in today’s post:\\n\\nComcast is not asking customers to stop using Tor, or any other browser for that matter. We have no policy against Tor, or any other browser or software. Customers are free to use their Xfinity Internet service to visit any website, use any app...  "
      ]
     },
     "execution_count": 34,
     "metadata": {},
     "output_type": "execute_result"
    }
   ],
   "source": [
    "# Example of unrelated class\n",
    "unprocessed_train.loc[(unprocessed_train['Stance'] == 'unrelated') & (unprocessed_train['Body ID'] == 1403)]"
   ]
  },
  {
   "cell_type": "code",
   "execution_count": 35,
   "metadata": {
    "collapsed": false
   },
   "outputs": [
    {
     "data": {
      "text/html": [
       "<div>\n",
       "<style>\n",
       "    .dataframe thead tr:only-child th {\n",
       "        text-align: right;\n",
       "    }\n",
       "\n",
       "    .dataframe thead th {\n",
       "        text-align: left;\n",
       "    }\n",
       "\n",
       "    .dataframe tbody tr th {\n",
       "        vertical-align: top;\n",
       "    }\n",
       "</style>\n",
       "<table border=\"1\" class=\"dataframe\">\n",
       "  <thead>\n",
       "    <tr style=\"text-align: right;\">\n",
       "      <th></th>\n",
       "      <th>Headline</th>\n",
       "      <th>Body ID</th>\n",
       "      <th>Stance</th>\n",
       "      <th>articleBody</th>\n",
       "    </tr>\n",
       "  </thead>\n",
       "  <tbody>\n",
       "    <tr>\n",
       "      <th>13598</th>\n",
       "      <td>Comcast Says You Can Keep Your Tor</td>\n",
       "      <td>1403</td>\n",
       "      <td>agree</td>\n",
       "      <td>Reports that Comcast will deny Internet service to users of the Tor Internet browser are false, the company says in a new blog post. The browser lets users surf the web with a higher degree of anonymity, making it more difficult for hackers (or the government) to follow them around the Internet.\\n\\nComcast’s Jason Livingood wrote in today’s post:\\n\\nComcast is not asking customers to stop using Tor, or any other browser for that matter. We have no policy against Tor, or any other browser or software. Customers are free to use their Xfinity Internet service to visit any website, use any app...</td>\n",
       "    </tr>\n",
       "  </tbody>\n",
       "</table>\n",
       "</div>"
      ],
      "text/plain": [
       "                                 Headline  Body ID Stance  \\\n",
       "13598  Comcast Says You Can Keep Your Tor     1403  agree   \n",
       "\n",
       "                                                                                                                                                                                                                                                                                                                                                                                                                                                                                                                                                                                                                   articleBody  \n",
       "13598  Reports that Comcast will deny Internet service to users of the Tor Internet browser are false, the company says in a new blog post. The browser lets users surf the web with a higher degree of anonymity, making it more difficult for hackers (or the government) to follow them around the Internet.\\n\\nComcast’s Jason Livingood wrote in today’s post:\\n\\nComcast is not asking customers to stop using Tor, or any other browser for that matter. We have no policy against Tor, or any other browser or software. Customers are free to use their Xfinity Internet service to visit any website, use any app...  "
      ]
     },
     "execution_count": 35,
     "metadata": {},
     "output_type": "execute_result"
    }
   ],
   "source": [
    "# Example of agree class\n",
    "unprocessed_train.loc[(unprocessed_train['Stance'] == 'agree') & (unprocessed_train['Body ID'] == 1403)]"
   ]
  },
  {
   "cell_type": "code",
   "execution_count": 36,
   "metadata": {
    "collapsed": false
   },
   "outputs": [
    {
     "data": {
      "text/html": [
       "<div>\n",
       "<style>\n",
       "    .dataframe thead tr:only-child th {\n",
       "        text-align: right;\n",
       "    }\n",
       "\n",
       "    .dataframe thead th {\n",
       "        text-align: left;\n",
       "    }\n",
       "\n",
       "    .dataframe tbody tr th {\n",
       "        vertical-align: top;\n",
       "    }\n",
       "</style>\n",
       "<table border=\"1\" class=\"dataframe\">\n",
       "  <thead>\n",
       "    <tr style=\"text-align: right;\">\n",
       "      <th></th>\n",
       "      <th>Headline</th>\n",
       "      <th>Body ID</th>\n",
       "      <th>Stance</th>\n",
       "      <th>articleBody</th>\n",
       "    </tr>\n",
       "  </thead>\n",
       "  <tbody>\n",
       "    <tr>\n",
       "      <th>13588</th>\n",
       "      <td>Comcast Declares War on Tor?</td>\n",
       "      <td>1403</td>\n",
       "      <td>discuss</td>\n",
       "      <td>Reports that Comcast will deny Internet service to users of the Tor Internet browser are false, the company says in a new blog post. The browser lets users surf the web with a higher degree of anonymity, making it more difficult for hackers (or the government) to follow them around the Internet.\\n\\nComcast’s Jason Livingood wrote in today’s post:\\n\\nComcast is not asking customers to stop using Tor, or any other browser for that matter. We have no policy against Tor, or any other browser or software. Customers are free to use their Xfinity Internet service to visit any website, use any app...</td>\n",
       "    </tr>\n",
       "  </tbody>\n",
       "</table>\n",
       "</div>"
      ],
      "text/plain": [
       "                           Headline  Body ID   Stance  \\\n",
       "13588  Comcast Declares War on Tor?     1403  discuss   \n",
       "\n",
       "                                                                                                                                                                                                                                                                                                                                                                                                                                                                                                                                                                                                                   articleBody  \n",
       "13588  Reports that Comcast will deny Internet service to users of the Tor Internet browser are false, the company says in a new blog post. The browser lets users surf the web with a higher degree of anonymity, making it more difficult for hackers (or the government) to follow them around the Internet.\\n\\nComcast’s Jason Livingood wrote in today’s post:\\n\\nComcast is not asking customers to stop using Tor, or any other browser for that matter. We have no policy against Tor, or any other browser or software. Customers are free to use their Xfinity Internet service to visit any website, use any app...  "
      ]
     },
     "execution_count": 36,
     "metadata": {},
     "output_type": "execute_result"
    }
   ],
   "source": [
    "# Example of discuss class\n",
    "unprocessed_train.loc[(unprocessed_train['Stance'] == 'discuss') & (unprocessed_train['Body ID'] == 1403)]"
   ]
  },
  {
   "cell_type": "code",
   "execution_count": 37,
   "metadata": {
    "collapsed": false
   },
   "outputs": [
    {
     "data": {
      "text/html": [
       "<div>\n",
       "<style>\n",
       "    .dataframe thead tr:only-child th {\n",
       "        text-align: right;\n",
       "    }\n",
       "\n",
       "    .dataframe thead th {\n",
       "        text-align: left;\n",
       "    }\n",
       "\n",
       "    .dataframe tbody tr th {\n",
       "        vertical-align: top;\n",
       "    }\n",
       "</style>\n",
       "<table border=\"1\" class=\"dataframe\">\n",
       "  <thead>\n",
       "    <tr style=\"text-align: right;\">\n",
       "      <th></th>\n",
       "      <th>Headline</th>\n",
       "      <th>Body ID</th>\n",
       "      <th>Stance</th>\n",
       "      <th>articleBody</th>\n",
       "    </tr>\n",
       "  </thead>\n",
       "  <tbody>\n",
       "    <tr>\n",
       "      <th>13580</th>\n",
       "      <td>Comcast blocks Tor</td>\n",
       "      <td>1403</td>\n",
       "      <td>disagree</td>\n",
       "      <td>Reports that Comcast will deny Internet service to users of the Tor Internet browser are false, the company says in a new blog post. The browser lets users surf the web with a higher degree of anonymity, making it more difficult for hackers (or the government) to follow them around the Internet.\\n\\nComcast’s Jason Livingood wrote in today’s post:\\n\\nComcast is not asking customers to stop using Tor, or any other browser for that matter. We have no policy against Tor, or any other browser or software. Customers are free to use their Xfinity Internet service to visit any website, use any app...</td>\n",
       "    </tr>\n",
       "    <tr>\n",
       "      <th>13602</th>\n",
       "      <td>Comcast Is Threatening To Cut Off Customers Who Use Tor, The Web Browser For Criminals</td>\n",
       "      <td>1403</td>\n",
       "      <td>disagree</td>\n",
       "      <td>Reports that Comcast will deny Internet service to users of the Tor Internet browser are false, the company says in a new blog post. The browser lets users surf the web with a higher degree of anonymity, making it more difficult for hackers (or the government) to follow them around the Internet.\\n\\nComcast’s Jason Livingood wrote in today’s post:\\n\\nComcast is not asking customers to stop using Tor, or any other browser for that matter. We have no policy against Tor, or any other browser or software. Customers are free to use their Xfinity Internet service to visit any website, use any app...</td>\n",
       "    </tr>\n",
       "  </tbody>\n",
       "</table>\n",
       "</div>"
      ],
      "text/plain": [
       "                                                                                     Headline  \\\n",
       "13580                                                                      Comcast blocks Tor   \n",
       "13602  Comcast Is Threatening To Cut Off Customers Who Use Tor, The Web Browser For Criminals   \n",
       "\n",
       "       Body ID    Stance  \\\n",
       "13580     1403  disagree   \n",
       "13602     1403  disagree   \n",
       "\n",
       "                                                                                                                                                                                                                                                                                                                                                                                                                                                                                                                                                                                                                   articleBody  \n",
       "13580  Reports that Comcast will deny Internet service to users of the Tor Internet browser are false, the company says in a new blog post. The browser lets users surf the web with a higher degree of anonymity, making it more difficult for hackers (or the government) to follow them around the Internet.\\n\\nComcast’s Jason Livingood wrote in today’s post:\\n\\nComcast is not asking customers to stop using Tor, or any other browser for that matter. We have no policy against Tor, or any other browser or software. Customers are free to use their Xfinity Internet service to visit any website, use any app...  \n",
       "13602  Reports that Comcast will deny Internet service to users of the Tor Internet browser are false, the company says in a new blog post. The browser lets users surf the web with a higher degree of anonymity, making it more difficult for hackers (or the government) to follow them around the Internet.\\n\\nComcast’s Jason Livingood wrote in today’s post:\\n\\nComcast is not asking customers to stop using Tor, or any other browser for that matter. We have no policy against Tor, or any other browser or software. Customers are free to use their Xfinity Internet service to visit any website, use any app...  "
      ]
     },
     "execution_count": 37,
     "metadata": {},
     "output_type": "execute_result"
    }
   ],
   "source": [
    "# Example of disagree class\n",
    "unprocessed_train.loc[(unprocessed_train['Stance'] == 'disagree') & (unprocessed_train['Body ID'] == 1403)]"
   ]
  },
  {
   "cell_type": "markdown",
   "metadata": {},
   "source": [
    "### Running functions in order to process text"
   ]
  },
  {
   "cell_type": "code",
   "execution_count": 38,
   "metadata": {
    "collapsed": false
   },
   "outputs": [],
   "source": [
    "preprocessing(train_heads, 'Headline')\n",
    "preprocessing(train_bodies, 'articleBody')\n",
    "preprocessing(test_heads, 'Headline')\n",
    "preprocessing(test_bodies, 'articleBody')"
   ]
  },
  {
   "cell_type": "code",
   "execution_count": 39,
   "metadata": {
    "collapsed": false
   },
   "outputs": [],
   "source": [
    "train = merge_data(train_heads, train_bodies)\n",
    "test = merge_data(test_heads, test_bodies)"
   ]
  },
  {
   "cell_type": "code",
   "execution_count": 40,
   "metadata": {
    "collapsed": false
   },
   "outputs": [],
   "source": [
    "unique_trains = get_unique_strings(train)"
   ]
  },
  {
   "cell_type": "code",
   "execution_count": 41,
   "metadata": {
    "collapsed": false
   },
   "outputs": [],
   "source": [
    "total_number_of_words = number_of_uniqe_words(unique_trains)"
   ]
  },
  {
   "cell_type": "code",
   "execution_count": 42,
   "metadata": {
    "collapsed": false
   },
   "outputs": [
    {
     "data": {
      "text/plain": [
       "21634"
      ]
     },
     "execution_count": 42,
     "metadata": {},
     "output_type": "execute_result"
    }
   ],
   "source": [
    "total_number_of_words"
   ]
  },
  {
   "cell_type": "raw",
   "metadata": {},
   "source": [
    "For the analysis we will use only part of vocabulary. Different sizes have been tested. 1000 words turned out to produce significantly lower results in classification. The increase to 3000 didn't imporve classification significantly, yet time of fitting models was notably longer. Therefore, I decided to choose 2000 words which is a balance between accuracy and performance."
   ]
  },
  {
   "cell_type": "code",
   "execution_count": 43,
   "metadata": {
    "collapsed": false
   },
   "outputs": [],
   "source": [
    "X_train = process_data(unique_trains, 2000, train)\n",
    "X_test = process_data(unique_trains, 2000, test)"
   ]
  },
  {
   "cell_type": "code",
   "execution_count": 44,
   "metadata": {
    "collapsed": false
   },
   "outputs": [
    {
     "name": "stdout",
     "output_type": "stream",
     "text": [
      "(49972, 4001)\n",
      "(25413, 4001)\n"
     ]
    }
   ],
   "source": [
    "print(X_train.shape)\n",
    "print(X_test.shape)"
   ]
  },
  {
   "cell_type": "code",
   "execution_count": 45,
   "metadata": {
    "collapsed": true
   },
   "outputs": [],
   "source": [
    "y_train = train.Stance.map({'unrelated': 0, 'disagree': 1, 'discuss' : 2, 'agree' : 3})\n",
    "y_test = test.Stance.map({'unrelated': 0, 'disagree': 1, 'discuss' : 2, 'agree' : 3})"
   ]
  },
  {
   "cell_type": "code",
   "execution_count": 46,
   "metadata": {
    "collapsed": false
   },
   "outputs": [
    {
     "name": "stdout",
     "output_type": "stream",
     "text": [
      "(49972,)\n",
      "(25413,)\n"
     ]
    }
   ],
   "source": [
    "print(y_train.shape)\n",
    "print(y_test.shape)"
   ]
  },
  {
   "cell_type": "code",
   "execution_count": 47,
   "metadata": {
    "collapsed": true
   },
   "outputs": [],
   "source": [
    "labels = [0, 1, 2, 3]"
   ]
  },
  {
   "cell_type": "markdown",
   "metadata": {},
   "source": [
    "# Classification"
   ]
  },
  {
   "cell_type": "raw",
   "metadata": {},
   "source": [
    "Initialising some models that support multiclass classification. Apart from accuracy score, F1 score for each class is calculated. Saving scores in lists, so later they can be easly compared."
   ]
  },
  {
   "cell_type": "code",
   "execution_count": 48,
   "metadata": {
    "collapsed": true
   },
   "outputs": [],
   "source": [
    "def classification(class_model, name_of_model, **kwargs):\n",
    "    model = class_model(**kwargs)\n",
    "    name = name_of_model\n",
    "    start_time = time.time()\n",
    "    model.fit(X_train, y_train)\n",
    "    time_of_fitting = round((time.time() - start_time) / 60, 2)\n",
    "    print(\"Time of fitting: %s minutes\" % (time_of_fitting))\n",
    "    y_pred = model.predict(X_test)\n",
    "    accuracy = metrics.accuracy_score(y_test, y_pred)\n",
    "    f1_scores = metrics.f1_score(y_test, y_pred, labels=labels, average=None)\n",
    "    f1_score_weighted = metrics.f1_score(y_test, y_pred, labels=labels, average='weighted')\n",
    "    print(name)\n",
    "    print('F1 score, class Unrelated: %.2f%%' % (f1_scores[0]*100),'\\n'\n",
    "          'F1 score, class Disagree: %.2f%%' % (f1_scores[1]*100),'\\n'\n",
    "          'F1 score, class Discuss: %.2f%%' % (f1_scores[2]*100),'\\n'\n",
    "          'F1 score, class Agree: %.2f%%' % (f1_scores[3]*100))\n",
    "    print(\"F1 score weighted: %.2f%%\" % (f1_score_weighted * 100.0))\n",
    "    print(\"Accuracy: %.2f%%\" % (accuracy * 100.0))\n",
    "    list_of_models.append(name)\n",
    "    F1_score_unrelated.append(f1_scores[0]*100)\n",
    "    F1_score_disagree.append(f1_scores[1]*100)\n",
    "    F1_score_discuss.append(f1_scores[2]*100)\n",
    "    F1_score_agree.append(f1_scores[3]*100)\n",
    "    F1_score_weighted_list.append(f1_score_weighted*100)\n",
    "    accuracy_list.append(accuracy*100)\n",
    "    times.append(time_of_fitting)"
   ]
  },
  {
   "cell_type": "code",
   "execution_count": 49,
   "metadata": {
    "collapsed": true
   },
   "outputs": [],
   "source": [
    "list_of_models = []\n",
    "F1_score_unrelated = []\n",
    "F1_score_disagree = []\n",
    "F1_score_discuss = []\n",
    "F1_score_agree = []\n",
    "F1_score_weighted_list = []\n",
    "accuracy_list = []\n",
    "times = []"
   ]
  },
  {
   "cell_type": "code",
   "execution_count": 50,
   "metadata": {
    "collapsed": false
   },
   "outputs": [
    {
     "name": "stdout",
     "output_type": "stream",
     "text": [
      "Time of fitting: 5.31 minutes\n",
      "Decision Tree\n",
      "F1 score, class Unrelated: 91.32% \n",
      "F1 score, class Disagree: 5.71% \n",
      "F1 score, class Discuss: 57.26% \n",
      "F1 score, class Agree: 37.31%\n",
      "F1 score weighted: 78.95%\n",
      "Accuracy: 79.16%\n"
     ]
    }
   ],
   "source": [
    "classification(DecisionTreeClassifier, 'Decision Tree')"
   ]
  },
  {
   "cell_type": "code",
   "execution_count": 51,
   "metadata": {
    "collapsed": false
   },
   "outputs": [
    {
     "name": "stdout",
     "output_type": "stream",
     "text": [
      "Time of fitting: 0.55 minutes\n",
      "Random Forest\n",
      "F1 score, class Unrelated: 93.85% \n",
      "F1 score, class Disagree: 0.00% \n",
      "F1 score, class Discuss: 61.08% \n",
      "F1 score, class Agree: 37.20%\n",
      "F1 score weighted: 81.28%\n",
      "Accuracy: 83.07%\n"
     ]
    }
   ],
   "source": [
    "classification(RandomForestClassifier, 'Random Forest')"
   ]
  },
  {
   "cell_type": "code",
   "execution_count": 52,
   "metadata": {
    "collapsed": false
   },
   "outputs": [
    {
     "name": "stdout",
     "output_type": "stream",
     "text": [
      "Time of fitting: 2.87 minutes\n",
      "Logistic Regression\n",
      "F1 score, class Unrelated: 93.97% \n",
      "F1 score, class Disagree: 0.86% \n",
      "F1 score, class Discuss: 67.07% \n",
      "F1 score, class Agree: 44.76%\n",
      "F1 score weighted: 83.01%\n",
      "Accuracy: 84.96%\n"
     ]
    }
   ],
   "source": [
    "classification(LogisticRegression, 'Logistic Regression', solver='saga', multi_class='multinomial')"
   ]
  },
  {
   "cell_type": "code",
   "execution_count": 53,
   "metadata": {
    "collapsed": false
   },
   "outputs": [
    {
     "name": "stderr",
     "output_type": "stream",
     "text": [
      "C:\\Users\\Lukasz1\\Anaconda3\\lib\\site-packages\\sklearn\\discriminant_analysis.py:682: UserWarning: Variables are collinear\n",
      "  warnings.warn(\"Variables are collinear\")\n"
     ]
    },
    {
     "name": "stdout",
     "output_type": "stream",
     "text": [
      "Time of fitting: 6.72 minutes\n",
      "QDA\n",
      "F1 score, class Unrelated: 4.75% \n",
      "F1 score, class Disagree: 4.86% \n",
      "F1 score, class Discuss: 24.44% \n",
      "F1 score, class Agree: 0.82%\n",
      "F1 score weighted: 7.91%\n",
      "Accuracy: 9.22%\n"
     ]
    }
   ],
   "source": [
    "classification(QuadraticDiscriminantAnalysis, 'QDA')"
   ]
  },
  {
   "cell_type": "code",
   "execution_count": 54,
   "metadata": {
    "collapsed": false
   },
   "outputs": [
    {
     "name": "stdout",
     "output_type": "stream",
     "text": [
      "Time of fitting: 0.58 minutes\n",
      "Extra Tree Classifier\n",
      "F1 score, class Unrelated: 85.82% \n",
      "F1 score, class Disagree: 7.25% \n",
      "F1 score, class Discuss: 46.27% \n",
      "F1 score, class Agree: 30.87%\n",
      "F1 score weighted: 72.60%\n",
      "Accuracy: 71.32%\n"
     ]
    }
   ],
   "source": [
    "classification(ExtraTreeClassifier, 'Extra Tree Classifier')"
   ]
  },
  {
   "cell_type": "code",
   "execution_count": 55,
   "metadata": {
    "collapsed": false
   },
   "outputs": [
    {
     "name": "stdout",
     "output_type": "stream",
     "text": [
      "Time of fitting: 0.85 minutes\n",
      "LinearSVC\n",
      "F1 score, class Unrelated: 92.19% \n",
      "F1 score, class Disagree: 4.99% \n",
      "F1 score, class Discuss: 61.41% \n",
      "F1 score, class Agree: 42.50%\n",
      "F1 score weighted: 80.67%\n",
      "Accuracy: 81.63%\n"
     ]
    }
   ],
   "source": [
    "classification(LinearSVC, 'LinearSVC', multi_class='crammer_singer')"
   ]
  },
  {
   "cell_type": "code",
   "execution_count": 56,
   "metadata": {
    "collapsed": false
   },
   "outputs": [
    {
     "name": "stdout",
     "output_type": "stream",
     "text": [
      "Time of fitting: 0.46 minutes\n",
      "Bernoulli NB\n",
      "F1 score, class Unrelated: 77.48% \n",
      "F1 score, class Disagree: 4.48% \n",
      "F1 score, class Discuss: 25.17% \n",
      "F1 score, class Agree: 33.38%\n",
      "F1 score weighted: 62.99%\n",
      "Accuracy: 61.96%\n"
     ]
    }
   ],
   "source": [
    "classification(BernoulliNB, 'Bernoulli NB')"
   ]
  },
  {
   "cell_type": "code",
   "execution_count": 57,
   "metadata": {
    "collapsed": false
   },
   "outputs": [
    {
     "name": "stdout",
     "output_type": "stream",
     "text": [
      "Time of fitting: 0.13 minutes\n",
      "Gaussian NB\n",
      "F1 score, class Unrelated: 22.15% \n",
      "F1 score, class Disagree: 10.12% \n",
      "F1 score, class Discuss: 28.73% \n",
      "F1 score, class Agree: 14.93%\n",
      "F1 score weighted: 22.43%\n",
      "Accuracy: 21.26%\n"
     ]
    }
   ],
   "source": [
    "classification(GaussianNB, 'Gaussian NB')"
   ]
  },
  {
   "cell_type": "code",
   "execution_count": 58,
   "metadata": {
    "collapsed": true
   },
   "outputs": [],
   "source": [
    "summary_dict = {'model' : list_of_models, \n",
    "                'F1 score, class Unrelated' : F1_score_unrelated, \n",
    "                'F1 score, class Disagree' : F1_score_disagree, \n",
    "                'F1 score, class Discuss' : F1_score_discuss, \n",
    "                'F1 score, class Agree' : F1_score_agree, \n",
    "                'F1 score weighted' : F1_score_weighted_list,\n",
    "                'Accuracy' : accuracy_list, \n",
    "                'Time of fitting (in minutes)' : times}"
   ]
  },
  {
   "cell_type": "code",
   "execution_count": 59,
   "metadata": {
    "collapsed": false
   },
   "outputs": [],
   "source": [
    "summary_table = pd.DataFrame(summary_dict)"
   ]
  },
  {
   "cell_type": "code",
   "execution_count": 60,
   "metadata": {
    "collapsed": false
   },
   "outputs": [],
   "source": [
    "summary_table.set_index('model', inplace=True)\n",
    "summary_table.index.name = None"
   ]
  },
  {
   "cell_type": "code",
   "execution_count": 61,
   "metadata": {
    "collapsed": false
   },
   "outputs": [
    {
     "data": {
      "text/html": [
       "<div>\n",
       "<style>\n",
       "    .dataframe thead tr:only-child th {\n",
       "        text-align: right;\n",
       "    }\n",
       "\n",
       "    .dataframe thead th {\n",
       "        text-align: left;\n",
       "    }\n",
       "\n",
       "    .dataframe tbody tr th {\n",
       "        vertical-align: top;\n",
       "    }\n",
       "</style>\n",
       "<table border=\"1\" class=\"dataframe\">\n",
       "  <thead>\n",
       "    <tr style=\"text-align: right;\">\n",
       "      <th></th>\n",
       "      <th>Accuracy</th>\n",
       "      <th>F1 score weighted</th>\n",
       "      <th>F1 score, class Agree</th>\n",
       "      <th>F1 score, class Disagree</th>\n",
       "      <th>F1 score, class Discuss</th>\n",
       "      <th>F1 score, class Unrelated</th>\n",
       "      <th>Time of fitting (in minutes)</th>\n",
       "    </tr>\n",
       "  </thead>\n",
       "  <tbody>\n",
       "    <tr>\n",
       "      <th>Decision Tree</th>\n",
       "      <td>79.164207</td>\n",
       "      <td>78.947653</td>\n",
       "      <td>37.313041</td>\n",
       "      <td>5.708849</td>\n",
       "      <td>57.257638</td>\n",
       "      <td>91.324476</td>\n",
       "      <td>5.31</td>\n",
       "    </tr>\n",
       "    <tr>\n",
       "      <th>Random Forest</th>\n",
       "      <td>83.071656</td>\n",
       "      <td>81.276276</td>\n",
       "      <td>37.198489</td>\n",
       "      <td>0.000000</td>\n",
       "      <td>61.080032</td>\n",
       "      <td>93.848385</td>\n",
       "      <td>0.55</td>\n",
       "    </tr>\n",
       "    <tr>\n",
       "      <th>Logistic Regression</th>\n",
       "      <td>84.964388</td>\n",
       "      <td>83.007402</td>\n",
       "      <td>44.759891</td>\n",
       "      <td>0.855920</td>\n",
       "      <td>67.065026</td>\n",
       "      <td>93.973197</td>\n",
       "      <td>2.87</td>\n",
       "    </tr>\n",
       "    <tr>\n",
       "      <th>QDA</th>\n",
       "      <td>9.219691</td>\n",
       "      <td>7.914609</td>\n",
       "      <td>0.821777</td>\n",
       "      <td>4.864328</td>\n",
       "      <td>24.439746</td>\n",
       "      <td>4.745799</td>\n",
       "      <td>6.72</td>\n",
       "    </tr>\n",
       "    <tr>\n",
       "      <th>Extra Tree Classifier</th>\n",
       "      <td>71.321764</td>\n",
       "      <td>72.602009</td>\n",
       "      <td>30.872202</td>\n",
       "      <td>7.253886</td>\n",
       "      <td>46.271473</td>\n",
       "      <td>85.817933</td>\n",
       "      <td>0.58</td>\n",
       "    </tr>\n",
       "    <tr>\n",
       "      <th>LinearSVC</th>\n",
       "      <td>81.627513</td>\n",
       "      <td>80.673364</td>\n",
       "      <td>42.504849</td>\n",
       "      <td>4.986877</td>\n",
       "      <td>61.409999</td>\n",
       "      <td>92.193329</td>\n",
       "      <td>0.85</td>\n",
       "    </tr>\n",
       "    <tr>\n",
       "      <th>Bernoulli NB</th>\n",
       "      <td>61.964349</td>\n",
       "      <td>62.987773</td>\n",
       "      <td>33.375675</td>\n",
       "      <td>4.481793</td>\n",
       "      <td>25.169246</td>\n",
       "      <td>77.481881</td>\n",
       "      <td>0.46</td>\n",
       "    </tr>\n",
       "    <tr>\n",
       "      <th>Gaussian NB</th>\n",
       "      <td>21.256837</td>\n",
       "      <td>22.433639</td>\n",
       "      <td>14.930191</td>\n",
       "      <td>10.123796</td>\n",
       "      <td>28.734168</td>\n",
       "      <td>22.146619</td>\n",
       "      <td>0.13</td>\n",
       "    </tr>\n",
       "  </tbody>\n",
       "</table>\n",
       "</div>"
      ],
      "text/plain": [
       "                        Accuracy  F1 score weighted  F1 score, class Agree  \\\n",
       "Decision Tree          79.164207          78.947653              37.313041   \n",
       "Random Forest          83.071656          81.276276              37.198489   \n",
       "Logistic Regression    84.964388          83.007402              44.759891   \n",
       "QDA                     9.219691           7.914609               0.821777   \n",
       "Extra Tree Classifier  71.321764          72.602009              30.872202   \n",
       "LinearSVC              81.627513          80.673364              42.504849   \n",
       "Bernoulli NB           61.964349          62.987773              33.375675   \n",
       "Gaussian NB            21.256837          22.433639              14.930191   \n",
       "\n",
       "                       F1 score, class Disagree  F1 score, class Discuss  \\\n",
       "Decision Tree                          5.708849                57.257638   \n",
       "Random Forest                          0.000000                61.080032   \n",
       "Logistic Regression                    0.855920                67.065026   \n",
       "QDA                                    4.864328                24.439746   \n",
       "Extra Tree Classifier                  7.253886                46.271473   \n",
       "LinearSVC                              4.986877                61.409999   \n",
       "Bernoulli NB                           4.481793                25.169246   \n",
       "Gaussian NB                           10.123796                28.734168   \n",
       "\n",
       "                       F1 score, class Unrelated  Time of fitting (in minutes)  \n",
       "Decision Tree                          91.324476                          5.31  \n",
       "Random Forest                          93.848385                          0.55  \n",
       "Logistic Regression                    93.973197                          2.87  \n",
       "QDA                                     4.745799                          6.72  \n",
       "Extra Tree Classifier                  85.817933                          0.58  \n",
       "LinearSVC                              92.193329                          0.85  \n",
       "Bernoulli NB                           77.481881                          0.46  \n",
       "Gaussian NB                            22.146619                          0.13  "
      ]
     },
     "execution_count": 61,
     "metadata": {},
     "output_type": "execute_result"
    }
   ],
   "source": [
    "summary_table"
   ]
  },
  {
   "cell_type": "raw",
   "metadata": {},
   "source": [
    "For Voting Classifier I choose these models which have in general high accuracy, but also they have relatievly good F1 scores on other classes than Unrelated. Therefore I choose:\n",
    "- Linear SVC (43% on class Agree and 61% on Discuss)\n",
    "- Logistic Regression (45% on class Agree and 67% on Discuss)\n",
    "- Decision Tree and Extra Tree (on class Disagree respectively 6% and 7%)"
   ]
  },
  {
   "cell_type": "code",
   "execution_count": 62,
   "metadata": {
    "collapsed": false
   },
   "outputs": [
    {
     "name": "stdout",
     "output_type": "stream",
     "text": [
      "Time of fitting: 9.46 minutes\n",
      "F1 score, class Unrelated: 93.98% \n",
      "F1 score, class Disagree: 2.43% \n",
      "F1 score, class Discuss: 66.27% \n",
      "F1 score, class Agree: 39.19%\n",
      "F1 score weighted: 82.50%\n",
      "Accuracy: 84.59%\n"
     ]
    }
   ],
   "source": [
    "models = [LogisticRegression(solver='saga', multi_class='multinomial'), \n",
    "          LinearSVC(multi_class='crammer_singer'),\n",
    "          DecisionTreeClassifier(),\n",
    "          ExtraTreeClassifier()]\n",
    "\n",
    "model = VotingClassifier(estimators=list(zip([\"lr\",\"lsvc\",\"dtr\",'exc'],models)),voting=\"hard\")\n",
    "name = 'Voting Classifier'\n",
    "start_time = time.time()\n",
    "model.fit(X_train, y_train)\n",
    "time_of_model = round((time.time() - start_time) / 60, 2)\n",
    "print(\"Time of fitting: %s minutes\" % (time_of_model))\n",
    "y_pred = model.predict(X_test)\n",
    "accuracy = metrics.accuracy_score(y_test, y_pred)\n",
    "f1_scores = metrics.f1_score(y_test, y_pred, labels=labels, average=None)\n",
    "f1_score_weighted = metrics.f1_score(y_test, y_pred, labels=labels, average='weighted')\n",
    "print('F1 score, class Unrelated: %.2f%%' % (f1_scores[0]*100),'\\n'\n",
    "     'F1 score, class Disagree: %.2f%%' % (f1_scores[1]*100),'\\n'\n",
    "     'F1 score, class Discuss: %.2f%%' % (f1_scores[2]*100),'\\n'\n",
    "     'F1 score, class Agree: %.2f%%' % (f1_scores[3]*100))\n",
    "print(\"F1 score weighted: %.2f%%\" % (f1_score_weighted * 100.0))\n",
    "print(\"Accuracy: %.2f%%\" % (accuracy * 100.0))\n",
    "\n",
    "list_of_models.append(name)\n",
    "F1_score_unrelated.append(f1_scores[0]*100)\n",
    "F1_score_disagree.append(f1_scores[1]*100)\n",
    "F1_score_discuss.append(f1_scores[2]*100)\n",
    "F1_score_agree.append(f1_scores[3]*100)\n",
    "F1_score_weighted_list.append(f1_score_weighted*100)\n",
    "accuracy_list.append(accuracy*100)\n",
    "times.append(time_of_model)"
   ]
  },
  {
   "cell_type": "code",
   "execution_count": 63,
   "metadata": {
    "collapsed": false
   },
   "outputs": [
    {
     "name": "stdout",
     "output_type": "stream",
     "text": [
      "LogisticRegression(C=1.0, class_weight=None, dual=False, fit_intercept=True,\n",
      "          intercept_scaling=1, max_iter=500, multi_class='multinomial',\n",
      "          n_jobs=1, penalty='l2', random_state=None, solver='saga',\n",
      "          tol=0.0001, verbose=0, warm_start=False)\n"
     ]
    },
    {
     "name": "stderr",
     "output_type": "stream",
     "text": [
      "C:\\Users\\Lukasz1\\Anaconda3\\lib\\site-packages\\sklearn\\linear_model\\sag.py:326: ConvergenceWarning: The max_iter was reached which means the coef_ did not converge\n",
      "  \"the coef_ did not converge\", ConvergenceWarning)\n",
      "C:\\Users\\Lukasz1\\Anaconda3\\lib\\site-packages\\sklearn\\linear_model\\sag.py:326: ConvergenceWarning: The max_iter was reached which means the coef_ did not converge\n",
      "  \"the coef_ did not converge\", ConvergenceWarning)\n"
     ]
    },
    {
     "name": "stdout",
     "output_type": "stream",
     "text": [
      "Time of modeling: 389.9 minutes\n"
     ]
    },
    {
     "name": "stderr",
     "output_type": "stream",
     "text": [
      "C:\\Users\\Lukasz1\\Anaconda3\\lib\\site-packages\\sklearn\\model_selection\\_search.py:747: DeprecationWarning: The grid_scores_ attribute was deprecated in version 0.18 in favor of the more elaborate cv_results_ attribute. The grid_scores_ attribute will not be available from 0.20\n",
      "  DeprecationWarning)\n"
     ]
    },
    {
     "name": "stdout",
     "output_type": "stream",
     "text": [
      "[mean: 0.90459, std: 0.00506, params: {'C': 0.5, 'penalty': 'l1'},\n",
      " mean: 0.90873, std: 0.00443, params: {'C': 0.5, 'penalty': 'l2'},\n",
      " mean: 0.90652, std: 0.00560, params: {'C': 1, 'penalty': 'l1'},\n",
      " mean: 0.91096, std: 0.00309, params: {'C': 1, 'penalty': 'l2'},\n",
      " mean: 0.90053, std: 0.00427, params: {'C': 3, 'penalty': 'l1'},\n",
      " mean: 0.90960, std: 0.00225, params: {'C': 3, 'penalty': 'l2'}]\n",
      "LinearSVC(C=1.0, class_weight=None, dual=True, fit_intercept=True,\n",
      "     intercept_scaling=1, loss='squared_hinge', max_iter=1000,\n",
      "     multi_class='crammer_singer', penalty='l2', random_state=None,\n",
      "     tol=0.0001, verbose=0)\n",
      "Time of modeling: 23.62 minutes\n",
      "[mean: 0.90875, std: 0.00132, params: {'C': 0.5, 'penalty': 'l1'},\n",
      " mean: 0.90875, std: 0.00132, params: {'C': 0.5, 'penalty': 'l2'},\n",
      " mean: 0.90274, std: 0.00291, params: {'C': 1, 'penalty': 'l1'},\n",
      " mean: 0.90274, std: 0.00292, params: {'C': 1, 'penalty': 'l2'},\n",
      " mean: 0.89329, std: 0.00299, params: {'C': 3, 'penalty': 'l1'},\n",
      " mean: 0.89329, std: 0.00299, params: {'C': 3, 'penalty': 'l2'}]\n",
      "DecisionTreeClassifier(class_weight=None, criterion='gini', max_depth=None,\n",
      "            max_features=None, max_leaf_nodes=None,\n",
      "            min_impurity_decrease=0.0, min_impurity_split=None,\n",
      "            min_samples_leaf=1, min_samples_split=2,\n",
      "            min_weight_fraction_leaf=0.0, presort=False, random_state=None,\n",
      "            splitter='best')\n"
     ]
    },
    {
     "name": "stderr",
     "output_type": "stream",
     "text": [
      "C:\\Users\\Lukasz1\\Anaconda3\\lib\\site-packages\\sklearn\\model_selection\\_search.py:747: DeprecationWarning: The grid_scores_ attribute was deprecated in version 0.18 in favor of the more elaborate cv_results_ attribute. The grid_scores_ attribute will not be available from 0.20\n",
      "  DeprecationWarning)\n"
     ]
    },
    {
     "name": "stdout",
     "output_type": "stream",
     "text": [
      "Time of modeling: 43.24 minutes\n",
      "[mean: 0.80321, std: 0.02667, params: {'criterion': 'gini', 'min_samples_leaf': 1},\n",
      " mean: 0.85818, std: 0.00403, params: {'criterion': 'gini', 'min_samples_leaf': 5},\n",
      " mean: 0.86961, std: 0.00664, params: {'criterion': 'gini', 'min_samples_leaf': 10},\n",
      " mean: 0.84684, std: 0.01707, params: {'criterion': 'entropy', 'min_samples_leaf': 1},\n",
      " mean: 0.86804, std: 0.00897, params: {'criterion': 'entropy', 'min_samples_leaf': 5},\n",
      " mean: 0.88095, std: 0.00300, params: {'criterion': 'entropy', 'min_samples_leaf': 10}]\n",
      "ExtraTreeClassifier(class_weight=None, criterion='gini', max_depth=None,\n",
      "          max_features='auto', max_leaf_nodes=None,\n",
      "          min_impurity_decrease=0.0, min_impurity_split=None,\n",
      "          min_samples_leaf=1, min_samples_split=2,\n",
      "          min_weight_fraction_leaf=0.0, random_state=None,\n",
      "          splitter='random')\n"
     ]
    },
    {
     "name": "stderr",
     "output_type": "stream",
     "text": [
      "C:\\Users\\Lukasz1\\Anaconda3\\lib\\site-packages\\sklearn\\model_selection\\_search.py:747: DeprecationWarning: The grid_scores_ attribute was deprecated in version 0.18 in favor of the more elaborate cv_results_ attribute. The grid_scores_ attribute will not be available from 0.20\n",
      "  DeprecationWarning)\n"
     ]
    },
    {
     "name": "stdout",
     "output_type": "stream",
     "text": [
      "Time of modeling: 1.89 minutes\n",
      "[mean: 0.57776, std: 0.05204, params: {'criterion': 'gini', 'min_samples_leaf': 1},\n",
      " "
     ]
    },
    {
     "name": "stderr",
     "output_type": "stream",
     "text": [
      "C:\\Users\\Lukasz1\\Anaconda3\\lib\\site-packages\\sklearn\\model_selection\\_search.py:747: DeprecationWarning: The grid_scores_ attribute was deprecated in version 0.18 in favor of the more elaborate cv_results_ attribute. The grid_scores_ attribute will not be available from 0.20\n",
      "  DeprecationWarning)\n"
     ]
    },
    {
     "name": "stdout",
     "output_type": "stream",
     "text": [
      "mean: 0.66158, std: 0.09710, params: {'criterion': 'gini', 'min_samples_leaf': 5},\n",
      " mean: 0.68044, std: 0.06545, params: {'criterion': 'gini', 'min_samples_leaf': 10},\n",
      " mean: 0.61419, std: 0.06358, params: {'criterion': 'entropy', 'min_samples_leaf': 1},\n",
      " mean: 0.58481, std: 0.02363, params: {'criterion': 'entropy', 'min_samples_leaf': 5},\n",
      " mean: 0.66811, std: 0.05636, params: {'criterion': 'entropy', 'min_samples_leaf': 10}]\n"
     ]
    }
   ],
   "source": [
    "best_params = []\n",
    "\n",
    "models = [LogisticRegression(solver='saga', multi_class='multinomial', max_iter=500), \n",
    "          LinearSVC(multi_class='crammer_singer'),\n",
    "          DecisionTreeClassifier(),\n",
    "          ExtraTreeClassifier()]\n",
    "\n",
    "param_grids = [{\"penalty\":[\"l1\",\"l2\"], \"C\":[0.5,1,3]},\n",
    "               {\"penalty\":[\"l1\",\"l2\"], \"C\":[0.5,1,3]},\n",
    "               {\"criterion\": ['gini', 'entropy'], \"min_samples_leaf\": [1,5,10]},\n",
    "               {\"criterion\": ['gini', 'entropy'], \"min_samples_leaf\": [1,5,10]}]\n",
    "\n",
    "for model, grid in zip(models,param_grids):\n",
    "    start_time = time.time()\n",
    "    print(model)\n",
    "    cv = GridSearchCV(model,grid,scoring=\"f1_weighted\")\n",
    "    cv.fit(X_train,y_train)\n",
    "    time_of_model = round((time.time() - start_time) / 60, 2)\n",
    "    print(\"Time of modeling: %s minutes\" % (time_of_model))\n",
    "    best_params.append(cv.best_params_)\n",
    "    pprint(cv.grid_scores_)"
   ]
  },
  {
   "cell_type": "code",
   "execution_count": 69,
   "metadata": {
    "collapsed": false
   },
   "outputs": [
    {
     "name": "stdout",
     "output_type": "stream",
     "text": [
      "Time of fitting: 0.33 minutes\n",
      "Linear SVC (optimised)\n",
      "F1 score, class Unrelated: 92.88% \n",
      "F1 score, class Disagree: 3.97% \n",
      "F1 score, class Discuss: 63.60% \n",
      "F1 score, class Agree: 44.27%\n",
      "F1 score weighted: 81.66%\n",
      "Accuracy: 82.96%\n"
     ]
    }
   ],
   "source": [
    "classification(LinearSVC, 'Linear SVC (optimised)', multi_class='crammer_singer', C=0.5)"
   ]
  },
  {
   "cell_type": "code",
   "execution_count": 70,
   "metadata": {
    "collapsed": false
   },
   "outputs": [
    {
     "name": "stdout",
     "output_type": "stream",
     "text": [
      "Time of fitting: 3.61 minutes\n",
      "Decision Tree (optimised)\n",
      "F1 score, class Unrelated: 93.98% \n",
      "F1 score, class Disagree: 15.88% \n",
      "F1 score, class Discuss: 61.65% \n",
      "F1 score, class Agree: 38.73%\n",
      "F1 score weighted: 82.02%\n",
      "Accuracy: 83.11%\n"
     ]
    }
   ],
   "source": [
    "classification(DecisionTreeClassifier, 'Decision Tree (optimised)', criterion='entropy', min_samples_leaf=10)"
   ]
  },
  {
   "cell_type": "code",
   "execution_count": 71,
   "metadata": {
    "collapsed": false
   },
   "outputs": [
    {
     "name": "stdout",
     "output_type": "stream",
     "text": [
      "Time of fitting: 0.21 minutes\n",
      "Extra Tree (optimised)\n",
      "F1 score, class Unrelated: 89.99% \n",
      "F1 score, class Disagree: 1.28% \n",
      "F1 score, class Discuss: 54.63% \n",
      "F1 score, class Agree: 34.88%\n",
      "F1 score weighted: 77.22%\n",
      "Accuracy: 77.69%\n"
     ]
    }
   ],
   "source": [
    "classification(ExtraTreeClassifier, 'Extra Tree (optimised)', criterion='gini', min_samples_leaf=10)"
   ]
  },
  {
   "cell_type": "code",
   "execution_count": 72,
   "metadata": {
    "collapsed": false
   },
   "outputs": [
    {
     "name": "stdout",
     "output_type": "stream",
     "text": [
      "Time of fitting: 3.25 minutes\n",
      "Logistic Regression (optimised)\n",
      "F1 score, class Unrelated: 93.97% \n",
      "F1 score, class Disagree: 0.86% \n",
      "F1 score, class Discuss: 67.07% \n",
      "F1 score, class Agree: 44.76%\n",
      "F1 score weighted: 83.01%\n",
      "Accuracy: 84.96%\n"
     ]
    }
   ],
   "source": [
    "classification(LogisticRegression, 'Logistic Regression (optimised)', solver='saga', multi_class='multinomial', max_iter=500, penalty='l2')"
   ]
  },
  {
   "cell_type": "code",
   "execution_count": 73,
   "metadata": {
    "collapsed": false
   },
   "outputs": [
    {
     "name": "stdout",
     "output_type": "stream",
     "text": [
      "Time of fitting: 7.11 minutes\n",
      "F1 score, class Unrelated: 93.83% \n",
      "F1 score, class Disagree: 2.52% \n",
      "F1 score, class Discuss: 66.92% \n",
      "F1 score, class Agree: 43.38%\n",
      "F1 score weighted: 82.82%\n",
      "Accuracy: 84.91%\n"
     ]
    }
   ],
   "source": [
    "models = [LogisticRegression(solver='saga', multi_class='multinomial', max_iter=500, penalty='l2'), \n",
    "          LinearSVC(multi_class='crammer_singer', C=0.5),\n",
    "          DecisionTreeClassifier(criterion='entropy', min_samples_leaf=10),\n",
    "          ExtraTreeClassifier(criterion='gini', min_samples_leaf=10)]\n",
    "\n",
    "model = VotingClassifier(estimators=list(zip([\"lr\",\"lsvc\",\"dtr\",'exc'],models)),voting=\"hard\")\n",
    "name = 'Voting Classifier (optimised)'\n",
    "start_time = time.time()\n",
    "model.fit(X_train, y_train)\n",
    "time_of_model = round((time.time() - start_time) / 60, 2)\n",
    "print(\"Time of fitting: %s minutes\" % (time_of_model))\n",
    "y_pred = model.predict(X_test)\n",
    "accuracy = metrics.accuracy_score(y_test, y_pred)\n",
    "f1_scores = metrics.f1_score(y_test, y_pred, labels=labels, average=None)\n",
    "f1_score_weighted = metrics.f1_score(y_test, y_pred, labels=labels, average='weighted')\n",
    "print('F1 score, class Unrelated: %.2f%%' % (f1_scores[0]*100),'\\n'\n",
    "     'F1 score, class Disagree: %.2f%%' % (f1_scores[1]*100),'\\n'\n",
    "     'F1 score, class Discuss: %.2f%%' % (f1_scores[2]*100),'\\n'\n",
    "     'F1 score, class Agree: %.2f%%' % (f1_scores[3]*100))\n",
    "print(\"F1 score weighted: %.2f%%\" % (f1_score_weighted * 100.0))\n",
    "print(\"Accuracy: %.2f%%\" % (accuracy * 100.0))\n",
    "list_of_models.append(name)\n",
    "F1_score_unrelated.append(f1_scores[0]*100)\n",
    "F1_score_disagree.append(f1_scores[1]*100)\n",
    "F1_score_discuss.append(f1_scores[2]*100)\n",
    "F1_score_agree.append(f1_scores[3]*100)\n",
    "F1_score_weighted_list.append(f1_score_weighted*100)\n",
    "accuracy_list.append(accuracy*100)\n",
    "times.append(time_of_model)"
   ]
  },
  {
   "cell_type": "code",
   "execution_count": 74,
   "metadata": {
    "collapsed": true
   },
   "outputs": [],
   "source": [
    "summary_dict = {'model' : list_of_models, \n",
    "                'F1 score, class Unrelated' : F1_score_unrelated, \n",
    "                'F1 score, class Disagree' : F1_score_disagree, \n",
    "                'F1 score, class Discuss' : F1_score_discuss, \n",
    "                'F1 score, class Agree' : F1_score_agree, \n",
    "                'F1 score weighted' : F1_score_weighted_list,\n",
    "                'Accuracy' : accuracy_list, \n",
    "                'Time of fitting (in minutes)' : times}"
   ]
  },
  {
   "cell_type": "code",
   "execution_count": 75,
   "metadata": {
    "collapsed": true
   },
   "outputs": [],
   "source": [
    "summary_table = pd.DataFrame(summary_dict)"
   ]
  },
  {
   "cell_type": "code",
   "execution_count": 76,
   "metadata": {
    "collapsed": true
   },
   "outputs": [],
   "source": [
    "summary_table.set_index('model', inplace=True)\n",
    "summary_table.index.name = None"
   ]
  },
  {
   "cell_type": "code",
   "execution_count": 77,
   "metadata": {
    "collapsed": false
   },
   "outputs": [
    {
     "data": {
      "text/html": [
       "<div>\n",
       "<style>\n",
       "    .dataframe thead tr:only-child th {\n",
       "        text-align: right;\n",
       "    }\n",
       "\n",
       "    .dataframe thead th {\n",
       "        text-align: left;\n",
       "    }\n",
       "\n",
       "    .dataframe tbody tr th {\n",
       "        vertical-align: top;\n",
       "    }\n",
       "</style>\n",
       "<table border=\"1\" class=\"dataframe\">\n",
       "  <thead>\n",
       "    <tr style=\"text-align: right;\">\n",
       "      <th></th>\n",
       "      <th>Accuracy</th>\n",
       "      <th>F1 score weighted</th>\n",
       "      <th>F1 score, class Agree</th>\n",
       "      <th>F1 score, class Disagree</th>\n",
       "      <th>F1 score, class Discuss</th>\n",
       "      <th>F1 score, class Unrelated</th>\n",
       "      <th>Time of fitting (in minutes)</th>\n",
       "    </tr>\n",
       "  </thead>\n",
       "  <tbody>\n",
       "    <tr>\n",
       "      <th>Decision Tree</th>\n",
       "      <td>79.164207</td>\n",
       "      <td>78.947653</td>\n",
       "      <td>37.313041</td>\n",
       "      <td>5.708849</td>\n",
       "      <td>57.257638</td>\n",
       "      <td>91.324476</td>\n",
       "      <td>5.31</td>\n",
       "    </tr>\n",
       "    <tr>\n",
       "      <th>Random Forest</th>\n",
       "      <td>83.071656</td>\n",
       "      <td>81.276276</td>\n",
       "      <td>37.198489</td>\n",
       "      <td>0.000000</td>\n",
       "      <td>61.080032</td>\n",
       "      <td>93.848385</td>\n",
       "      <td>0.55</td>\n",
       "    </tr>\n",
       "    <tr>\n",
       "      <th>Logistic Regression</th>\n",
       "      <td>84.964388</td>\n",
       "      <td>83.007402</td>\n",
       "      <td>44.759891</td>\n",
       "      <td>0.855920</td>\n",
       "      <td>67.065026</td>\n",
       "      <td>93.973197</td>\n",
       "      <td>2.87</td>\n",
       "    </tr>\n",
       "    <tr>\n",
       "      <th>QDA</th>\n",
       "      <td>9.219691</td>\n",
       "      <td>7.914609</td>\n",
       "      <td>0.821777</td>\n",
       "      <td>4.864328</td>\n",
       "      <td>24.439746</td>\n",
       "      <td>4.745799</td>\n",
       "      <td>6.72</td>\n",
       "    </tr>\n",
       "    <tr>\n",
       "      <th>Extra Tree Classifier</th>\n",
       "      <td>71.321764</td>\n",
       "      <td>72.602009</td>\n",
       "      <td>30.872202</td>\n",
       "      <td>7.253886</td>\n",
       "      <td>46.271473</td>\n",
       "      <td>85.817933</td>\n",
       "      <td>0.58</td>\n",
       "    </tr>\n",
       "    <tr>\n",
       "      <th>LinearSVC</th>\n",
       "      <td>81.627513</td>\n",
       "      <td>80.673364</td>\n",
       "      <td>42.504849</td>\n",
       "      <td>4.986877</td>\n",
       "      <td>61.409999</td>\n",
       "      <td>92.193329</td>\n",
       "      <td>0.85</td>\n",
       "    </tr>\n",
       "    <tr>\n",
       "      <th>Bernoulli NB</th>\n",
       "      <td>61.964349</td>\n",
       "      <td>62.987773</td>\n",
       "      <td>33.375675</td>\n",
       "      <td>4.481793</td>\n",
       "      <td>25.169246</td>\n",
       "      <td>77.481881</td>\n",
       "      <td>0.46</td>\n",
       "    </tr>\n",
       "    <tr>\n",
       "      <th>Gaussian NB</th>\n",
       "      <td>21.256837</td>\n",
       "      <td>22.433639</td>\n",
       "      <td>14.930191</td>\n",
       "      <td>10.123796</td>\n",
       "      <td>28.734168</td>\n",
       "      <td>22.146619</td>\n",
       "      <td>0.13</td>\n",
       "    </tr>\n",
       "    <tr>\n",
       "      <th>Voting Classifier</th>\n",
       "      <td>84.586629</td>\n",
       "      <td>82.496294</td>\n",
       "      <td>39.190981</td>\n",
       "      <td>2.425876</td>\n",
       "      <td>66.265607</td>\n",
       "      <td>93.977730</td>\n",
       "      <td>9.46</td>\n",
       "    </tr>\n",
       "    <tr>\n",
       "      <th>Linear SVC (optimised)</th>\n",
       "      <td>82.961476</td>\n",
       "      <td>81.660506</td>\n",
       "      <td>44.274360</td>\n",
       "      <td>3.973510</td>\n",
       "      <td>63.602110</td>\n",
       "      <td>92.882172</td>\n",
       "      <td>0.33</td>\n",
       "    </tr>\n",
       "    <tr>\n",
       "      <th>Decision Tree (optimised)</th>\n",
       "      <td>83.107071</td>\n",
       "      <td>82.020777</td>\n",
       "      <td>38.730159</td>\n",
       "      <td>15.876289</td>\n",
       "      <td>61.647967</td>\n",
       "      <td>93.979411</td>\n",
       "      <td>3.61</td>\n",
       "    </tr>\n",
       "    <tr>\n",
       "      <th>Extra Tree (optimised)</th>\n",
       "      <td>77.688585</td>\n",
       "      <td>77.219486</td>\n",
       "      <td>34.884814</td>\n",
       "      <td>1.275510</td>\n",
       "      <td>54.633502</td>\n",
       "      <td>89.989646</td>\n",
       "      <td>0.21</td>\n",
       "    </tr>\n",
       "    <tr>\n",
       "      <th>Logistic Regression (optimised)</th>\n",
       "      <td>84.964388</td>\n",
       "      <td>83.007402</td>\n",
       "      <td>44.759891</td>\n",
       "      <td>0.855920</td>\n",
       "      <td>67.065026</td>\n",
       "      <td>93.973197</td>\n",
       "      <td>3.25</td>\n",
       "    </tr>\n",
       "    <tr>\n",
       "      <th>Voting Classifier (optimised)</th>\n",
       "      <td>84.909298</td>\n",
       "      <td>82.823224</td>\n",
       "      <td>43.381180</td>\n",
       "      <td>2.517483</td>\n",
       "      <td>66.923977</td>\n",
       "      <td>93.832301</td>\n",
       "      <td>7.11</td>\n",
       "    </tr>\n",
       "  </tbody>\n",
       "</table>\n",
       "</div>"
      ],
      "text/plain": [
       "                                  Accuracy  F1 score weighted  \\\n",
       "Decision Tree                    79.164207          78.947653   \n",
       "Random Forest                    83.071656          81.276276   \n",
       "Logistic Regression              84.964388          83.007402   \n",
       "QDA                               9.219691           7.914609   \n",
       "Extra Tree Classifier            71.321764          72.602009   \n",
       "LinearSVC                        81.627513          80.673364   \n",
       "Bernoulli NB                     61.964349          62.987773   \n",
       "Gaussian NB                      21.256837          22.433639   \n",
       "Voting Classifier                84.586629          82.496294   \n",
       "Linear SVC (optimised)           82.961476          81.660506   \n",
       "Decision Tree (optimised)        83.107071          82.020777   \n",
       "Extra Tree (optimised)           77.688585          77.219486   \n",
       "Logistic Regression (optimised)  84.964388          83.007402   \n",
       "Voting Classifier (optimised)    84.909298          82.823224   \n",
       "\n",
       "                                 F1 score, class Agree  \\\n",
       "Decision Tree                                37.313041   \n",
       "Random Forest                                37.198489   \n",
       "Logistic Regression                          44.759891   \n",
       "QDA                                           0.821777   \n",
       "Extra Tree Classifier                        30.872202   \n",
       "LinearSVC                                    42.504849   \n",
       "Bernoulli NB                                 33.375675   \n",
       "Gaussian NB                                  14.930191   \n",
       "Voting Classifier                            39.190981   \n",
       "Linear SVC (optimised)                       44.274360   \n",
       "Decision Tree (optimised)                    38.730159   \n",
       "Extra Tree (optimised)                       34.884814   \n",
       "Logistic Regression (optimised)              44.759891   \n",
       "Voting Classifier (optimised)                43.381180   \n",
       "\n",
       "                                 F1 score, class Disagree  \\\n",
       "Decision Tree                                    5.708849   \n",
       "Random Forest                                    0.000000   \n",
       "Logistic Regression                              0.855920   \n",
       "QDA                                              4.864328   \n",
       "Extra Tree Classifier                            7.253886   \n",
       "LinearSVC                                        4.986877   \n",
       "Bernoulli NB                                     4.481793   \n",
       "Gaussian NB                                     10.123796   \n",
       "Voting Classifier                                2.425876   \n",
       "Linear SVC (optimised)                           3.973510   \n",
       "Decision Tree (optimised)                       15.876289   \n",
       "Extra Tree (optimised)                           1.275510   \n",
       "Logistic Regression (optimised)                  0.855920   \n",
       "Voting Classifier (optimised)                    2.517483   \n",
       "\n",
       "                                 F1 score, class Discuss  \\\n",
       "Decision Tree                                  57.257638   \n",
       "Random Forest                                  61.080032   \n",
       "Logistic Regression                            67.065026   \n",
       "QDA                                            24.439746   \n",
       "Extra Tree Classifier                          46.271473   \n",
       "LinearSVC                                      61.409999   \n",
       "Bernoulli NB                                   25.169246   \n",
       "Gaussian NB                                    28.734168   \n",
       "Voting Classifier                              66.265607   \n",
       "Linear SVC (optimised)                         63.602110   \n",
       "Decision Tree (optimised)                      61.647967   \n",
       "Extra Tree (optimised)                         54.633502   \n",
       "Logistic Regression (optimised)                67.065026   \n",
       "Voting Classifier (optimised)                  66.923977   \n",
       "\n",
       "                                 F1 score, class Unrelated  \\\n",
       "Decision Tree                                    91.324476   \n",
       "Random Forest                                    93.848385   \n",
       "Logistic Regression                              93.973197   \n",
       "QDA                                               4.745799   \n",
       "Extra Tree Classifier                            85.817933   \n",
       "LinearSVC                                        92.193329   \n",
       "Bernoulli NB                                     77.481881   \n",
       "Gaussian NB                                      22.146619   \n",
       "Voting Classifier                                93.977730   \n",
       "Linear SVC (optimised)                           92.882172   \n",
       "Decision Tree (optimised)                        93.979411   \n",
       "Extra Tree (optimised)                           89.989646   \n",
       "Logistic Regression (optimised)                  93.973197   \n",
       "Voting Classifier (optimised)                    93.832301   \n",
       "\n",
       "                                 Time of fitting (in minutes)  \n",
       "Decision Tree                                            5.31  \n",
       "Random Forest                                            0.55  \n",
       "Logistic Regression                                      2.87  \n",
       "QDA                                                      6.72  \n",
       "Extra Tree Classifier                                    0.58  \n",
       "LinearSVC                                                0.85  \n",
       "Bernoulli NB                                             0.46  \n",
       "Gaussian NB                                              0.13  \n",
       "Voting Classifier                                        9.46  \n",
       "Linear SVC (optimised)                                   0.33  \n",
       "Decision Tree (optimised)                                3.61  \n",
       "Extra Tree (optimised)                                   0.21  \n",
       "Logistic Regression (optimised)                          3.25  \n",
       "Voting Classifier (optimised)                            7.11  "
      ]
     },
     "execution_count": 77,
     "metadata": {},
     "output_type": "execute_result"
    }
   ],
   "source": [
    "summary_table"
   ]
  },
  {
   "cell_type": "raw",
   "metadata": {},
   "source": [
    "It turns out that the best model in terms of accuracy and F1 score weighted is Logistic Regression set for multiclass classification with default parameters. The optimised Logistic Regression (max_iter=500) produce exactly the same score as Logistic Regression with max_iter=100."
   ]
  },
  {
   "cell_type": "code",
   "execution_count": 78,
   "metadata": {
    "collapsed": false
   },
   "outputs": [
    {
     "data": {
      "text/html": [
       "<div>\n",
       "<style>\n",
       "    .dataframe thead tr:only-child th {\n",
       "        text-align: right;\n",
       "    }\n",
       "\n",
       "    .dataframe thead th {\n",
       "        text-align: left;\n",
       "    }\n",
       "\n",
       "    .dataframe tbody tr th {\n",
       "        vertical-align: top;\n",
       "    }\n",
       "</style>\n",
       "<table border=\"1\" class=\"dataframe\">\n",
       "  <thead>\n",
       "    <tr style=\"text-align: right;\">\n",
       "      <th></th>\n",
       "      <th>Accuracy</th>\n",
       "      <th>F1 score weighted</th>\n",
       "      <th>F1 score, class Agree</th>\n",
       "      <th>F1 score, class Disagree</th>\n",
       "      <th>F1 score, class Discuss</th>\n",
       "      <th>F1 score, class Unrelated</th>\n",
       "      <th>Time of fitting (in minutes)</th>\n",
       "    </tr>\n",
       "  </thead>\n",
       "  <tbody>\n",
       "    <tr>\n",
       "      <th>Logistic Regression</th>\n",
       "      <td>84.964388</td>\n",
       "      <td>83.007402</td>\n",
       "      <td>44.759891</td>\n",
       "      <td>0.855920</td>\n",
       "      <td>67.065026</td>\n",
       "      <td>93.973197</td>\n",
       "      <td>2.87</td>\n",
       "    </tr>\n",
       "    <tr>\n",
       "      <th>Logistic Regression (optimised)</th>\n",
       "      <td>84.964388</td>\n",
       "      <td>83.007402</td>\n",
       "      <td>44.759891</td>\n",
       "      <td>0.855920</td>\n",
       "      <td>67.065026</td>\n",
       "      <td>93.973197</td>\n",
       "      <td>3.25</td>\n",
       "    </tr>\n",
       "    <tr>\n",
       "      <th>Voting Classifier (optimised)</th>\n",
       "      <td>84.909298</td>\n",
       "      <td>82.823224</td>\n",
       "      <td>43.381180</td>\n",
       "      <td>2.517483</td>\n",
       "      <td>66.923977</td>\n",
       "      <td>93.832301</td>\n",
       "      <td>7.11</td>\n",
       "    </tr>\n",
       "    <tr>\n",
       "      <th>Voting Classifier</th>\n",
       "      <td>84.586629</td>\n",
       "      <td>82.496294</td>\n",
       "      <td>39.190981</td>\n",
       "      <td>2.425876</td>\n",
       "      <td>66.265607</td>\n",
       "      <td>93.977730</td>\n",
       "      <td>9.46</td>\n",
       "    </tr>\n",
       "    <tr>\n",
       "      <th>Decision Tree (optimised)</th>\n",
       "      <td>83.107071</td>\n",
       "      <td>82.020777</td>\n",
       "      <td>38.730159</td>\n",
       "      <td>15.876289</td>\n",
       "      <td>61.647967</td>\n",
       "      <td>93.979411</td>\n",
       "      <td>3.61</td>\n",
       "    </tr>\n",
       "    <tr>\n",
       "      <th>Linear SVC (optimised)</th>\n",
       "      <td>82.961476</td>\n",
       "      <td>81.660506</td>\n",
       "      <td>44.274360</td>\n",
       "      <td>3.973510</td>\n",
       "      <td>63.602110</td>\n",
       "      <td>92.882172</td>\n",
       "      <td>0.33</td>\n",
       "    </tr>\n",
       "    <tr>\n",
       "      <th>Random Forest</th>\n",
       "      <td>83.071656</td>\n",
       "      <td>81.276276</td>\n",
       "      <td>37.198489</td>\n",
       "      <td>0.000000</td>\n",
       "      <td>61.080032</td>\n",
       "      <td>93.848385</td>\n",
       "      <td>0.55</td>\n",
       "    </tr>\n",
       "    <tr>\n",
       "      <th>LinearSVC</th>\n",
       "      <td>81.627513</td>\n",
       "      <td>80.673364</td>\n",
       "      <td>42.504849</td>\n",
       "      <td>4.986877</td>\n",
       "      <td>61.409999</td>\n",
       "      <td>92.193329</td>\n",
       "      <td>0.85</td>\n",
       "    </tr>\n",
       "    <tr>\n",
       "      <th>Decision Tree</th>\n",
       "      <td>79.164207</td>\n",
       "      <td>78.947653</td>\n",
       "      <td>37.313041</td>\n",
       "      <td>5.708849</td>\n",
       "      <td>57.257638</td>\n",
       "      <td>91.324476</td>\n",
       "      <td>5.31</td>\n",
       "    </tr>\n",
       "    <tr>\n",
       "      <th>Extra Tree (optimised)</th>\n",
       "      <td>77.688585</td>\n",
       "      <td>77.219486</td>\n",
       "      <td>34.884814</td>\n",
       "      <td>1.275510</td>\n",
       "      <td>54.633502</td>\n",
       "      <td>89.989646</td>\n",
       "      <td>0.21</td>\n",
       "    </tr>\n",
       "    <tr>\n",
       "      <th>Extra Tree Classifier</th>\n",
       "      <td>71.321764</td>\n",
       "      <td>72.602009</td>\n",
       "      <td>30.872202</td>\n",
       "      <td>7.253886</td>\n",
       "      <td>46.271473</td>\n",
       "      <td>85.817933</td>\n",
       "      <td>0.58</td>\n",
       "    </tr>\n",
       "    <tr>\n",
       "      <th>Bernoulli NB</th>\n",
       "      <td>61.964349</td>\n",
       "      <td>62.987773</td>\n",
       "      <td>33.375675</td>\n",
       "      <td>4.481793</td>\n",
       "      <td>25.169246</td>\n",
       "      <td>77.481881</td>\n",
       "      <td>0.46</td>\n",
       "    </tr>\n",
       "    <tr>\n",
       "      <th>Gaussian NB</th>\n",
       "      <td>21.256837</td>\n",
       "      <td>22.433639</td>\n",
       "      <td>14.930191</td>\n",
       "      <td>10.123796</td>\n",
       "      <td>28.734168</td>\n",
       "      <td>22.146619</td>\n",
       "      <td>0.13</td>\n",
       "    </tr>\n",
       "    <tr>\n",
       "      <th>QDA</th>\n",
       "      <td>9.219691</td>\n",
       "      <td>7.914609</td>\n",
       "      <td>0.821777</td>\n",
       "      <td>4.864328</td>\n",
       "      <td>24.439746</td>\n",
       "      <td>4.745799</td>\n",
       "      <td>6.72</td>\n",
       "    </tr>\n",
       "  </tbody>\n",
       "</table>\n",
       "</div>"
      ],
      "text/plain": [
       "                                  Accuracy  F1 score weighted  \\\n",
       "Logistic Regression              84.964388          83.007402   \n",
       "Logistic Regression (optimised)  84.964388          83.007402   \n",
       "Voting Classifier (optimised)    84.909298          82.823224   \n",
       "Voting Classifier                84.586629          82.496294   \n",
       "Decision Tree (optimised)        83.107071          82.020777   \n",
       "Linear SVC (optimised)           82.961476          81.660506   \n",
       "Random Forest                    83.071656          81.276276   \n",
       "LinearSVC                        81.627513          80.673364   \n",
       "Decision Tree                    79.164207          78.947653   \n",
       "Extra Tree (optimised)           77.688585          77.219486   \n",
       "Extra Tree Classifier            71.321764          72.602009   \n",
       "Bernoulli NB                     61.964349          62.987773   \n",
       "Gaussian NB                      21.256837          22.433639   \n",
       "QDA                               9.219691           7.914609   \n",
       "\n",
       "                                 F1 score, class Agree  \\\n",
       "Logistic Regression                          44.759891   \n",
       "Logistic Regression (optimised)              44.759891   \n",
       "Voting Classifier (optimised)                43.381180   \n",
       "Voting Classifier                            39.190981   \n",
       "Decision Tree (optimised)                    38.730159   \n",
       "Linear SVC (optimised)                       44.274360   \n",
       "Random Forest                                37.198489   \n",
       "LinearSVC                                    42.504849   \n",
       "Decision Tree                                37.313041   \n",
       "Extra Tree (optimised)                       34.884814   \n",
       "Extra Tree Classifier                        30.872202   \n",
       "Bernoulli NB                                 33.375675   \n",
       "Gaussian NB                                  14.930191   \n",
       "QDA                                           0.821777   \n",
       "\n",
       "                                 F1 score, class Disagree  \\\n",
       "Logistic Regression                              0.855920   \n",
       "Logistic Regression (optimised)                  0.855920   \n",
       "Voting Classifier (optimised)                    2.517483   \n",
       "Voting Classifier                                2.425876   \n",
       "Decision Tree (optimised)                       15.876289   \n",
       "Linear SVC (optimised)                           3.973510   \n",
       "Random Forest                                    0.000000   \n",
       "LinearSVC                                        4.986877   \n",
       "Decision Tree                                    5.708849   \n",
       "Extra Tree (optimised)                           1.275510   \n",
       "Extra Tree Classifier                            7.253886   \n",
       "Bernoulli NB                                     4.481793   \n",
       "Gaussian NB                                     10.123796   \n",
       "QDA                                              4.864328   \n",
       "\n",
       "                                 F1 score, class Discuss  \\\n",
       "Logistic Regression                            67.065026   \n",
       "Logistic Regression (optimised)                67.065026   \n",
       "Voting Classifier (optimised)                  66.923977   \n",
       "Voting Classifier                              66.265607   \n",
       "Decision Tree (optimised)                      61.647967   \n",
       "Linear SVC (optimised)                         63.602110   \n",
       "Random Forest                                  61.080032   \n",
       "LinearSVC                                      61.409999   \n",
       "Decision Tree                                  57.257638   \n",
       "Extra Tree (optimised)                         54.633502   \n",
       "Extra Tree Classifier                          46.271473   \n",
       "Bernoulli NB                                   25.169246   \n",
       "Gaussian NB                                    28.734168   \n",
       "QDA                                            24.439746   \n",
       "\n",
       "                                 F1 score, class Unrelated  \\\n",
       "Logistic Regression                              93.973197   \n",
       "Logistic Regression (optimised)                  93.973197   \n",
       "Voting Classifier (optimised)                    93.832301   \n",
       "Voting Classifier                                93.977730   \n",
       "Decision Tree (optimised)                        93.979411   \n",
       "Linear SVC (optimised)                           92.882172   \n",
       "Random Forest                                    93.848385   \n",
       "LinearSVC                                        92.193329   \n",
       "Decision Tree                                    91.324476   \n",
       "Extra Tree (optimised)                           89.989646   \n",
       "Extra Tree Classifier                            85.817933   \n",
       "Bernoulli NB                                     77.481881   \n",
       "Gaussian NB                                      22.146619   \n",
       "QDA                                               4.745799   \n",
       "\n",
       "                                 Time of fitting (in minutes)  \n",
       "Logistic Regression                                      2.87  \n",
       "Logistic Regression (optimised)                          3.25  \n",
       "Voting Classifier (optimised)                            7.11  \n",
       "Voting Classifier                                        9.46  \n",
       "Decision Tree (optimised)                                3.61  \n",
       "Linear SVC (optimised)                                   0.33  \n",
       "Random Forest                                            0.55  \n",
       "LinearSVC                                                0.85  \n",
       "Decision Tree                                            5.31  \n",
       "Extra Tree (optimised)                                   0.21  \n",
       "Extra Tree Classifier                                    0.58  \n",
       "Bernoulli NB                                             0.46  \n",
       "Gaussian NB                                              0.13  \n",
       "QDA                                                      6.72  "
      ]
     },
     "execution_count": 78,
     "metadata": {},
     "output_type": "execute_result"
    }
   ],
   "source": [
    "summary_table.sort_values(['F1 score weighted'], ascending=False)"
   ]
  }
 ],
 "metadata": {
  "kernelspec": {
   "display_name": "Python 3",
   "language": "python",
   "name": "python3"
  },
  "language_info": {
   "codemirror_mode": {
    "name": "ipython",
    "version": 3
   },
   "file_extension": ".py",
   "mimetype": "text/x-python",
   "name": "python",
   "nbconvert_exporter": "python",
   "pygments_lexer": "ipython3",
   "version": "3.6.0"
  }
 },
 "nbformat": 4,
 "nbformat_minor": 2
}
