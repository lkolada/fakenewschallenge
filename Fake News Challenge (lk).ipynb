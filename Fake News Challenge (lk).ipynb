{
 "cells": [
  {
   "cell_type": "code",
   "execution_count": 1,
   "metadata": {
    "collapsed": true
   },
   "outputs": [],
   "source": [
    "# Importing general libraries\n",
    "import numpy as np\n",
    "import pandas as pd\n",
    "import matplotlib.pyplot as plt\n",
    "%matplotlib inline\n",
    "import re\n",
    "import time\n",
    "from pprint import pprint\n",
    "from collections import Counter\n",
    "\n",
    "# Importing libraries for data processing\n",
    "from nltk import FreqDist, word_tokenize\n",
    "from sklearn.feature_extraction.text import TfidfVectorizer\n",
    "from sklearn.metrics.pairwise import cosine_similarity\n",
    "\n",
    "# Importing libraries for modeling\n",
    "from sklearn.tree import DecisionTreeClassifier, ExtraTreeClassifier\n",
    "from sklearn.linear_model import LogisticRegression \n",
    "from sklearn.naive_bayes import BernoulliNB, GaussianNB\n",
    "from sklearn.ensemble import RandomForestClassifier, VotingClassifier\n",
    "from sklearn.discriminant_analysis import QuadraticDiscriminantAnalysis\n",
    "from sklearn.svm import LinearSVC\n",
    "from sklearn import metrics\n",
    "from sklearn.model_selection import GridSearchCV"
   ]
  },
  {
   "cell_type": "markdown",
   "metadata": {},
   "source": [
    "# Exploratory Data Analysis"
   ]
  },
  {
   "cell_type": "code",
   "execution_count": 2,
   "metadata": {
    "collapsed": true
   },
   "outputs": [],
   "source": [
    "# Data is splited already on train / test sets\n",
    "train_heads = pd.read_csv('C:\\\\Users\\\\Lukasz1\\\\Desktop\\\\dane\\\\train_stances.csv')\n",
    "train_bodies = pd.read_csv('C:\\\\Users\\\\Lukasz1\\\\Desktop\\\\dane\\\\train_bodies.csv')\n",
    "test_heads = pd.read_csv('C:\\\\Users\\\\Lukasz1\\\\Desktop\\\\dane\\\\competition_test_stances.csv')\n",
    "test_bodies = pd.read_csv('C:\\\\Users\\\\Lukasz1\\\\Desktop\\\\dane\\\\competition_test_bodies.csv')"
   ]
  },
  {
   "cell_type": "markdown",
   "metadata": {
    "collapsed": false
   },
   "source": [
    "### Investigating train set"
   ]
  },
  {
   "cell_type": "code",
   "execution_count": 3,
   "metadata": {
    "collapsed": false
   },
   "outputs": [
    {
     "data": {
      "text/html": [
       "<div>\n",
       "<style>\n",
       "    .dataframe thead tr:only-child th {\n",
       "        text-align: right;\n",
       "    }\n",
       "\n",
       "    .dataframe thead th {\n",
       "        text-align: left;\n",
       "    }\n",
       "\n",
       "    .dataframe tbody tr th {\n",
       "        vertical-align: top;\n",
       "    }\n",
       "</style>\n",
       "<table border=\"1\" class=\"dataframe\">\n",
       "  <thead>\n",
       "    <tr style=\"text-align: right;\">\n",
       "      <th></th>\n",
       "      <th>Headline</th>\n",
       "      <th>Body ID</th>\n",
       "      <th>Stance</th>\n",
       "    </tr>\n",
       "  </thead>\n",
       "  <tbody>\n",
       "    <tr>\n",
       "      <th>0</th>\n",
       "      <td>Police find mass graves with at least '15 bodi...</td>\n",
       "      <td>712</td>\n",
       "      <td>unrelated</td>\n",
       "    </tr>\n",
       "    <tr>\n",
       "      <th>1</th>\n",
       "      <td>Hundreds of Palestinians flee floods in Gaza a...</td>\n",
       "      <td>158</td>\n",
       "      <td>agree</td>\n",
       "    </tr>\n",
       "    <tr>\n",
       "      <th>2</th>\n",
       "      <td>Christian Bale passes on role of Steve Jobs, a...</td>\n",
       "      <td>137</td>\n",
       "      <td>unrelated</td>\n",
       "    </tr>\n",
       "    <tr>\n",
       "      <th>3</th>\n",
       "      <td>HBO and Apple in Talks for $15/Month Apple TV ...</td>\n",
       "      <td>1034</td>\n",
       "      <td>unrelated</td>\n",
       "    </tr>\n",
       "    <tr>\n",
       "      <th>4</th>\n",
       "      <td>Spider burrowed through tourist's stomach and ...</td>\n",
       "      <td>1923</td>\n",
       "      <td>disagree</td>\n",
       "    </tr>\n",
       "  </tbody>\n",
       "</table>\n",
       "</div>"
      ],
      "text/plain": [
       "                                            Headline  Body ID     Stance\n",
       "0  Police find mass graves with at least '15 bodi...      712  unrelated\n",
       "1  Hundreds of Palestinians flee floods in Gaza a...      158      agree\n",
       "2  Christian Bale passes on role of Steve Jobs, a...      137  unrelated\n",
       "3  HBO and Apple in Talks for $15/Month Apple TV ...     1034  unrelated\n",
       "4  Spider burrowed through tourist's stomach and ...     1923   disagree"
      ]
     },
     "execution_count": 3,
     "metadata": {},
     "output_type": "execute_result"
    }
   ],
   "source": [
    "train_heads.head()"
   ]
  },
  {
   "cell_type": "code",
   "execution_count": 4,
   "metadata": {
    "collapsed": false
   },
   "outputs": [
    {
     "name": "stdout",
     "output_type": "stream",
     "text": [
      "<class 'pandas.core.frame.DataFrame'>\n",
      "RangeIndex: 49972 entries, 0 to 49971\n",
      "Data columns (total 3 columns):\n",
      "Headline    49972 non-null object\n",
      "Body ID     49972 non-null int64\n",
      "Stance      49972 non-null object\n",
      "dtypes: int64(1), object(2)\n",
      "memory usage: 1.1+ MB\n"
     ]
    }
   ],
   "source": [
    "train_heads.info()"
   ]
  },
  {
   "cell_type": "code",
   "execution_count": 5,
   "metadata": {
    "collapsed": false
   },
   "outputs": [
    {
     "data": {
      "text/plain": [
       "count                                             49972\n",
       "unique                                             1648\n",
       "top       ISIL Beheads American Photojournalist in Iraq\n",
       "freq                                                127\n",
       "Name: Headline, dtype: object"
      ]
     },
     "execution_count": 5,
     "metadata": {},
     "output_type": "execute_result"
    }
   ],
   "source": [
    "train_heads.Headline.describe()"
   ]
  },
  {
   "cell_type": "code",
   "execution_count": 6,
   "metadata": {
    "collapsed": false
   },
   "outputs": [
    {
     "data": {
      "text/plain": [
       "1683"
      ]
     },
     "execution_count": 6,
     "metadata": {},
     "output_type": "execute_result"
    }
   ],
   "source": [
    "len(set(train_heads['Body ID']))"
   ]
  },
  {
   "cell_type": "code",
   "execution_count": 7,
   "metadata": {
    "collapsed": false,
    "scrolled": true
   },
   "outputs": [
    {
     "data": {
      "text/plain": [
       "1921    187\n",
       "1948    175\n",
       "40      172\n",
       "524     171\n",
       "1549    166\n",
       "304     154\n",
       "1385    151\n",
       "125     145\n",
       "2367    143\n",
       "220     141\n",
       "1438    141\n",
       "195     140\n",
       "2296    136\n",
       "35      131\n",
       "1786    131\n",
       "1883    131\n",
       "2520    127\n",
       "1034    127\n",
       "2252    126\n",
       "1574    125\n",
       "2307    125\n",
       "527     125\n",
       "2175    124\n",
       "1627    123\n",
       "2404    123\n",
       "1289    122\n",
       "2115    121\n",
       "2096    120\n",
       "1040    118\n",
       "1893    117\n",
       "       ... \n",
       "907       1\n",
       "370       1\n",
       "210       1\n",
       "146       1\n",
       "114       1\n",
       "1542      1\n",
       "63        1\n",
       "76        1\n",
       "390       1\n",
       "515       1\n",
       "193       1\n",
       "464       1\n",
       "355       1\n",
       "323       1\n",
       "624       1\n",
       "282       1\n",
       "18        1\n",
       "797       1\n",
       "701       1\n",
       "362       1\n",
       "2311      1\n",
       "6         1\n",
       "915       1\n",
       "70        1\n",
       "151       1\n",
       "376       1\n",
       "140       1\n",
       "307       1\n",
       "1066      1\n",
       "59        1\n",
       "Name: Body ID, Length: 1683, dtype: int64"
      ]
     },
     "execution_count": 7,
     "metadata": {},
     "output_type": "execute_result"
    }
   ],
   "source": [
    "train_heads['Body ID'].value_counts()"
   ]
  },
  {
   "cell_type": "code",
   "execution_count": 8,
   "metadata": {
    "collapsed": false
   },
   "outputs": [
    {
     "data": {
      "text/html": [
       "<div>\n",
       "<style>\n",
       "    .dataframe thead tr:only-child th {\n",
       "        text-align: right;\n",
       "    }\n",
       "\n",
       "    .dataframe thead th {\n",
       "        text-align: left;\n",
       "    }\n",
       "\n",
       "    .dataframe tbody tr th {\n",
       "        vertical-align: top;\n",
       "    }\n",
       "</style>\n",
       "<table border=\"1\" class=\"dataframe\">\n",
       "  <thead>\n",
       "    <tr style=\"text-align: right;\">\n",
       "      <th></th>\n",
       "      <th>Body ID</th>\n",
       "      <th>articleBody</th>\n",
       "    </tr>\n",
       "  </thead>\n",
       "  <tbody>\n",
       "    <tr>\n",
       "      <th>0</th>\n",
       "      <td>0</td>\n",
       "      <td>A small meteorite crashed into a wooded area i...</td>\n",
       "    </tr>\n",
       "    <tr>\n",
       "      <th>1</th>\n",
       "      <td>4</td>\n",
       "      <td>Last week we hinted at what was to come as Ebo...</td>\n",
       "    </tr>\n",
       "    <tr>\n",
       "      <th>2</th>\n",
       "      <td>5</td>\n",
       "      <td>(NEWSER) – Wonder how long a Quarter Pounder w...</td>\n",
       "    </tr>\n",
       "    <tr>\n",
       "      <th>3</th>\n",
       "      <td>6</td>\n",
       "      <td>Posting photos of a gun-toting child online, I...</td>\n",
       "    </tr>\n",
       "    <tr>\n",
       "      <th>4</th>\n",
       "      <td>7</td>\n",
       "      <td>At least 25 suspected Boko Haram insurgents we...</td>\n",
       "    </tr>\n",
       "  </tbody>\n",
       "</table>\n",
       "</div>"
      ],
      "text/plain": [
       "   Body ID                                        articleBody\n",
       "0        0  A small meteorite crashed into a wooded area i...\n",
       "1        4  Last week we hinted at what was to come as Ebo...\n",
       "2        5  (NEWSER) – Wonder how long a Quarter Pounder w...\n",
       "3        6  Posting photos of a gun-toting child online, I...\n",
       "4        7  At least 25 suspected Boko Haram insurgents we..."
      ]
     },
     "execution_count": 8,
     "metadata": {},
     "output_type": "execute_result"
    }
   ],
   "source": [
    "train_bodies.head()"
   ]
  },
  {
   "cell_type": "code",
   "execution_count": 9,
   "metadata": {
    "collapsed": false
   },
   "outputs": [
    {
     "name": "stdout",
     "output_type": "stream",
     "text": [
      "<class 'pandas.core.frame.DataFrame'>\n",
      "RangeIndex: 1683 entries, 0 to 1682\n",
      "Data columns (total 2 columns):\n",
      "Body ID        1683 non-null int64\n",
      "articleBody    1683 non-null object\n",
      "dtypes: int64(1), object(1)\n",
      "memory usage: 26.4+ KB\n"
     ]
    }
   ],
   "source": [
    "train_bodies.info()"
   ]
  },
  {
   "cell_type": "code",
   "execution_count": 10,
   "metadata": {
    "collapsed": false
   },
   "outputs": [
    {
     "data": {
      "text/plain": [
       "count                                                  1683\n",
       "unique                                                 1669\n",
       "top       When Apple introduced its Apple Watch in Septe...\n",
       "freq                                                      2\n",
       "Name: articleBody, dtype: object"
      ]
     },
     "execution_count": 10,
     "metadata": {},
     "output_type": "execute_result"
    }
   ],
   "source": [
    "train_bodies.articleBody.describe()"
   ]
  },
  {
   "cell_type": "code",
   "execution_count": 11,
   "metadata": {
    "collapsed": false
   },
   "outputs": [
    {
     "data": {
      "text/plain": [
       "1683"
      ]
     },
     "execution_count": 11,
     "metadata": {},
     "output_type": "execute_result"
    }
   ],
   "source": [
    "len(set(train_bodies['Body ID']))"
   ]
  },
  {
   "cell_type": "code",
   "execution_count": 12,
   "metadata": {
    "collapsed": false
   },
   "outputs": [
    {
     "data": {
      "text/plain": [
       "True"
      ]
     },
     "execution_count": 12,
     "metadata": {},
     "output_type": "execute_result"
    }
   ],
   "source": [
    "set(train_bodies['Body ID']) == set(train_heads['Body ID'])"
   ]
  },
  {
   "cell_type": "markdown",
   "metadata": {},
   "source": [
    "### Investigating test set"
   ]
  },
  {
   "cell_type": "code",
   "execution_count": 13,
   "metadata": {
    "collapsed": false
   },
   "outputs": [
    {
     "data": {
      "text/html": [
       "<div>\n",
       "<style>\n",
       "    .dataframe thead tr:only-child th {\n",
       "        text-align: right;\n",
       "    }\n",
       "\n",
       "    .dataframe thead th {\n",
       "        text-align: left;\n",
       "    }\n",
       "\n",
       "    .dataframe tbody tr th {\n",
       "        vertical-align: top;\n",
       "    }\n",
       "</style>\n",
       "<table border=\"1\" class=\"dataframe\">\n",
       "  <thead>\n",
       "    <tr style=\"text-align: right;\">\n",
       "      <th></th>\n",
       "      <th>Headline</th>\n",
       "      <th>Body ID</th>\n",
       "      <th>Stance</th>\n",
       "    </tr>\n",
       "  </thead>\n",
       "  <tbody>\n",
       "    <tr>\n",
       "      <th>0</th>\n",
       "      <td>Ferguson riots: Pregnant woman loses eye after...</td>\n",
       "      <td>2008</td>\n",
       "      <td>unrelated</td>\n",
       "    </tr>\n",
       "    <tr>\n",
       "      <th>1</th>\n",
       "      <td>Crazy Conservatives Are Sure a Gitmo Detainee ...</td>\n",
       "      <td>1550</td>\n",
       "      <td>unrelated</td>\n",
       "    </tr>\n",
       "    <tr>\n",
       "      <th>2</th>\n",
       "      <td>A Russian Guy Says His Justin Bieber Ringtone ...</td>\n",
       "      <td>2</td>\n",
       "      <td>unrelated</td>\n",
       "    </tr>\n",
       "    <tr>\n",
       "      <th>3</th>\n",
       "      <td>Zombie Cat: Buried Kitty Believed Dead, Meows ...</td>\n",
       "      <td>1793</td>\n",
       "      <td>unrelated</td>\n",
       "    </tr>\n",
       "    <tr>\n",
       "      <th>4</th>\n",
       "      <td>Argentina's President Adopts Boy to End Werewo...</td>\n",
       "      <td>37</td>\n",
       "      <td>unrelated</td>\n",
       "    </tr>\n",
       "  </tbody>\n",
       "</table>\n",
       "</div>"
      ],
      "text/plain": [
       "                                            Headline  Body ID     Stance\n",
       "0  Ferguson riots: Pregnant woman loses eye after...     2008  unrelated\n",
       "1  Crazy Conservatives Are Sure a Gitmo Detainee ...     1550  unrelated\n",
       "2  A Russian Guy Says His Justin Bieber Ringtone ...        2  unrelated\n",
       "3  Zombie Cat: Buried Kitty Believed Dead, Meows ...     1793  unrelated\n",
       "4  Argentina's President Adopts Boy to End Werewo...       37  unrelated"
      ]
     },
     "execution_count": 13,
     "metadata": {},
     "output_type": "execute_result"
    }
   ],
   "source": [
    "test_heads.head()"
   ]
  },
  {
   "cell_type": "code",
   "execution_count": 14,
   "metadata": {
    "collapsed": false
   },
   "outputs": [
    {
     "name": "stdout",
     "output_type": "stream",
     "text": [
      "<class 'pandas.core.frame.DataFrame'>\n",
      "RangeIndex: 25413 entries, 0 to 25412\n",
      "Data columns (total 3 columns):\n",
      "Headline    25413 non-null object\n",
      "Body ID     25413 non-null int64\n",
      "Stance      25413 non-null object\n",
      "dtypes: int64(1), object(2)\n",
      "memory usage: 595.7+ KB\n"
     ]
    }
   ],
   "source": [
    "test_heads.info()"
   ]
  },
  {
   "cell_type": "code",
   "execution_count": 15,
   "metadata": {
    "collapsed": false
   },
   "outputs": [
    {
     "data": {
      "text/plain": [
       "count                                           25413\n",
       "unique                                            894\n",
       "top       Source: Joan Rivers' doc did biopsy, selfie\n",
       "freq                                              160\n",
       "Name: Headline, dtype: object"
      ]
     },
     "execution_count": 15,
     "metadata": {},
     "output_type": "execute_result"
    }
   ],
   "source": [
    "test_heads.Headline.describe()"
   ]
  },
  {
   "cell_type": "code",
   "execution_count": 16,
   "metadata": {
    "collapsed": false
   },
   "outputs": [
    {
     "data": {
      "text/plain": [
       "904"
      ]
     },
     "execution_count": 16,
     "metadata": {},
     "output_type": "execute_result"
    }
   ],
   "source": [
    "len(set(test_heads['Body ID']))"
   ]
  },
  {
   "cell_type": "code",
   "execution_count": 17,
   "metadata": {
    "collapsed": false,
    "scrolled": true
   },
   "outputs": [
    {
     "data": {
      "text/plain": [
       "1373    161\n",
       "2383    136\n",
       "338     132\n",
       "1639    123\n",
       "1394    122\n",
       "1765    119\n",
       "2512    115\n",
       "1454    110\n",
       "2427    108\n",
       "1275    103\n",
       "1770    103\n",
       "3       103\n",
       "274     103\n",
       "2233    102\n",
       "535     101\n",
       "2320    101\n",
       "1272     98\n",
       "2279     97\n",
       "1431     97\n",
       "1754     97\n",
       "1386     94\n",
       "934      93\n",
       "2289     92\n",
       "1326     91\n",
       "1102     91\n",
       "2491     90\n",
       "2040     89\n",
       "758      87\n",
       "1886     87\n",
       "1851     87\n",
       "       ... \n",
       "590       1\n",
       "66        1\n",
       "857       1\n",
       "310       1\n",
       "770       1\n",
       "278       1\n",
       "102       1\n",
       "642       1\n",
       "64        1\n",
       "270       1\n",
       "1230      1\n",
       "237       1\n",
       "496       1\n",
       "131       1\n",
       "184       1\n",
       "49        1\n",
       "165       1\n",
       "287       1\n",
       "543       1\n",
       "191       1\n",
       "380       1\n",
       "309       1\n",
       "127       1\n",
       "436       1\n",
       "421       1\n",
       "31        1\n",
       "849       1\n",
       "71        1\n",
       "106       1\n",
       "306       1\n",
       "Name: Body ID, Length: 904, dtype: int64"
      ]
     },
     "execution_count": 17,
     "metadata": {},
     "output_type": "execute_result"
    }
   ],
   "source": [
    "test_heads['Body ID'].value_counts()"
   ]
  },
  {
   "cell_type": "code",
   "execution_count": 18,
   "metadata": {
    "collapsed": false
   },
   "outputs": [
    {
     "data": {
      "text/html": [
       "<div>\n",
       "<style>\n",
       "    .dataframe thead tr:only-child th {\n",
       "        text-align: right;\n",
       "    }\n",
       "\n",
       "    .dataframe thead th {\n",
       "        text-align: left;\n",
       "    }\n",
       "\n",
       "    .dataframe tbody tr th {\n",
       "        vertical-align: top;\n",
       "    }\n",
       "</style>\n",
       "<table border=\"1\" class=\"dataframe\">\n",
       "  <thead>\n",
       "    <tr style=\"text-align: right;\">\n",
       "      <th></th>\n",
       "      <th>Body ID</th>\n",
       "      <th>articleBody</th>\n",
       "    </tr>\n",
       "  </thead>\n",
       "  <tbody>\n",
       "    <tr>\n",
       "      <th>0</th>\n",
       "      <td>1</td>\n",
       "      <td>Al-Sisi has denied Israeli reports stating tha...</td>\n",
       "    </tr>\n",
       "    <tr>\n",
       "      <th>1</th>\n",
       "      <td>2</td>\n",
       "      <td>A bereaved Afghan mother took revenge on the T...</td>\n",
       "    </tr>\n",
       "    <tr>\n",
       "      <th>2</th>\n",
       "      <td>3</td>\n",
       "      <td>CNBC is reporting Tesla has chosen Nevada as t...</td>\n",
       "    </tr>\n",
       "    <tr>\n",
       "      <th>3</th>\n",
       "      <td>12</td>\n",
       "      <td>A 4-inch version of the iPhone 6 is said to be...</td>\n",
       "    </tr>\n",
       "    <tr>\n",
       "      <th>4</th>\n",
       "      <td>19</td>\n",
       "      <td>GR editor’s Note\\n\\nThere are no reports in th...</td>\n",
       "    </tr>\n",
       "  </tbody>\n",
       "</table>\n",
       "</div>"
      ],
      "text/plain": [
       "   Body ID                                        articleBody\n",
       "0        1  Al-Sisi has denied Israeli reports stating tha...\n",
       "1        2  A bereaved Afghan mother took revenge on the T...\n",
       "2        3  CNBC is reporting Tesla has chosen Nevada as t...\n",
       "3       12  A 4-inch version of the iPhone 6 is said to be...\n",
       "4       19  GR editor’s Note\\n\\nThere are no reports in th..."
      ]
     },
     "execution_count": 18,
     "metadata": {},
     "output_type": "execute_result"
    }
   ],
   "source": [
    "test_bodies.head()"
   ]
  },
  {
   "cell_type": "code",
   "execution_count": 19,
   "metadata": {
    "collapsed": false
   },
   "outputs": [
    {
     "name": "stdout",
     "output_type": "stream",
     "text": [
      "<class 'pandas.core.frame.DataFrame'>\n",
      "RangeIndex: 904 entries, 0 to 903\n",
      "Data columns (total 2 columns):\n",
      "Body ID        904 non-null int64\n",
      "articleBody    904 non-null object\n",
      "dtypes: int64(1), object(1)\n",
      "memory usage: 14.2+ KB\n"
     ]
    }
   ],
   "source": [
    "test_bodies.info()"
   ]
  },
  {
   "cell_type": "code",
   "execution_count": 20,
   "metadata": {
    "collapsed": false
   },
   "outputs": [
    {
     "data": {
      "text/plain": [
       "count                                                   904\n",
       "unique                                                  900\n",
       "top       A wicked aunt cut her three-year-old nephew’s ...\n",
       "freq                                                      2\n",
       "Name: articleBody, dtype: object"
      ]
     },
     "execution_count": 20,
     "metadata": {},
     "output_type": "execute_result"
    }
   ],
   "source": [
    "test_bodies.articleBody.describe()"
   ]
  },
  {
   "cell_type": "code",
   "execution_count": 21,
   "metadata": {
    "collapsed": false
   },
   "outputs": [
    {
     "data": {
      "text/plain": [
       "904"
      ]
     },
     "execution_count": 21,
     "metadata": {},
     "output_type": "execute_result"
    }
   ],
   "source": [
    "len(set(test_bodies['Body ID']))"
   ]
  },
  {
   "cell_type": "code",
   "execution_count": 22,
   "metadata": {
    "collapsed": false
   },
   "outputs": [
    {
     "data": {
      "text/plain": [
       "True"
      ]
     },
     "execution_count": 22,
     "metadata": {},
     "output_type": "execute_result"
    }
   ],
   "source": [
    "set(test_heads['Body ID']) == set(test_bodies['Body ID'])"
   ]
  },
  {
   "cell_type": "markdown",
   "metadata": {},
   "source": [
    "### Counting the classes"
   ]
  },
  {
   "cell_type": "code",
   "execution_count": 23,
   "metadata": {
    "collapsed": true
   },
   "outputs": [],
   "source": [
    "def number_of_classes(dataframe, column='Stance'):\n",
    "    no_stances = Counter(dataframe[column])\n",
    "    stances_data = pd.DataFrame.from_dict(no_stances, orient='index')\n",
    "    stances_data.columns = ['count']\n",
    "    total_no_counts = 0\n",
    "    for index, row in stances_data.iterrows():\n",
    "        total_no_counts += row['count']\n",
    "    stances_data['%counts'] = round(stances_data['count']/total_no_counts*100)\n",
    "    stances_data['count'].plot(kind='bar')\n",
    "    print(stances_data)"
   ]
  },
  {
   "cell_type": "code",
   "execution_count": 24,
   "metadata": {
    "collapsed": false
   },
   "outputs": [
    {
     "name": "stdout",
     "output_type": "stream",
     "text": [
      "           count  %counts\n",
      "unrelated  36545     73.0\n",
      "agree       3678      7.0\n",
      "disagree     840      2.0\n",
      "discuss     8909     18.0\n"
     ]
    },
    {
     "data": {
      "image/png": "[encoded data removed]",
      "text/plain": [
       "<matplotlib.figure.Figure at 0x227cec3d588>"
      ]
     },
     "metadata": {},
     "output_type": "display_data"
    }
   ],
   "source": [
    "number_of_classes(train_heads)"
   ]
  },
  {
   "cell_type": "code",
   "execution_count": 25,
   "metadata": {
    "collapsed": false
   },
   "outputs": [
    {
     "name": "stdout",
     "output_type": "stream",
     "text": [
      "           count  %counts\n",
      "unrelated  18349     72.0\n",
      "agree       1903      7.0\n",
      "discuss     4464     18.0\n",
      "disagree     697      3.0\n"
     ]
    },
    {
     "data": {
      "image/png": "[encoded data removed]",
      "text/plain": [
       "<matplotlib.figure.Figure at 0x227ced21940>"
      ]
     },
     "metadata": {},
     "output_type": "display_data"
    }
   ],
   "source": [
    "number_of_classes(test_heads)"
   ]
  },
  {
   "cell_type": "raw",
   "metadata": {},
   "source": [
    "Conclusions:\n",
    "There are more headlines than article bodies.\n",
    "Therefore, one article is used for multiple headlines.\n",
    "There is much more unrelated pairs (72-73%) than any other class.\n",
    "On the other hand, class disagree is underrepresented (2-3%).\n",
    "\n",
    "To dos:\n",
    "1. Preprocessing the data - removing punctation, leaving only words, lowering words, removing stop words - that step for both train and test sets.\n",
    "2. Getting unique headlines and article bodies. Model will be based on most popular words: hence, if articles repeats themselves we must select only those which are unique. This step is necessary only for train set.\n",
    "3. Getting the list of the most common words - that's on what the model will be built. This step is necessary only for train set.\n",
    "4 Transforming headlines and article bodies into vectors that later will be used in the classification models. Each row (observation or headline + arcticle body pair) will be transformed into matrix that is built on:\n",
    "- term frequency (n most popular words) of Headlines \n",
    "- term frequency (n most popular words) of Article Bodies\n",
    "- TFIDF cosine similarity of TFIDF of Headlines and TFIDF of Article Bodies.\n",
    "All these elements will be merge  The result of the transformation will be matrix"
   ]
  },
  {
   "cell_type": "markdown",
   "metadata": {},
   "source": [
    "# Data Processing"
   ]
  },
  {
   "cell_type": "raw",
   "metadata": {},
   "source": [
    "Initialise fuctions for data processing (explained above)"
   ]
  },
  {
   "cell_type": "code",
   "execution_count": 26,
   "metadata": {
    "collapsed": false,
    "scrolled": true
   },
   "outputs": [],
   "source": [
    "# Loading English stopwords\n",
    "f = open('C:\\\\Users\\\\Lukasz1\\\\Desktop\\\\dane\\\\stopwords-en.txt', 'r')\n",
    "english_stop_words = f.read().split('\\n')\n",
    "f.close()"
   ]
  },
  {
   "cell_type": "code",
   "execution_count": 34,
   "metadata": {
    "collapsed": true
   },
   "outputs": [],
   "source": [
    "# Initialising fuction for text processing (leaving only alphabetic characters, lowercase, removing stopwords)\n",
    "def preprocessing(data, column):\n",
    "    table = []\n",
    "    table = [re.sub(\"[^a-zA-Z]\", \" \",str(a)) for a in data[column]]\n",
    "    table = [word_tokenize(a) for a in table]\n",
    "    table = [[w.lower() for w in a] for a in table]\n",
    "    table = [[w for w in a if w not in english_stop_words] for a in table]\n",
    "    table = [' '.join(x) for x in table]\n",
    "    data[column] = table"
   ]
  },
  {
   "cell_type": "code",
   "execution_count": 28,
   "metadata": {
    "collapsed": true
   },
   "outputs": [],
   "source": [
    "# Initialising fuction for merging Headline and Article Body datasets\n",
    "def merge_data(data1, data2, left_on=['Body ID'], right_on=['Body ID']):\n",
    "    full_data = pd.merge(data1, data2,  how='inner', left_on=['Body ID'], right_on=['Body ID'])\n",
    "    return full_data"
   ]
  },
  {
   "cell_type": "code",
   "execution_count": 29,
   "metadata": {
    "collapsed": true
   },
   "outputs": [],
   "source": [
    "# Initialising fuction for selecting unique headlines and article bodies\n",
    "def get_unique_strings(dataframe, colname1='Headline', colname2='articleBody'):\n",
    "    unique_strings = []\n",
    "    for index, row in dataframe.iterrows():\n",
    "        if row[colname1] not in unique_strings:\n",
    "            unique_strings.append(row[colname1])\n",
    "        if row[colname2] not in unique_strings:\n",
    "            unique_strings.append(row[colname2])\n",
    "    return unique_strings"
   ]
  },
  {
   "cell_type": "code",
   "execution_count": 30,
   "metadata": {
    "collapsed": true
   },
   "outputs": [],
   "source": [
    "# Counting the most frequent words. NOTE - changed aproach no longer in use\n",
    "def most_common_words(list_of_text, n):\n",
    "    tokens = []\n",
    "    for i in list_of_text:\n",
    "        tokens.extend(word_tokenize(i))\n",
    "    freq = FreqDist(tokens)\n",
    "    number_of_words = len(freq)\n",
    "    words = freq.most_common(n)\n",
    "    words_list = [i[0] for i in words]\n",
    "    return words_list, number_of_words"
   ]
  },
  {
   "cell_type": "code",
   "execution_count": 31,
   "metadata": {
    "collapsed": true
   },
   "outputs": [],
   "source": [
    "# Initialising fuction for changing text to vectors\n",
    "def new_process_data(unique_strings, n_words, dataframe):\n",
    "    tfvectorizer = TfidfVectorizer(max_features=n_words, use_idf=False).fit(unique_strings)\n",
    "    tfidfvectorizer = TfidfVectorizer(max_features=n_words, use_idf=True).fit(unique_strings)\n",
    "    data = []\n",
    "    for index, row in dataframe.iterrows():\n",
    "        head = row['Headline']\n",
    "        body = row['articleBody']\n",
    "        head_tf = tfvectorizer.transform([head]).toarray().reshape(1, -1)\n",
    "        body_tf = tfvectorizer.transform([body]).toarray().reshape(1, -1)\n",
    "        head_tfidf = tfidfvectorizer.transform([head]).toarray()\n",
    "        body_tfidf = tfidfvectorizer.transform([body]).toarray()\n",
    "        tfidf_cos = cosine_similarity(head_tfidf, body_tfidf).reshape(1, -1)\n",
    "        feat_vec = np.squeeze(np.c_[head_tf, body_tf, tfidf_cos])\n",
    "        data.append(feat_vec)\n",
    "    data = np.array(data)\n",
    "    return data"
   ]
  },
  {
   "cell_type": "markdown",
   "metadata": {},
   "source": [
    "### Running functions in order to process text"
   ]
  },
  {
   "cell_type": "code",
   "execution_count": 35,
   "metadata": {
    "collapsed": false
   },
   "outputs": [],
   "source": [
    "preprocessing(train_heads, 'Headline')\n",
    "preprocessing(train_bodies, 'articleBody')\n",
    "preprocessing(test_heads, 'Headline')\n",
    "preprocessing(test_bodies, 'articleBody')"
   ]
  },
  {
   "cell_type": "code",
   "execution_count": 36,
   "metadata": {
    "collapsed": false
   },
   "outputs": [],
   "source": [
    "train = merge_data(train_heads, train_bodies)\n",
    "test = merge_data(test_heads, test_bodies)"
   ]
  },
  {
   "cell_type": "code",
   "execution_count": 37,
   "metadata": {
    "collapsed": false
   },
   "outputs": [],
   "source": [
    "unique_trains = get_unique_strings(train)"
   ]
  },
  {
   "cell_type": "code",
   "execution_count": 38,
   "metadata": {
    "collapsed": false
   },
   "outputs": [],
   "source": [
    "list_of_most_common_words, total_number_of_words = most_common_words(unique_trains, 2000)"
   ]
  },
  {
   "cell_type": "code",
   "execution_count": 39,
   "metadata": {
    "collapsed": false
   },
   "outputs": [
    {
     "data": {
      "text/plain": [
       "21634"
      ]
     },
     "execution_count": 39,
     "metadata": {},
     "output_type": "execute_result"
    }
   ],
   "source": [
    "total_number_of_words"
   ]
  },
  {
   "cell_type": "code",
   "execution_count": 46,
   "metadata": {
    "collapsed": false
   },
   "outputs": [],
   "source": [
    "X_train = new_process_data(unique_trains, 2000, train)\n",
    "X_test = new_process_data(unique_trains, 2000, test)"
   ]
  },
  {
   "cell_type": "code",
   "execution_count": 47,
   "metadata": {
    "collapsed": false
   },
   "outputs": [
    {
     "name": "stdout",
     "output_type": "stream",
     "text": [
      "(49972, 4001)\n",
      "(25413, 4001)\n"
     ]
    }
   ],
   "source": [
    "print(X_train.shape)\n",
    "print(X_test.shape)"
   ]
  },
  {
   "cell_type": "code",
   "execution_count": 40,
   "metadata": {
    "collapsed": true
   },
   "outputs": [],
   "source": [
    "y_train = train.Stance.map({'unrelated': 0, 'disagree': 1, 'discuss' : 2, 'agree' : 3})\n",
    "y_test = test.Stance.map({'unrelated': 0, 'disagree': 1, 'discuss' : 2, 'agree' : 3})"
   ]
  },
  {
   "cell_type": "code",
   "execution_count": 44,
   "metadata": {
    "collapsed": false
   },
   "outputs": [
    {
     "name": "stdout",
     "output_type": "stream",
     "text": [
      "(49972,)\n",
      "(25413,)\n"
     ]
    }
   ],
   "source": [
    "print(y_train.shape)\n",
    "print(y_test.shape)"
   ]
  },
  {
   "cell_type": "code",
   "execution_count": 50,
   "metadata": {
    "collapsed": true
   },
   "outputs": [],
   "source": [
    "labels = [0, 1, 2, 3]"
   ]
  },
  {
   "cell_type": "markdown",
   "metadata": {},
   "source": [
    "# Classification"
   ]
  },
  {
   "cell_type": "raw",
   "metadata": {},
   "source": [
    "Initialising some models that support multiclass classification. Apart from accuracy score, F1 score for each class is calculated. Saving scores in lists, so later they can be easly compared."
   ]
  },
  {
   "cell_type": "code",
   "execution_count": 33,
   "metadata": {
    "collapsed": true
   },
   "outputs": [],
   "source": [
    "list_of_models = []\n",
    "F1_score_unrelated = []\n",
    "F1_score_disagree = []\n",
    "F1_score_discuss = []\n",
    "F1_score_agree = []\n",
    "F1_score_weighted_list = []\n",
    "accuracy_list = []\n",
    "times = []"
   ]
  },
  {
   "cell_type": "code",
   "execution_count": 34,
   "metadata": {
    "collapsed": false
   },
   "outputs": [
    {
     "name": "stdout",
     "output_type": "stream",
     "text": [
      "Time of fitting: 7.65 minutes\n",
      "Decision Tree\n",
      "F1 score, class Unrelated: 90.21% \n",
      "F1 score, class Disagree: 7.46% \n",
      "F1 score, class Discuss: 56.32% \n",
      "F1 score, class Agree: 35.85%\n",
      "F1 score weighted: 77.91%\n",
      "Accuracy: 77.74%\n"
     ]
    }
   ],
   "source": [
    "model = DecisionTreeClassifier()\n",
    "name = 'Decision Tree'\n",
    "start_time = time.time()\n",
    "model.fit(X_train, y_train)\n",
    "time_of_model = round((time.time() - start_time) / 60, 2)\n",
    "print(\"Time of fitting: %s minutes\" % (time_of_model))\n",
    "y_pred = model.predict(X_test)\n",
    "accuracy = metrics.accuracy_score(y_test, y_pred)\n",
    "f1_scores = metrics.f1_score(y_test, y_pred, labels=labels, average=None)\n",
    "f1_score_weighted = metrics.f1_score(y_test, y_pred, labels=labels, average='weighted')\n",
    "print(name)\n",
    "print('F1 score, class Unrelated: %.2f%%' % (f1_scores[0]*100),'\\n'\n",
    "     'F1 score, class Disagree: %.2f%%' % (f1_scores[1]*100),'\\n'\n",
    "     'F1 score, class Discuss: %.2f%%' % (f1_scores[2]*100),'\\n'\n",
    "     'F1 score, class Agree: %.2f%%' % (f1_scores[3]*100))\n",
    "print(\"F1 score weighted: %.2f%%\" % (f1_score_weighted * 100.0))\n",
    "print(\"Accuracy: %.2f%%\" % (accuracy * 100.0))\n",
    "list_of_models.append(name)\n",
    "F1_score_unrelated.append(f1_scores[0]*100)\n",
    "F1_score_disagree.append(f1_scores[1]*100)\n",
    "F1_score_discuss.append(f1_scores[2]*100)\n",
    "F1_score_agree.append(f1_scores[3]*100)\n",
    "F1_score_weighted_list.append(f1_score_weighted*100)\n",
    "accuracy_list.append(accuracy*100)\n",
    "times.append(time_of_model)"
   ]
  },
  {
   "cell_type": "code",
   "execution_count": 35,
   "metadata": {
    "collapsed": false
   },
   "outputs": [
    {
     "name": "stdout",
     "output_type": "stream",
     "text": [
      "Time of fitting: 3.27 minutes\n",
      "Logistic Regression\n",
      "F1 score, class Unrelated: 93.97% \n",
      "F1 score, class Disagree: 0.86% \n",
      "F1 score, class Discuss: 67.06% \n",
      "F1 score, class Agree: 44.77%\n",
      "F1 score weighted: 83.01%\n",
      "Accuracy: 84.96%\n"
     ]
    }
   ],
   "source": [
    "model = LogisticRegression(solver='saga', multi_class='multinomial')\n",
    "name = 'Logistic Regression'\n",
    "start_time = time.time()\n",
    "model.fit(X_train, y_train)\n",
    "time_of_model = round((time.time() - start_time) / 60, 2)\n",
    "print(\"Time of fitting: %s minutes\" % (time_of_model))\n",
    "y_pred = model.predict(X_test)\n",
    "accuracy = metrics.accuracy_score(y_test, y_pred)\n",
    "f1_scores = metrics.f1_score(y_test, y_pred, labels=labels, average=None)\n",
    "f1_score_weighted = metrics.f1_score(y_test, y_pred, labels=labels, average='weighted')\n",
    "print(name)\n",
    "print('F1 score, class Unrelated: %.2f%%' % (f1_scores[0]*100),'\\n'\n",
    "     'F1 score, class Disagree: %.2f%%' % (f1_scores[1]*100),'\\n'\n",
    "     'F1 score, class Discuss: %.2f%%' % (f1_scores[2]*100),'\\n'\n",
    "     'F1 score, class Agree: %.2f%%' % (f1_scores[3]*100))\n",
    "print(\"F1 score weighted: %.2f%%\" % (f1_score_weighted * 100.0))\n",
    "print(\"Accuracy: %.2f%%\" % (accuracy * 100.0))\n",
    "list_of_models.append(name)\n",
    "F1_score_unrelated.append(f1_scores[0]*100)\n",
    "F1_score_disagree.append(f1_scores[1]*100)\n",
    "F1_score_discuss.append(f1_scores[2]*100)\n",
    "F1_score_agree.append(f1_scores[3]*100)\n",
    "F1_score_weighted_list.append(f1_score_weighted*100)\n",
    "accuracy_list.append(accuracy*100)\n",
    "times.append(time_of_model)"
   ]
  },
  {
   "cell_type": "code",
   "execution_count": 38,
   "metadata": {
    "collapsed": false
   },
   "outputs": [
    {
     "name": "stdout",
     "output_type": "stream",
     "text": [
      "Time of fitting: 0.56 minutes\n",
      "Random Forest\n",
      "F1 score, class Unrelated: 92.20% \n",
      "F1 score, class Disagree: 1.13% \n",
      "F1 score, class Discuss: 59.15% \n",
      "F1 score, class Agree: 34.63%\n",
      "F1 score weighted: 79.58%\n",
      "Accuracy: 81.47%\n"
     ]
    }
   ],
   "source": [
    "model = RandomForestClassifier()\n",
    "name = 'Random Forest'\n",
    "start_time = time.time()\n",
    "model.fit(X_train, y_train)\n",
    "time_of_model = round((time.time() - start_time) / 60, 2)\n",
    "print(\"Time of fitting: %s minutes\" % (time_of_model))\n",
    "y_pred = model.predict(X_test)\n",
    "accuracy = metrics.accuracy_score(y_test, y_pred)\n",
    "f1_scores = metrics.f1_score(y_test, y_pred, labels=labels, average=None)\n",
    "f1_score_weighted = metrics.f1_score(y_test, y_pred, labels=labels, average='weighted')\n",
    "print(name)\n",
    "print('F1 score, class Unrelated: %.2f%%' % (f1_scores[0]*100),'\\n'\n",
    "     'F1 score, class Disagree: %.2f%%' % (f1_scores[1]*100),'\\n'\n",
    "     'F1 score, class Discuss: %.2f%%' % (f1_scores[2]*100),'\\n'\n",
    "     'F1 score, class Agree: %.2f%%' % (f1_scores[3]*100))\n",
    "print(\"F1 score weighted: %.2f%%\" % (f1_score_weighted * 100.0))\n",
    "print(\"Accuracy: %.2f%%\" % (accuracy * 100.0))\n",
    "list_of_models.append(name)\n",
    "F1_score_unrelated.append(f1_scores[0]*100)\n",
    "F1_score_disagree.append(f1_scores[1]*100)\n",
    "F1_score_discuss.append(f1_scores[2]*100)\n",
    "F1_score_agree.append(f1_scores[3]*100)\n",
    "F1_score_weighted_list.append(f1_score_weighted*100)\n",
    "accuracy_list.append(accuracy*100)\n",
    "times.append(time_of_model)"
   ]
  },
  {
   "cell_type": "code",
   "execution_count": 39,
   "metadata": {
    "collapsed": false
   },
   "outputs": [
    {
     "name": "stderr",
     "output_type": "stream",
     "text": [
      "C:\\Users\\Lukasz1\\Anaconda3\\lib\\site-packages\\sklearn\\discriminant_analysis.py:682: UserWarning: Variables are collinear\n",
      "  warnings.warn(\"Variables are collinear\")\n"
     ]
    },
    {
     "name": "stdout",
     "output_type": "stream",
     "text": [
      "Time of fitting: 9.03 minutes\n",
      "QDA\n",
      "F1 score, class Unrelated: 4.75% \n",
      "F1 score, class Disagree: 4.86% \n",
      "F1 score, class Discuss: 24.44% \n",
      "F1 score, class Agree: 0.82%\n",
      "F1 score weighted: 7.91%\n",
      "Accuracy: 9.22%\n"
     ]
    }
   ],
   "source": [
    "model = QuadraticDiscriminantAnalysis()\n",
    "name = 'QDA'\n",
    "start_time = time.time()\n",
    "model.fit(X_train, y_train)\n",
    "time_of_model = round((time.time() - start_time) / 60, 2)\n",
    "print(\"Time of fitting: %s minutes\" % (time_of_model))\n",
    "y_pred = model.predict(X_test)\n",
    "accuracy = metrics.accuracy_score(y_test, y_pred)\n",
    "f1_scores = metrics.f1_score(y_test, y_pred, labels=labels, average=None)\n",
    "f1_score_weighted = metrics.f1_score(y_test, y_pred, labels=labels, average='weighted')\n",
    "print(name)\n",
    "print('F1 score, class Unrelated: %.2f%%' % (f1_scores[0]*100),'\\n'\n",
    "     'F1 score, class Disagree: %.2f%%' % (f1_scores[1]*100),'\\n'\n",
    "     'F1 score, class Discuss: %.2f%%' % (f1_scores[2]*100),'\\n'\n",
    "     'F1 score, class Agree: %.2f%%' % (f1_scores[3]*100))\n",
    "print(\"F1 score weighted: %.2f%%\" % (f1_score_weighted * 100.0))\n",
    "print(\"Accuracy: %.2f%%\" % (accuracy * 100.0))\n",
    "list_of_models.append(name)\n",
    "F1_score_unrelated.append(f1_scores[0]*100)\n",
    "F1_score_disagree.append(f1_scores[1]*100)\n",
    "F1_score_discuss.append(f1_scores[2]*100)\n",
    "F1_score_agree.append(f1_scores[3]*100)\n",
    "F1_score_weighted_list.append(f1_score_weighted*100)\n",
    "accuracy_list.append(accuracy*100)\n",
    "times.append(time_of_model)"
   ]
  },
  {
   "cell_type": "code",
   "execution_count": 40,
   "metadata": {
    "collapsed": false
   },
   "outputs": [
    {
     "name": "stdout",
     "output_type": "stream",
     "text": [
      "Time of fitting: 0.24 minutes\n",
      "Extra Tree\n",
      "F1 score, class Unrelated: 82.67% \n",
      "F1 score, class Disagree: 11.22% \n",
      "F1 score, class Discuss: 46.89% \n",
      "F1 score, class Agree: 26.98%\n",
      "F1 score weighted: 70.25%\n",
      "Accuracy: 68.01%\n"
     ]
    }
   ],
   "source": [
    "model = ExtraTreeClassifier()\n",
    "name = 'Extra Tree'\n",
    "start_time = time.time()\n",
    "model.fit(X_train, y_train)\n",
    "time_of_model = round((time.time() - start_time) / 60, 2)\n",
    "print(\"Time of fitting: %s minutes\" % (time_of_model))\n",
    "y_pred = model.predict(X_test)\n",
    "accuracy = metrics.accuracy_score(y_test, y_pred)\n",
    "f1_scores = metrics.f1_score(y_test, y_pred, labels=labels, average=None)\n",
    "f1_score_weighted = metrics.f1_score(y_test, y_pred, labels=labels, average='weighted')\n",
    "print(name)\n",
    "print('F1 score, class Unrelated: %.2f%%' % (f1_scores[0]*100),'\\n'\n",
    "     'F1 score, class Disagree: %.2f%%' % (f1_scores[1]*100),'\\n'\n",
    "     'F1 score, class Discuss: %.2f%%' % (f1_scores[2]*100),'\\n'\n",
    "     'F1 score, class Agree: %.2f%%' % (f1_scores[3]*100))\n",
    "print(\"F1 score weighted: %.2f%%\" % (f1_score_weighted * 100.0))\n",
    "print(\"Accuracy: %.2f%%\" % (accuracy * 100.0))\n",
    "list_of_models.append(name)\n",
    "F1_score_unrelated.append(f1_scores[0]*100)\n",
    "F1_score_disagree.append(f1_scores[1]*100)\n",
    "F1_score_discuss.append(f1_scores[2]*100)\n",
    "F1_score_agree.append(f1_scores[3]*100)\n",
    "F1_score_weighted_list.append(f1_score_weighted*100)\n",
    "accuracy_list.append(accuracy*100)\n",
    "times.append(time_of_model)"
   ]
  },
  {
   "cell_type": "code",
   "execution_count": 41,
   "metadata": {
    "collapsed": false
   },
   "outputs": [
    {
     "name": "stdout",
     "output_type": "stream",
     "text": [
      "Time of fitting: 1.24 minutes\n",
      "Linear SVC\n",
      "F1 score, class Unrelated: 92.19% \n",
      "F1 score, class Disagree: 4.99% \n",
      "F1 score, class Discuss: 61.41% \n",
      "F1 score, class Agree: 42.50%\n",
      "F1 score weighted: 80.67%\n",
      "Accuracy: 81.63%\n"
     ]
    }
   ],
   "source": [
    "model = LinearSVC(multi_class='crammer_singer')\n",
    "name = 'Linear SVC'\n",
    "start_time = time.time()\n",
    "model.fit(X_train, y_train)\n",
    "time_of_model = round((time.time() - start_time) / 60, 2)\n",
    "print(\"Time of fitting: %s minutes\" % (time_of_model))\n",
    "y_pred = model.predict(X_test)\n",
    "accuracy = metrics.accuracy_score(y_test, y_pred)\n",
    "f1_scores = metrics.f1_score(y_test, y_pred, labels=labels, average=None)\n",
    "f1_score_weighted = metrics.f1_score(y_test, y_pred, labels=labels, average='weighted')\n",
    "print(name)\n",
    "print('F1 score, class Unrelated: %.2f%%' % (f1_scores[0]*100),'\\n'\n",
    "     'F1 score, class Disagree: %.2f%%' % (f1_scores[1]*100),'\\n'\n",
    "     'F1 score, class Discuss: %.2f%%' % (f1_scores[2]*100),'\\n'\n",
    "     'F1 score, class Agree: %.2f%%' % (f1_scores[3]*100))\n",
    "print(\"F1 score weighted: %.2f%%\" % (f1_score_weighted * 100.0))\n",
    "print(\"Accuracy: %.2f%%\" % (accuracy * 100.0))\n",
    "list_of_models.append(name)\n",
    "F1_score_unrelated.append(f1_scores[0]*100)\n",
    "F1_score_disagree.append(f1_scores[1]*100)\n",
    "F1_score_discuss.append(f1_scores[2]*100)\n",
    "F1_score_agree.append(f1_scores[3]*100)\n",
    "F1_score_weighted_list.append(f1_score_weighted*100)\n",
    "accuracy_list.append(accuracy*100)\n",
    "times.append(time_of_model)"
   ]
  },
  {
   "cell_type": "code",
   "execution_count": 42,
   "metadata": {
    "collapsed": false
   },
   "outputs": [
    {
     "name": "stdout",
     "output_type": "stream",
     "text": [
      "Time of fitting: 1.19 minutes\n",
      "Bernoulli NB\n",
      "F1 score, class Unrelated: 77.48% \n",
      "F1 score, class Disagree: 4.48% \n",
      "F1 score, class Discuss: 25.17% \n",
      "F1 score, class Agree: 33.38%\n",
      "F1 score weighted: 62.99%\n",
      "Accuracy: 61.96%\n"
     ]
    }
   ],
   "source": [
    "model = BernoulliNB()\n",
    "name = 'Bernoulli NB'\n",
    "start_time = time.time()\n",
    "model.fit(X_train, y_train)\n",
    "time_of_model = round((time.time() - start_time) / 60, 2)\n",
    "print(\"Time of fitting: %s minutes\" % (time_of_model))\n",
    "y_pred = model.predict(X_test)\n",
    "accuracy = metrics.accuracy_score(y_test, y_pred)\n",
    "f1_scores = metrics.f1_score(y_test, y_pred, labels=labels, average=None)\n",
    "f1_score_weighted = metrics.f1_score(y_test, y_pred, labels=labels, average='weighted')\n",
    "print(name)\n",
    "print('F1 score, class Unrelated: %.2f%%' % (f1_scores[0]*100),'\\n'\n",
    "     'F1 score, class Disagree: %.2f%%' % (f1_scores[1]*100),'\\n'\n",
    "     'F1 score, class Discuss: %.2f%%' % (f1_scores[2]*100),'\\n'\n",
    "     'F1 score, class Agree: %.2f%%' % (f1_scores[3]*100))\n",
    "print(\"F1 score weighted: %.2f%%\" % (f1_score_weighted * 100.0))\n",
    "print(\"Accuracy: %.2f%%\" % (accuracy * 100.0))\n",
    "list_of_models.append(name)\n",
    "F1_score_unrelated.append(f1_scores[0]*100)\n",
    "F1_score_disagree.append(f1_scores[1]*100)\n",
    "F1_score_discuss.append(f1_scores[2]*100)\n",
    "F1_score_agree.append(f1_scores[3]*100)\n",
    "F1_score_weighted_list.append(f1_score_weighted*100)\n",
    "accuracy_list.append(accuracy*100)\n",
    "times.append(time_of_model)"
   ]
  },
  {
   "cell_type": "code",
   "execution_count": 43,
   "metadata": {
    "collapsed": false
   },
   "outputs": [
    {
     "name": "stdout",
     "output_type": "stream",
     "text": [
      "Time of fitting: 1.69 minutes\n",
      "Gaussian NB\n",
      "F1 score, class Unrelated: 22.15% \n",
      "F1 score, class Disagree: 10.12% \n",
      "F1 score, class Discuss: 28.73% \n",
      "F1 score, class Agree: 14.93%\n",
      "F1 score weighted: 22.43%\n",
      "Accuracy: 21.26%\n"
     ]
    }
   ],
   "source": [
    "model = GaussianNB()\n",
    "name = 'Gaussian NB'\n",
    "start_time = time.time()\n",
    "model.fit(X_train, y_train)\n",
    "time_of_model = round((time.time() - start_time) / 60, 2)\n",
    "print(\"Time of fitting: %s minutes\" % (time_of_model))\n",
    "y_pred = model.predict(X_test)\n",
    "accuracy = metrics.accuracy_score(y_test, y_pred)\n",
    "f1_scores = metrics.f1_score(y_test, y_pred, labels=labels, average=None)\n",
    "f1_score_weighted = metrics.f1_score(y_test, y_pred, labels=labels, average='weighted')\n",
    "print(name)\n",
    "print('F1 score, class Unrelated: %.2f%%' % (f1_scores[0]*100),'\\n'\n",
    "     'F1 score, class Disagree: %.2f%%' % (f1_scores[1]*100),'\\n'\n",
    "     'F1 score, class Discuss: %.2f%%' % (f1_scores[2]*100),'\\n'\n",
    "     'F1 score, class Agree: %.2f%%' % (f1_scores[3]*100))\n",
    "print(\"F1 score weighted: %.2f%%\" % (f1_score_weighted * 100.0))\n",
    "print(\"Accuracy: %.2f%%\" % (accuracy * 100.0))\n",
    "list_of_models.append(name)\n",
    "F1_score_unrelated.append(f1_scores[0]*100)\n",
    "F1_score_disagree.append(f1_scores[1]*100)\n",
    "F1_score_discuss.append(f1_scores[2]*100)\n",
    "F1_score_agree.append(f1_scores[3]*100)\n",
    "F1_score_weighted_list.append(f1_score_weighted*100)\n",
    "accuracy_list.append(accuracy*100)\n",
    "times.append(time_of_model)"
   ]
  },
  {
   "cell_type": "code",
   "execution_count": 47,
   "metadata": {
    "collapsed": true
   },
   "outputs": [],
   "source": [
    "summary_dict = {'model' : list_of_models, \n",
    "                'F1 score, class Unrelated' : F1_score_unrelated, \n",
    "                'F1 score, class Disagree' : F1_score_disagree, \n",
    "                'F1 score, class Discuss' : F1_score_discuss, \n",
    "                'F1 score, class Agree' : F1_score_agree, \n",
    "                'F1 score weighted' : F1_score_weighted_list,\n",
    "                'Accuracy' : accuracy_list, \n",
    "                'Time (in minutes)' : times}"
   ]
  },
  {
   "cell_type": "code",
   "execution_count": 48,
   "metadata": {
    "collapsed": true
   },
   "outputs": [],
   "source": [
    "summary_table = pd.DataFrame(summary_dict)"
   ]
  },
  {
   "cell_type": "code",
   "execution_count": 49,
   "metadata": {
    "collapsed": false
   },
   "outputs": [
    {
     "data": {
      "text/html": [
       "<div>\n",
       "<style>\n",
       "    .dataframe thead tr:only-child th {\n",
       "        text-align: right;\n",
       "    }\n",
       "\n",
       "    .dataframe thead th {\n",
       "        text-align: left;\n",
       "    }\n",
       "\n",
       "    .dataframe tbody tr th {\n",
       "        vertical-align: top;\n",
       "    }\n",
       "</style>\n",
       "<table border=\"1\" class=\"dataframe\">\n",
       "  <thead>\n",
       "    <tr style=\"text-align: right;\">\n",
       "      <th></th>\n",
       "      <th>Accuracy</th>\n",
       "      <th>F1 score weighted</th>\n",
       "      <th>F1 score, class Agree</th>\n",
       "      <th>F1 score, class Disagree</th>\n",
       "      <th>F1 score, class Discuss</th>\n",
       "      <th>F1 score, class Unrelated</th>\n",
       "      <th>Time (in minutes)</th>\n",
       "      <th>model</th>\n",
       "    </tr>\n",
       "  </thead>\n",
       "  <tbody>\n",
       "    <tr>\n",
       "      <th>0</th>\n",
       "      <td>77.735805</td>\n",
       "      <td>77.914813</td>\n",
       "      <td>35.845214</td>\n",
       "      <td>7.462687</td>\n",
       "      <td>56.319608</td>\n",
       "      <td>90.207830</td>\n",
       "      <td>7.65</td>\n",
       "      <td>Decision Tree</td>\n",
       "    </tr>\n",
       "    <tr>\n",
       "      <th>1</th>\n",
       "      <td>84.964388</td>\n",
       "      <td>83.007035</td>\n",
       "      <td>44.773414</td>\n",
       "      <td>0.855920</td>\n",
       "      <td>67.057170</td>\n",
       "      <td>93.973197</td>\n",
       "      <td>3.27</td>\n",
       "      <td>Logistic Regression</td>\n",
       "    </tr>\n",
       "    <tr>\n",
       "      <th>2</th>\n",
       "      <td>81.470114</td>\n",
       "      <td>79.583966</td>\n",
       "      <td>34.626690</td>\n",
       "      <td>1.126761</td>\n",
       "      <td>59.145775</td>\n",
       "      <td>92.199066</td>\n",
       "      <td>0.56</td>\n",
       "      <td>Random Forest</td>\n",
       "    </tr>\n",
       "    <tr>\n",
       "      <th>3</th>\n",
       "      <td>9.219691</td>\n",
       "      <td>7.914609</td>\n",
       "      <td>0.821777</td>\n",
       "      <td>4.864328</td>\n",
       "      <td>24.439746</td>\n",
       "      <td>4.745799</td>\n",
       "      <td>9.03</td>\n",
       "      <td>QDA</td>\n",
       "    </tr>\n",
       "    <tr>\n",
       "      <th>4</th>\n",
       "      <td>68.008500</td>\n",
       "      <td>70.252298</td>\n",
       "      <td>26.981092</td>\n",
       "      <td>11.220715</td>\n",
       "      <td>46.890232</td>\n",
       "      <td>82.665966</td>\n",
       "      <td>0.24</td>\n",
       "      <td>Extra Tree</td>\n",
       "    </tr>\n",
       "    <tr>\n",
       "      <th>5</th>\n",
       "      <td>81.627513</td>\n",
       "      <td>80.673364</td>\n",
       "      <td>42.504849</td>\n",
       "      <td>4.986877</td>\n",
       "      <td>61.409999</td>\n",
       "      <td>92.193329</td>\n",
       "      <td>1.24</td>\n",
       "      <td>Linear SVC</td>\n",
       "    </tr>\n",
       "    <tr>\n",
       "      <th>6</th>\n",
       "      <td>61.964349</td>\n",
       "      <td>62.987773</td>\n",
       "      <td>33.375675</td>\n",
       "      <td>4.481793</td>\n",
       "      <td>25.169246</td>\n",
       "      <td>77.481881</td>\n",
       "      <td>1.19</td>\n",
       "      <td>Bernoulli NB</td>\n",
       "    </tr>\n",
       "    <tr>\n",
       "      <th>7</th>\n",
       "      <td>21.256837</td>\n",
       "      <td>22.433639</td>\n",
       "      <td>14.930191</td>\n",
       "      <td>10.123796</td>\n",
       "      <td>28.734168</td>\n",
       "      <td>22.146619</td>\n",
       "      <td>1.69</td>\n",
       "      <td>Gaussian NB</td>\n",
       "    </tr>\n",
       "  </tbody>\n",
       "</table>\n",
       "</div>"
      ],
      "text/plain": [
       "    Accuracy  F1 score weighted  F1 score, class Agree  \\\n",
       "0  77.735805          77.914813              35.845214   \n",
       "1  84.964388          83.007035              44.773414   \n",
       "2  81.470114          79.583966              34.626690   \n",
       "3   9.219691           7.914609               0.821777   \n",
       "4  68.008500          70.252298              26.981092   \n",
       "5  81.627513          80.673364              42.504849   \n",
       "6  61.964349          62.987773              33.375675   \n",
       "7  21.256837          22.433639              14.930191   \n",
       "\n",
       "   F1 score, class Disagree  F1 score, class Discuss  \\\n",
       "0                  7.462687                56.319608   \n",
       "1                  0.855920                67.057170   \n",
       "2                  1.126761                59.145775   \n",
       "3                  4.864328                24.439746   \n",
       "4                 11.220715                46.890232   \n",
       "5                  4.986877                61.409999   \n",
       "6                  4.481793                25.169246   \n",
       "7                 10.123796                28.734168   \n",
       "\n",
       "   F1 score, class Unrelated  Time (in minutes)                model  \n",
       "0                  90.207830               7.65        Decision Tree  \n",
       "1                  93.973197               3.27  Logistic Regression  \n",
       "2                  92.199066               0.56        Random Forest  \n",
       "3                   4.745799               9.03                  QDA  \n",
       "4                  82.665966               0.24           Extra Tree  \n",
       "5                  92.193329               1.24           Linear SVC  \n",
       "6                  77.481881               1.19         Bernoulli NB  \n",
       "7                  22.146619               1.69          Gaussian NB  "
      ]
     },
     "execution_count": 49,
     "metadata": {},
     "output_type": "execute_result"
    }
   ],
   "source": [
    "summary_table"
   ]
  },
  {
   "cell_type": "raw",
   "metadata": {},
   "source": [
    "For Voting Classifier I choose these models which have in general high accuracy, but also they have relatievly good F1 scores on other classes than Unrelated. Therefore I choose:\n",
    "- Linear SVC (42% on class Agree and 61% on Discuss)\n",
    "- Logistic Regression (45% on class Agree and 67% on Discuss)\n",
    "- Decision Tree and Extra Tree (on class Disagree respectively 7% and 11%)"
   ]
  },
  {
   "cell_type": "code",
   "execution_count": 51,
   "metadata": {
    "collapsed": false
   },
   "outputs": [
    {
     "name": "stdout",
     "output_type": "stream",
     "text": [
      "Time of fitting: 10.29 minutes\n",
      "F1 score, class Unrelated: 93.84% \n",
      "F1 score, class Disagree: 0.85% \n",
      "F1 score, class Discuss: 66.48% \n",
      "F1 score, class Agree: 40.60%\n",
      "F1 score weighted: 82.50%\n",
      "Accuracy: 84.62%\n"
     ]
    }
   ],
   "source": [
    "models = [LogisticRegression(solver='saga', multi_class='multinomial'), \n",
    "          LinearSVC(multi_class='crammer_singer'),\n",
    "          DecisionTreeClassifier(),\n",
    "          ExtraTreeClassifier()]\n",
    "\n",
    "model = VotingClassifier(estimators=list(zip([\"lr\",\"lsvc\",\"dtr\",'exc'],models)),voting=\"hard\")\n",
    "start_time = time.time()\n",
    "model.fit(X_train, y_train)\n",
    "time_of_model = round((time.time() - start_time) / 60, 2)\n",
    "print(\"Time of fitting: %s minutes\" % (time_of_model))\n",
    "y_pred = model.predict(X_test)\n",
    "accuracy = metrics.accuracy_score(y_test, y_pred)\n",
    "f1_scores = metrics.f1_score(y_test, y_pred, labels=labels, average=None)\n",
    "f1_score_weighted = metrics.f1_score(y_test, y_pred, labels=labels, average='weighted')\n",
    "print('F1 score, class Unrelated: %.2f%%' % (f1_scores[0]*100),'\\n'\n",
    "     'F1 score, class Disagree: %.2f%%' % (f1_scores[1]*100),'\\n'\n",
    "     'F1 score, class Discuss: %.2f%%' % (f1_scores[2]*100),'\\n'\n",
    "     'F1 score, class Agree: %.2f%%' % (f1_scores[3]*100))\n",
    "print(\"F1 score weighted: %.2f%%\" % (f1_score_weighted * 100.0))\n",
    "print(\"Accuracy: %.2f%%\" % (accuracy * 100.0))"
   ]
  },
  {
   "cell_type": "code",
   "execution_count": 53,
   "metadata": {
    "collapsed": true
   },
   "outputs": [],
   "source": [
    "name = 'Voting Classifier'\n",
    "list_of_models1.append(name)\n",
    "F1_score_unrelated1.append(f1_scores[0]*100)\n",
    "F1_score_disagree1.append(f1_scores[1]*100)\n",
    "F1_score_discuss1.append(f1_scores[2]*100)\n",
    "F1_score_agree1.append(f1_scores[3]*100)\n",
    "F1_score_weighted_list1.append(f1_score_weighted*100)\n",
    "accuracy_list1.append(accuracy*100)\n",
    "times1.append(time_of_model)"
   ]
  },
  {
   "cell_type": "code",
   "execution_count": 18,
   "metadata": {
    "collapsed": false
   },
   "outputs": [
    {
     "name": "stdout",
     "output_type": "stream",
     "text": [
      "LogisticRegression(C=1.0, class_weight=None, dual=False, fit_intercept=True,\n",
      "          intercept_scaling=1, max_iter=100, multi_class='multinomial',\n",
      "          n_jobs=1, penalty='l2', random_state=None, solver='saga',\n",
      "          tol=0.0001, verbose=0, warm_start=False)\n"
     ]
    },
    {
     "name": "stderr",
     "output_type": "stream",
     "text": [
      "C:\\Users\\Lukasz1\\Anaconda3\\lib\\site-packages\\sklearn\\linear_model\\sag.py:326: ConvergenceWarning: The max_iter was reached which means the coef_ did not converge\n",
      "  \"the coef_ did not converge\", ConvergenceWarning)\n",
      "C:\\Users\\Lukasz1\\Anaconda3\\lib\\site-packages\\sklearn\\linear_model\\sag.py:326: ConvergenceWarning: The max_iter was reached which means the coef_ did not converge\n",
      "  \"the coef_ did not converge\", ConvergenceWarning)\n",
      "C:\\Users\\Lukasz1\\Anaconda3\\lib\\site-packages\\sklearn\\linear_model\\sag.py:326: ConvergenceWarning: The max_iter was reached which means the coef_ did not converge\n",
      "  \"the coef_ did not converge\", ConvergenceWarning)\n",
      "C:\\Users\\Lukasz1\\Anaconda3\\lib\\site-packages\\sklearn\\linear_model\\sag.py:326: ConvergenceWarning: The max_iter was reached which means the coef_ did not converge\n",
      "  \"the coef_ did not converge\", ConvergenceWarning)\n",
      "C:\\Users\\Lukasz1\\Anaconda3\\lib\\site-packages\\sklearn\\linear_model\\sag.py:326: ConvergenceWarning: The max_iter was reached which means the coef_ did not converge\n",
      "  \"the coef_ did not converge\", ConvergenceWarning)\n",
      "C:\\Users\\Lukasz1\\Anaconda3\\lib\\site-packages\\sklearn\\linear_model\\sag.py:326: ConvergenceWarning: The max_iter was reached which means the coef_ did not converge\n",
      "  \"the coef_ did not converge\", ConvergenceWarning)\n",
      "C:\\Users\\Lukasz1\\Anaconda3\\lib\\site-packages\\sklearn\\linear_model\\sag.py:326: ConvergenceWarning: The max_iter was reached which means the coef_ did not converge\n",
      "  \"the coef_ did not converge\", ConvergenceWarning)\n"
     ]
    },
    {
     "name": "stdout",
     "output_type": "stream",
     "text": [
      "Time of modeling: 170.44 minutes\n",
      "[mean: 0.90464, std: 0.00504, params: {'C': 0.5, 'penalty': 'l1'},\n",
      " mean: 0.90875, std: 0.00442, params: {'C': 0.5, 'penalty': 'l2'},\n",
      " mean: 0.90650, std: 0.00556, params: {'C': 1, 'penalty': 'l1'},\n",
      " mean: 0.91101, std: 0.00306, params: {'C': 1, 'penalty': 'l2'},\n",
      " mean: 0.90122, std: 0.00374, params: {'C': 3, 'penalty': 'l1'},\n",
      " mean: 0.90958, std: 0.00218, params: {'C': 3, 'penalty': 'l2'}]\n",
      "LinearSVC(C=1.0, class_weight=None, dual=True, fit_intercept=True,\n",
      "     intercept_scaling=1, loss='squared_hinge', max_iter=1000,\n",
      "     multi_class='crammer_singer', penalty='l2', random_state=None,\n",
      "     tol=0.0001, verbose=0)\n"
     ]
    },
    {
     "name": "stderr",
     "output_type": "stream",
     "text": [
      "C:\\Users\\Lukasz1\\Anaconda3\\lib\\site-packages\\sklearn\\model_selection\\_search.py:747: DeprecationWarning: The grid_scores_ attribute was deprecated in version 0.18 in favor of the more elaborate cv_results_ attribute. The grid_scores_ attribute will not be available from 0.20\n",
      "  DeprecationWarning)\n"
     ]
    },
    {
     "name": "stdout",
     "output_type": "stream",
     "text": [
      "Time of modeling: 23.41 minutes\n",
      "[mean: 0.90875, std: 0.00132, params: {'C': 0.5, 'penalty': 'l1'},\n",
      " mean: 0.90875, std: 0.00132, params: {'C': 0.5, 'penalty': 'l2'},\n",
      " mean: 0.90274, std: 0.00291, params: {'C': 1, 'penalty': 'l1'},\n",
      " mean: 0.90275, std: 0.00291, params: {'C': 1, 'penalty': 'l2'},\n",
      " mean: 0.89329, std: 0.00299, params: {'C': 3, 'penalty': 'l1'},\n",
      " mean: 0.89329, std: 0.00298, params: {'C': 3, 'penalty': 'l2'}]\n",
      "DecisionTreeClassifier(class_weight=None, criterion='gini', max_depth=None,\n",
      "            max_features=None, max_leaf_nodes=None,\n",
      "            min_impurity_decrease=0.0, min_impurity_split=None,\n",
      "            min_samples_leaf=1, min_samples_split=2,\n",
      "            min_weight_fraction_leaf=0.0, presort=False, random_state=None,\n",
      "            splitter='best')\n"
     ]
    },
    {
     "name": "stderr",
     "output_type": "stream",
     "text": [
      "C:\\Users\\Lukasz1\\Anaconda3\\lib\\site-packages\\sklearn\\model_selection\\_search.py:747: DeprecationWarning: The grid_scores_ attribute was deprecated in version 0.18 in favor of the more elaborate cv_results_ attribute. The grid_scores_ attribute will not be available from 0.20\n",
      "  DeprecationWarning)\n"
     ]
    },
    {
     "name": "stdout",
     "output_type": "stream",
     "text": [
      "Time of modeling: 37.29 minutes\n",
      "[mean: 0.81279, std: 0.03098, params: {'criterion': 'gini', 'min_samples_leaf': 1},\n",
      " mean: 0.85847, std: 0.00316, params: {'criterion': 'gini', 'min_samples_leaf': 5},\n",
      " mean: 0.86988, std: 0.00820, params: {'criterion': 'gini', 'min_samples_leaf': 10},\n",
      " mean: 0.84214, std: 0.01889, params: {'criterion': 'entropy', 'min_samples_leaf': 1},\n",
      " mean: 0.86836, std: 0.00907, params: {'criterion': 'entropy', 'min_samples_leaf': 5},\n",
      " mean: 0.88120, std: 0.00341, params: {'criterion': 'entropy', 'min_samples_leaf': 10}]\n",
      "ExtraTreeClassifier(class_weight=None, criterion='gini', max_depth=None,\n",
      "          max_features='auto', max_leaf_nodes=None,\n",
      "          min_impurity_decrease=0.0, min_impurity_split=None,\n",
      "          min_samples_leaf=1, min_samples_split=2,\n",
      "          min_weight_fraction_leaf=0.0, random_state=None,\n",
      "          splitter='random')\n"
     ]
    },
    {
     "name": "stderr",
     "output_type": "stream",
     "text": [
      "C:\\Users\\Lukasz1\\Anaconda3\\lib\\site-packages\\sklearn\\model_selection\\_search.py:747: DeprecationWarning: The grid_scores_ attribute was deprecated in version 0.18 in favor of the more elaborate cv_results_ attribute. The grid_scores_ attribute will not be available from 0.20\n",
      "  DeprecationWarning)\n"
     ]
    },
    {
     "name": "stdout",
     "output_type": "stream",
     "text": [
      "Time of modeling: 1.65 minutes\n",
      "[mean: 0.58741, std: 0.10348, params: {'criterion': 'gini', 'min_samples_leaf': 1},\n",
      " mean: 0.65221, std: 0.08477, params: {'criterion': 'gini', 'min_samples_leaf': 5},\n",
      " mean: 0.61535, std: 0.00977, params: {'criterion': 'gini', 'min_samples_leaf': 10},\n",
      " mean: 0.54742, std: 0.11087, params: {'criterion': 'entropy', 'min_samples_leaf': 1},\n",
      " mean: 0.63489, std: 0.11584, params: {'criterion': 'entropy', 'min_samples_leaf': 5},\n",
      " mean: 0.66042, std: 0.02245, params: {'criterion': 'entropy', 'min_samples_leaf': 10}]\n"
     ]
    },
    {
     "name": "stderr",
     "output_type": "stream",
     "text": [
      "C:\\Users\\Lukasz1\\Anaconda3\\lib\\site-packages\\sklearn\\model_selection\\_search.py:747: DeprecationWarning: The grid_scores_ attribute was deprecated in version 0.18 in favor of the more elaborate cv_results_ attribute. The grid_scores_ attribute will not be available from 0.20\n",
      "  DeprecationWarning)\n"
     ]
    }
   ],
   "source": [
    "best_params = []\n",
    "\n",
    "models = [LogisticRegression(solver='saga', multi_class='multinomial'), \n",
    "          LinearSVC(multi_class='crammer_singer'),\n",
    "          DecisionTreeClassifier(),\n",
    "          ExtraTreeClassifier()]\n",
    "\n",
    "param_grids = [{\"penalty\":[\"l1\",\"l2\"], \"C\":[0.5,1,3]},\n",
    "               {\"penalty\":[\"l1\",\"l2\"], \"C\":[0.5,1,3]},\n",
    "               {\"criterion\": ['gini', 'entropy'], \"min_samples_leaf\": [1,5,10]},\n",
    "               {\"criterion\": ['gini', 'entropy'], \"min_samples_leaf\": [1,5,10]}]\n",
    "\n",
    "for model, grid in zip(models,param_grids):\n",
    "    start_time = time.time()\n",
    "    print(model)\n",
    "    cv = GridSearchCV(model,grid,scoring=\"f1_weighted\")\n",
    "    cv.fit(X_train,y_train)\n",
    "    time_of_model = round((time.time() - start_time) / 60, 2)\n",
    "    print(\"Time of modeling: %s minutes\" % (time_of_model))\n",
    "    best_params.append(cv.best_params_)\n",
    "    pprint(cv.grid_scores_)"
   ]
  },
  {
   "cell_type": "code",
   "execution_count": 52,
   "metadata": {
    "collapsed": true
   },
   "outputs": [],
   "source": [
    "list_of_models1 = []\n",
    "F1_score_unrelated1 = []\n",
    "F1_score_disagree1 = []\n",
    "F1_score_discuss1 = []\n",
    "F1_score_agree1 = []\n",
    "F1_score_weighted_list1 = []\n",
    "accuracy_list1 = []\n",
    "times1 = []"
   ]
  },
  {
   "cell_type": "code",
   "execution_count": 54,
   "metadata": {
    "collapsed": false
   },
   "outputs": [
    {
     "name": "stdout",
     "output_type": "stream",
     "text": [
      "Time of fitting: 0.3 minutes\n",
      "Linear SVC (optimised)\n",
      "F1 score, class Unrelated: 92.88% \n",
      "F1 score, class Disagree: 3.97% \n",
      "F1 score, class Discuss: 63.61% \n",
      "F1 score, class Agree: 44.27%\n",
      "F1 score weighted: 81.66%\n",
      "Accuracy: 82.96%\n"
     ]
    }
   ],
   "source": [
    "model = LinearSVC(multi_class='crammer_singer', C=0.5)\n",
    "name = 'Linear SVC (optimised)'\n",
    "start_time = time.time()\n",
    "model.fit(X_train, y_train)\n",
    "time_of_model = round((time.time() - start_time) / 60, 2)\n",
    "print(\"Time of fitting: %s minutes\" % (time_of_model))\n",
    "y_pred = model.predict(X_test)\n",
    "accuracy = metrics.accuracy_score(y_test, y_pred)\n",
    "f1_scores = metrics.f1_score(y_test, y_pred, labels=labels, average=None)\n",
    "f1_score_weighted = metrics.f1_score(y_test, y_pred, labels=labels, average='weighted')\n",
    "print(name)\n",
    "print('F1 score, class Unrelated: %.2f%%' % (f1_scores[0]*100),'\\n'\n",
    "     'F1 score, class Disagree: %.2f%%' % (f1_scores[1]*100),'\\n'\n",
    "     'F1 score, class Discuss: %.2f%%' % (f1_scores[2]*100),'\\n'\n",
    "     'F1 score, class Agree: %.2f%%' % (f1_scores[3]*100))\n",
    "print(\"F1 score weighted: %.2f%%\" % (f1_score_weighted * 100.0))\n",
    "print(\"Accuracy: %.2f%%\" % (accuracy * 100.0))\n",
    "list_of_models1.append(name)\n",
    "F1_score_unrelated1.append(f1_scores[0]*100)\n",
    "F1_score_disagree1.append(f1_scores[1]*100)\n",
    "F1_score_discuss1.append(f1_scores[2]*100)\n",
    "F1_score_agree1.append(f1_scores[3]*100)\n",
    "F1_score_weighted_list1.append(f1_score_weighted*100)\n",
    "accuracy_list1.append(accuracy*100)\n",
    "times1.append(time_of_model)"
   ]
  },
  {
   "cell_type": "code",
   "execution_count": 55,
   "metadata": {
    "collapsed": false
   },
   "outputs": [
    {
     "name": "stdout",
     "output_type": "stream",
     "text": [
      "Time of fitting: 2.92 minutes\n",
      "Decision Tree (optimised)\n",
      "F1 score, class Unrelated: 94.16% \n",
      "F1 score, class Disagree: 12.32% \n",
      "F1 score, class Discuss: 61.80% \n",
      "F1 score, class Agree: 39.94%\n",
      "F1 score weighted: 82.17%\n",
      "Accuracy: 83.27%\n"
     ]
    }
   ],
   "source": [
    "model = DecisionTreeClassifier(criterion='entropy', min_samples_leaf=10)\n",
    "name = 'Decision Tree (optimised)'\n",
    "start_time = time.time()\n",
    "model.fit(X_train, y_train)\n",
    "time_of_model = round((time.time() - start_time) / 60, 2)\n",
    "print(\"Time of fitting: %s minutes\" % (time_of_model))\n",
    "y_pred = model.predict(X_test)\n",
    "accuracy = metrics.accuracy_score(y_test, y_pred)\n",
    "f1_scores = metrics.f1_score(y_test, y_pred, labels=labels, average=None)\n",
    "f1_score_weighted = metrics.f1_score(y_test, y_pred, labels=labels, average='weighted')\n",
    "print(name)\n",
    "print('F1 score, class Unrelated: %.2f%%' % (f1_scores[0]*100),'\\n'\n",
    "     'F1 score, class Disagree: %.2f%%' % (f1_scores[1]*100),'\\n'\n",
    "     'F1 score, class Discuss: %.2f%%' % (f1_scores[2]*100),'\\n'\n",
    "     'F1 score, class Agree: %.2f%%' % (f1_scores[3]*100))\n",
    "print(\"F1 score weighted: %.2f%%\" % (f1_score_weighted * 100.0))\n",
    "print(\"Accuracy: %.2f%%\" % (accuracy * 100.0))\n",
    "list_of_models1.append(name)\n",
    "F1_score_unrelated1.append(f1_scores[0]*100)\n",
    "F1_score_disagree1.append(f1_scores[1]*100)\n",
    "F1_score_discuss1.append(f1_scores[2]*100)\n",
    "F1_score_agree1.append(f1_scores[3]*100)\n",
    "F1_score_weighted_list1.append(f1_score_weighted*100)\n",
    "accuracy_list1.append(accuracy*100)\n",
    "times1.append(time_of_model)"
   ]
  },
  {
   "cell_type": "code",
   "execution_count": 56,
   "metadata": {
    "collapsed": false
   },
   "outputs": [
    {
     "name": "stdout",
     "output_type": "stream",
     "text": [
      "Time of fitting: 0.1 minutes\n",
      "Extra Tree (optimised)\n",
      "F1 score, class Unrelated: 83.05% \n",
      "F1 score, class Disagree: 1.11% \n",
      "F1 score, class Discuss: 34.78% \n",
      "F1 score, class Agree: 26.50%\n",
      "F1 score weighted: 68.09%\n",
      "Accuracy: 69.10%\n"
     ]
    }
   ],
   "source": [
    "model = ExtraTreeClassifier(criterion='entropy', min_samples_leaf=10)\n",
    "name = 'Extra Tree (optimised)'\n",
    "start_time = time.time()\n",
    "model.fit(X_train, y_train)\n",
    "time_of_model = round((time.time() - start_time) / 60, 2)\n",
    "print(\"Time of fitting: %s minutes\" % (time_of_model))\n",
    "y_pred = model.predict(X_test)\n",
    "accuracy = metrics.accuracy_score(y_test, y_pred)\n",
    "f1_scores = metrics.f1_score(y_test, y_pred, labels=labels, average=None)\n",
    "f1_score_weighted = metrics.f1_score(y_test, y_pred, labels=labels, average='weighted')\n",
    "print(name)\n",
    "print('F1 score, class Unrelated: %.2f%%' % (f1_scores[0]*100),'\\n'\n",
    "     'F1 score, class Disagree: %.2f%%' % (f1_scores[1]*100),'\\n'\n",
    "     'F1 score, class Discuss: %.2f%%' % (f1_scores[2]*100),'\\n'\n",
    "     'F1 score, class Agree: %.2f%%' % (f1_scores[3]*100))\n",
    "print(\"F1 score weighted: %.2f%%\" % (f1_score_weighted * 100.0))\n",
    "print(\"Accuracy: %.2f%%\" % (accuracy * 100.0))\n",
    "list_of_models1.append(name)\n",
    "F1_score_unrelated1.append(f1_scores[0]*100)\n",
    "F1_score_disagree1.append(f1_scores[1]*100)\n",
    "F1_score_discuss1.append(f1_scores[2]*100)\n",
    "F1_score_agree1.append(f1_scores[3]*100)\n",
    "F1_score_weighted_list1.append(f1_score_weighted*100)\n",
    "accuracy_list1.append(accuracy*100)\n",
    "times1.append(time_of_model)"
   ]
  },
  {
   "cell_type": "code",
   "execution_count": 57,
   "metadata": {
    "collapsed": false
   },
   "outputs": [
    {
     "name": "stdout",
     "output_type": "stream",
     "text": [
      "Time of fitting: 6.55 minutes\n",
      "F1 score, class Unrelated: 93.95% \n",
      "F1 score, class Disagree: 2.72% \n",
      "F1 score, class Discuss: 66.80% \n",
      "F1 score, class Agree: 43.39%\n",
      "F1 score weighted: 82.90%\n",
      "Accuracy: 84.93%\n"
     ]
    }
   ],
   "source": [
    "models = [LogisticRegression(solver='saga', multi_class='multinomial'), \n",
    "          LinearSVC(multi_class='crammer_singer', C=0.5),\n",
    "          DecisionTreeClassifier(criterion='entropy', min_samples_leaf=10),\n",
    "          ExtraTreeClassifier(criterion='entropy', min_samples_leaf=10)]\n",
    "\n",
    "model = VotingClassifier(estimators=list(zip([\"lr\",\"lsvc\",\"dtr\",'exc'],models)),voting=\"hard\")\n",
    "name = 'Voting Classifier (optimised)'\n",
    "start_time = time.time()\n",
    "model.fit(X_train, y_train)\n",
    "time_of_model = round((time.time() - start_time) / 60, 2)\n",
    "print(\"Time of fitting: %s minutes\" % (time_of_model))\n",
    "y_pred = model.predict(X_test)\n",
    "accuracy = metrics.accuracy_score(y_test, y_pred)\n",
    "f1_scores = metrics.f1_score(y_test, y_pred, labels=labels, average=None)\n",
    "f1_score_weighted = metrics.f1_score(y_test, y_pred, labels=labels, average='weighted')\n",
    "print('F1 score, class Unrelated: %.2f%%' % (f1_scores[0]*100),'\\n'\n",
    "     'F1 score, class Disagree: %.2f%%' % (f1_scores[1]*100),'\\n'\n",
    "     'F1 score, class Discuss: %.2f%%' % (f1_scores[2]*100),'\\n'\n",
    "     'F1 score, class Agree: %.2f%%' % (f1_scores[3]*100))\n",
    "print(\"F1 score weighted: %.2f%%\" % (f1_score_weighted * 100.0))\n",
    "print(\"Accuracy: %.2f%%\" % (accuracy * 100.0))\n",
    "list_of_models1.append(name)\n",
    "F1_score_unrelated1.append(f1_scores[0]*100)\n",
    "F1_score_disagree1.append(f1_scores[1]*100)\n",
    "F1_score_discuss1.append(f1_scores[2]*100)\n",
    "F1_score_agree1.append(f1_scores[3]*100)\n",
    "F1_score_weighted_list1.append(f1_score_weighted*100)\n",
    "accuracy_list1.append(accuracy*100)\n",
    "times1.append(time_of_model)"
   ]
  },
  {
   "cell_type": "code",
   "execution_count": 58,
   "metadata": {
    "collapsed": true
   },
   "outputs": [],
   "source": [
    "summary_dict1 = {'model' : list_of_models1, \n",
    "                'F1 score, class Unrelated' : F1_score_unrelated1, \n",
    "                'F1 score, class Disagree' : F1_score_disagree1, \n",
    "                'F1 score, class Discuss' : F1_score_discuss1, \n",
    "                'F1 score, class Agree' : F1_score_agree1, \n",
    "                'F1 score weighted' : F1_score_weighted_list1,\n",
    "                'Accuracy' : accuracy_list1, \n",
    "                'Time (in minutes)' : times1}"
   ]
  },
  {
   "cell_type": "code",
   "execution_count": 59,
   "metadata": {
    "collapsed": true
   },
   "outputs": [],
   "source": [
    "summary_table1 = pd.DataFrame(summary_dict1)"
   ]
  },
  {
   "cell_type": "code",
   "execution_count": 60,
   "metadata": {
    "collapsed": false
   },
   "outputs": [
    {
     "data": {
      "text/html": [
       "<div>\n",
       "<style>\n",
       "    .dataframe thead tr:only-child th {\n",
       "        text-align: right;\n",
       "    }\n",
       "\n",
       "    .dataframe thead th {\n",
       "        text-align: left;\n",
       "    }\n",
       "\n",
       "    .dataframe tbody tr th {\n",
       "        vertical-align: top;\n",
       "    }\n",
       "</style>\n",
       "<table border=\"1\" class=\"dataframe\">\n",
       "  <thead>\n",
       "    <tr style=\"text-align: right;\">\n",
       "      <th></th>\n",
       "      <th>Accuracy</th>\n",
       "      <th>F1 score weighted</th>\n",
       "      <th>F1 score, class Agree</th>\n",
       "      <th>F1 score, class Disagree</th>\n",
       "      <th>F1 score, class Discuss</th>\n",
       "      <th>F1 score, class Unrelated</th>\n",
       "      <th>Time (in minutes)</th>\n",
       "      <th>model</th>\n",
       "    </tr>\n",
       "  </thead>\n",
       "  <tbody>\n",
       "    <tr>\n",
       "      <th>0</th>\n",
       "      <td>84.618109</td>\n",
       "      <td>82.495172</td>\n",
       "      <td>40.596628</td>\n",
       "      <td>0.851064</td>\n",
       "      <td>66.475776</td>\n",
       "      <td>93.839085</td>\n",
       "      <td>10.29</td>\n",
       "      <td>Voting Classifier</td>\n",
       "    </tr>\n",
       "    <tr>\n",
       "      <th>1</th>\n",
       "      <td>82.961476</td>\n",
       "      <td>81.659915</td>\n",
       "      <td>44.274360</td>\n",
       "      <td>3.973510</td>\n",
       "      <td>63.608958</td>\n",
       "      <td>92.879688</td>\n",
       "      <td>0.30</td>\n",
       "      <td>Linear SVC (optimised)</td>\n",
       "    </tr>\n",
       "    <tr>\n",
       "      <th>2</th>\n",
       "      <td>83.272341</td>\n",
       "      <td>82.170835</td>\n",
       "      <td>39.937679</td>\n",
       "      <td>12.321232</td>\n",
       "      <td>61.803809</td>\n",
       "      <td>94.159132</td>\n",
       "      <td>2.92</td>\n",
       "      <td>Decision Tree (optimised)</td>\n",
       "    </tr>\n",
       "    <tr>\n",
       "      <th>3</th>\n",
       "      <td>69.102428</td>\n",
       "      <td>68.091496</td>\n",
       "      <td>26.500390</td>\n",
       "      <td>1.112656</td>\n",
       "      <td>34.780667</td>\n",
       "      <td>83.053165</td>\n",
       "      <td>0.10</td>\n",
       "      <td>Extra Tree (optimised)</td>\n",
       "    </tr>\n",
       "    <tr>\n",
       "      <th>4</th>\n",
       "      <td>84.932908</td>\n",
       "      <td>82.895680</td>\n",
       "      <td>43.390895</td>\n",
       "      <td>2.717391</td>\n",
       "      <td>66.800283</td>\n",
       "      <td>93.954142</td>\n",
       "      <td>6.55</td>\n",
       "      <td>Voting Classifier (optimised)</td>\n",
       "    </tr>\n",
       "  </tbody>\n",
       "</table>\n",
       "</div>"
      ],
      "text/plain": [
       "    Accuracy  F1 score weighted  F1 score, class Agree  \\\n",
       "0  84.618109          82.495172              40.596628   \n",
       "1  82.961476          81.659915              44.274360   \n",
       "2  83.272341          82.170835              39.937679   \n",
       "3  69.102428          68.091496              26.500390   \n",
       "4  84.932908          82.895680              43.390895   \n",
       "\n",
       "   F1 score, class Disagree  F1 score, class Discuss  \\\n",
       "0                  0.851064                66.475776   \n",
       "1                  3.973510                63.608958   \n",
       "2                 12.321232                61.803809   \n",
       "3                  1.112656                34.780667   \n",
       "4                  2.717391                66.800283   \n",
       "\n",
       "   F1 score, class Unrelated  Time (in minutes)                          model  \n",
       "0                  93.839085              10.29              Voting Classifier  \n",
       "1                  92.879688               0.30         Linear SVC (optimised)  \n",
       "2                  94.159132               2.92      Decision Tree (optimised)  \n",
       "3                  83.053165               0.10         Extra Tree (optimised)  \n",
       "4                  93.954142               6.55  Voting Classifier (optimised)  "
      ]
     },
     "execution_count": 60,
     "metadata": {},
     "output_type": "execute_result"
    }
   ],
   "source": [
    "summary_table1"
   ]
  },
  {
   "cell_type": "raw",
   "metadata": {},
   "source": [
    "It turns out that the best model in terms of accuracy and F1 score weighted is Logistic Regression set for multiclass classification with default parameters"
   ]
  },
  {
   "cell_type": "markdown",
   "metadata": {},
   "source": [
    "## TO DO:\n",
    "- improving classification of class disagree (below 1%)\n",
    "- improving classification of class agree (below 50%)"
   ]
  }
 ],
 "metadata": {
  "kernelspec": {
   "display_name": "Python 3",
   "language": "python",
   "name": "python3"
  },
  "language_info": {
   "codemirror_mode": {
    "name": "ipython",
    "version": 3
   },
   "file_extension": ".py",
   "mimetype": "text/x-python",
   "name": "python",
   "nbconvert_exporter": "python",
   "pygments_lexer": "ipython3",
   "version": "3.6.0"
  }
 },
 "nbformat": 4,
 "nbformat_minor": 2
}
